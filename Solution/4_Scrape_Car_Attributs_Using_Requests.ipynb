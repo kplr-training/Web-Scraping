{
    "cells": [
        {
            "cell_type": "markdown",
            "metadata": {
                "id": "view-in-github",
                "colab_type": "text"
            },
            "source": [
                "<a href=\"https://colab.research.google.com/github/kplr-training/Web-Scraping/blob/main/Solution/4_Scrape_Car_Attributs_Using_Requests.ipynb\" target=\"_blank\"><img src=\"https://colab.research.google.com/assets/colab-badge.svg\" alt=\"Open In Colab\"/></a>"
            ]
        },
        {
            "attachments": {},
            "cell_type": "markdown",
            "metadata": {
                "colab_type": "text",
                "id": "view-in-github"
            },
            "source": [
                "<a href=\"https://colab.research.google.com/github/kplr-training/Web-Scraping/blob/main/Solution/4_Scrape_Car_Attributs_Using_Requests.ipynb\" target=\"_parent\"><img src=\"https://colab.research.google.com/assets/colab-badge.svg\" alt=\"Open In Colab\"/></a>"
            ]
        },
        {
            "attachments": {},
            "cell_type": "markdown",
            "metadata": {
                "id": "h8gMqje7fLaz"
            },
            "source": [
                "# **R\u00e9cup\u00e9rer les attributs d'une voiture \u00e0 l'aide de Requests**\n",
                "\n",
                "\n",
                "\n"
            ]
        },
        {
            "attachments": {},
            "cell_type": "markdown",
            "metadata": {
                "id": "v3EeEJMQfV5p"
            },
            "source": [
                "- Nous allons extraire des donn\u00e9es des sites web d'un concessionnaire automobile : nous allons extraire - la marque - le mod\u00e8le - le type de carburant - les kilom\u00e8tres - l'ann\u00e9e du mod\u00e8le - le prix."
            ]
        },
        {
            "attachments": {},
            "cell_type": "markdown",
            "metadata": {
                "id": "s-sTOi1Fk8nr"
            },
            "source": [
                "![image](https://user-images.githubusercontent.com/123748165/224308731-cb43fb4b-69f9-4d5d-b52f-1d2b157aaae5.png)"
            ]
        },
        {
            "cell_type": "markdown",
            "metadata": {
                "id": "0Xns7B-tlmH6"
            },
            "source": [
                "#### 1 - Imports"
            ]
        },
        {
            "cell_type": "code",
            "execution_count": null,
            "metadata": {
                "id": "JVYiPLf4dDZS"
            },
            "outputs": [],
            "source": [
                "import requests \n",
                "import pandas as pd \n",
                "import sqlalchemy"
            ]
        },
        {
            "cell_type": "markdown",
            "metadata": {
                "id": "rUGEYZteln-U"
            },
            "source": [
                "#### 2 - CURL "
            ]
        },
        {
            "attachments": {},
            "cell_type": "markdown",
            "metadata": {
                "id": "yT9XtzZ7vVqQ"
            },
            "source": [
                "**Comment afficher les en-t\u00eates HTTP ? [Y compris les cookies]**"
            ]
        },
        {
            "attachments": {},
            "cell_type": "markdown",
            "metadata": {
                "id": "zKommC8r0Euf"
            },
            "source": [
                "- Avant de pouvoir utiliser les en-t\u00eates dans notre code, nous devons \u00eatre en mesure de les r\u00e9cup\u00e9rer quelque part. Pour ce faire, utilisons notre propre navigateur et allons sur le site web cible. \n",
                "- Pour notre exemple, allons sur https://www.cazoo.co.uk/cars/?page=2 > clic droit > inspecter pour ouvrir les outils de d\u00e9veloppement."
            ]
        },
        {
            "attachments": {},
            "cell_type": "markdown",
            "metadata": {
                "id": "1Lvfi6uC0Myi"
            },
            "source": [
                "- nous allons naviguer dans l'onglet R\u00e9seau et rechercher la requ\u00eate \"?page 2\"."
            ]
        },
        {
            "attachments": {},
            "cell_type": "markdown",
            "metadata": {
                "id": "Jp1EqRNC1e0-"
            },
            "source": [
                "![image](https://user-images.githubusercontent.com/123748165/224308744-61c1ed97-1680-47bf-a531-0f0daa24f5ce.png)"
            ]
        },
        {
            "cell_type": "markdown",
            "metadata": {
                "id": "GWu8NQVe1gtx"
            },
            "source": [
                "- Clicking on the file we\u2019ll open by default the Headers tab and by scrolling down we\u2019ll see the Request Headers section."
            ]
        },
        {
            "attachments": {},
            "cell_type": "markdown",
            "metadata": {
                "id": "hh3MS-C217DX"
            },
            "source": [
                "![image](https://user-images.githubusercontent.com/123748165/224308758-b28b3301-4f75-42ac-a682-953790c4405c.png)\n"
            ]
        },
        {
            "cell_type": "markdown",
            "metadata": {
                "id": "qIR1sW7RvMt6"
            },
            "source": [
                "***Headers Arguments***"
            ]
        },
        {
            "attachments": {},
            "cell_type": "markdown",
            "metadata": {
                "id": "jNrmLp8MvX8r"
            },
            "source": [
                "- **User-Agent** : Il s'agit probablement de l'en-t\u00eate le plus important, car il identifie \"le type d'application, le syst\u00e8me d'exploitation, le fournisseur du logiciel ou la version du logiciel de l'agent utilisateur demandeur\".\n",
                "le fournisseur du logiciel ou la version logicielle de l'agent utilisateur du logiciel demandeur\", ce qui en fait le premier contr\u00f4le effectu\u00e9 par la plupart des serveurs.\n",
                "\n",
                "- **Accept-Language** : Bien qu'elle ne soit pas toujours n\u00e9cessaire, cette fonction indique au serveur la version linguistique des donn\u00e9es \u00e0 fournir. Lorsqu'il y a une grande diff\u00e9rence entre chaque demande du point de vue de la langue, cela peut indiquer au serveur qu'un robot est impliqu\u00e9.\n",
                "\n",
                "- **Referer** : L'en-t\u00eate HTTP Referer indique au serveur la page d'o\u00f9 provient l'utilisateur. Bien qu'il soit principalement utilis\u00e9 pour le suivi, il peut \u00e9galement nous aider \u00e0 imiter le comportement d'un utilisateur organique, par exemple en indiquant au serveur que nous venons d'un moteur de recherche comme Google.\n",
                "\n",
                "- **Cookie** : Les cookies permettent aux serveurs de communiquer \u00e0 l'aide d'un petit morceau de donn\u00e9es, mais que se passe-t-il lorsque le serveur envoie un cookie mais que le navigateur ne le stocke pas et ne le renvoie pas lors de la requ\u00eate suivante ? Les cookies peuvent \u00e9galement \u00eatre utilis\u00e9s pour identifier si la demande provient d'un utilisateur r\u00e9el ou d'un robot.\n",
                "- **sec-fetch-site** : cet en-t\u00eate indique au serveur si une demande de ressource provient de la m\u00eame origine, du m\u00eame site, d'un site diff\u00e9rent ou s'il s'agit d'une demande \"initi\u00e9e par l'utilisateur\". Le serveur peut alors utiliser cette information pour d\u00e9cider si la demande doit \u00eatre autoris\u00e9e.\n",
                "- **sec-fetch-mode** : permet \u00e0 un serveur de faire la distinction entre : les demandes provenant d'un utilisateur naviguant entre des pages HTML, et les demandes de chargement d'images et d'autres ressources. Par exemple, cet en-t\u00eate contiendrait navigate pour les demandes de navigation de haut niveau, tandis que no-cors serait utilis\u00e9 pour le chargement d'une image.\n",
                "\n",
                "- **sec-fetch-Dest** : permet aux serveurs de d\u00e9terminer s'ils doivent r\u00e9pondre \u00e0 une demande en fonction de son utilisation pr\u00e9vue."
            ]
        },
        {
            "cell_type": "code",
            "execution_count": null,
            "metadata": {
                "id": "T15m18s7dI8u"
            },
            "outputs": [],
            "source": [
                "headers = {\n",
                "    'authority': 'www.cazoo.co.uk',\n",
                "    'sec-ch-ua': '^\\\\^',\n",
                "    'cazoo-language': 'en',\n",
                "    'sec-ch-ua-mobile': '?0',\n",
                "    'user-agent': 'Mozilla/5.0 (Windows NT 10.0; Win64; x64) AppleWebKit/537.36 (KHTML, like Gecko) Chrome/96.0.4664.45 Safari/537.36',\n",
                "    'cazoo-market': 'gb',\n",
                "    'sec-ch-ua-platform': '^\\\\^Windows^\\\\^',\n",
                "    'accept': '*/*',\n",
                "    'sec-fetch-site': 'same-origin',\n",
                "    'sec-fetch-mode': 'cors',\n",
                "    'sec-fetch-dest': 'empty',\n",
                "    'referer': 'https://www.cazoo.co.uk/cars/?page=2',\n",
                "    'accept-language': 'en-US,en;q=0.9,de-DE;q=0.8,de;q=0.7',\n",
                "    'cookie': 'base_device_id=d0a0a3f4-6853-469a-920f-6050e04a23d0; base_session_count=1; base_session_id=aa7da8a1-20b0-44f4-b994-7b19b379af45',\n",
                "}\n",
                "\n",
                "params = (\n",
                "    ('sort', 'price-asc'),\n",
                ")\n",
                "\n",
                "response = requests.get('https://www.cazoo.co.uk/api/search', headers=headers, params=params)\n"
            ]
        },
        {
            "cell_type": "markdown",
            "metadata": {
                "id": "Hhbrts5SlxIx"
            },
            "source": [
                "3 - Check Status Code"
            ]
        },
        {
            "cell_type": "code",
            "execution_count": null,
            "metadata": {
                "colab": {
                    "base_uri": "https://localhost:8080/"
                },
                "id": "H7y7aW2WdLj9",
                "outputId": "9fc71eff-fe38-480e-b646-7b43c70d0095"
            },
            "outputs": [
                {
                    "data": {
                        "text/plain": [
                            "<Response [200]>"
                        ]
                    },
                    "execution_count": 3,
                    "metadata": {},
                    "output_type": "execute_result"
                }
            ],
            "source": [
                "response"
            ]
        },
        {
            "attachments": {},
            "cell_type": "markdown",
            "metadata": {
                "id": "US1-RKpel8Tm"
            },
            "source": [
                "#### 4 - Cr\u00e9er un objet Json"
            ]
        },
        {
            "cell_type": "code",
            "execution_count": null,
            "metadata": {
                "id": "IcZ12ZsMdN01"
            },
            "outputs": [],
            "source": [
                "results_json = response.json()\n",
                "results_json"
            ]
        },
        {
            "cell_type": "markdown",
            "metadata": {
                "id": "ovOfRzAzmC-g"
            },
            "source": [
                "#### 5 - Output Keys"
            ]
        },
        {
            "cell_type": "code",
            "execution_count": null,
            "metadata": {
                "colab": {
                    "base_uri": "https://localhost:8080/"
                },
                "id": "ZxTHHug_dSAL",
                "outputId": "f6fd8de8-8774-4d31-ca5f-5439050f680e"
            },
            "outputs": [
                {
                    "data": {
                        "text/plain": [
                            "dict_keys(['results', 'filters', 'pagination'])"
                        ]
                    },
                    "execution_count": 5,
                    "metadata": {},
                    "output_type": "execute_result"
                }
            ],
            "source": [
                "results_json.keys()"
            ]
        },
        {
            "cell_type": "code",
            "execution_count": null,
            "metadata": {
                "id": "a5YhhhAFdT2F"
            },
            "outputs": [],
            "source": [
                "listing = results_json['results']"
            ]
        },
        {
            "attachments": {},
            "cell_type": "markdown",
            "metadata": {
                "id": "vpDzRY3SmKoZ"
            },
            "source": [
                "#### 6 - Trouvez vos donn\u00e9es \n",
                "- marque\n",
                "- mod\u00e8le\n",
                "- type de carburant\n",
                "- Kilom\u00e9trage\n",
                "- ann\u00e9e du mod\u00e8le\n",
                "- prix"
            ]
        },
        {
            "cell_type": "code",
            "execution_count": null,
            "metadata": {
                "colab": {
                    "base_uri": "https://localhost:8080/",
                    "height": 35
                },
                "id": "a0v3rpUWdXGC",
                "outputId": "8cd4303e-e7e0-4bdf-c814-8bb9b1985d66"
            },
            "outputs": [
                {
                    "data": {
                        "application/vnd.google.colaboratory.intrinsic+json": {
                            "type": "string"
                        },
                        "text/plain": [
                            "'Peugeot'"
                        ]
                    },
                    "execution_count": 7,
                    "metadata": {},
                    "output_type": "execute_result"
                }
            ],
            "source": [
                "# brand\n",
                "listing[0]['make']"
            ]
        },
        {
            "cell_type": "code",
            "execution_count": null,
            "metadata": {
                "colab": {
                    "base_uri": "https://localhost:8080/",
                    "height": 35
                },
                "id": "Jc5rdNf1dZYo",
                "outputId": "5020f094-877e-49fe-c220-9c893158ec30"
            },
            "outputs": [
                {
                    "data": {
                        "application/vnd.google.colaboratory.intrinsic+json": {
                            "type": "string"
                        },
                        "text/plain": [
                            "'108'"
                        ]
                    },
                    "execution_count": 8,
                    "metadata": {},
                    "output_type": "execute_result"
                }
            ],
            "source": [
                "# model\n",
                "listing[0]['model']"
            ]
        },
        {
            "cell_type": "code",
            "execution_count": null,
            "metadata": {
                "colab": {
                    "base_uri": "https://localhost:8080/",
                    "height": 35
                },
                "id": "JRomkyH7db6u",
                "outputId": "56876368-7705-4315-d4d5-903f10095c27"
            },
            "outputs": [
                {
                    "data": {
                        "application/vnd.google.colaboratory.intrinsic+json": {
                            "type": "string"
                        },
                        "text/plain": [
                            "'Petrol'"
                        ]
                    },
                    "execution_count": 9,
                    "metadata": {},
                    "output_type": "execute_result"
                }
            ],
            "source": [
                "# fuel type\n",
                "listing[0]['fuelType']['description']"
            ]
        },
        {
            "cell_type": "code",
            "execution_count": null,
            "metadata": {
                "colab": {
                    "base_uri": "https://localhost:8080/"
                },
                "id": "UbFlfZcvdem7",
                "outputId": "1d49f3d0-9b27-4093-9d75-e72865d2af02"
            },
            "outputs": [
                {
                    "data": {
                        "text/plain": [
                            "34207"
                        ]
                    },
                    "execution_count": 10,
                    "metadata": {},
                    "output_type": "execute_result"
                }
            ],
            "source": [
                "#miles\n",
                "listing[0]['mileage']"
            ]
        },
        {
            "cell_type": "code",
            "execution_count": null,
            "metadata": {
                "colab": {
                    "base_uri": "https://localhost:8080/"
                },
                "id": "DTc42A5hdkq6",
                "outputId": "3ec2ceaa-c3bd-49fe-80d6-aa47858039c5"
            },
            "outputs": [
                {
                    "data": {
                        "text/plain": [
                            "2015"
                        ]
                    },
                    "execution_count": 11,
                    "metadata": {},
                    "output_type": "execute_result"
                }
            ],
            "source": [
                "# model year\n",
                "listing[0]['modelYear']"
            ]
        },
        {
            "cell_type": "code",
            "execution_count": null,
            "metadata": {
                "colab": {
                    "base_uri": "https://localhost:8080/"
                },
                "id": "TRssI5EWdmyI",
                "outputId": "e524b874-91fd-4e62-8f5e-2dd6f254c7fc"
            },
            "outputs": [
                {
                    "data": {
                        "text/plain": [
                            "6550"
                        ]
                    },
                    "execution_count": 12,
                    "metadata": {},
                    "output_type": "execute_result"
                }
            ],
            "source": [
                "# price\n",
                "listing[0]['pricing']['fullPrice']['value']"
            ]
        },
        {
            "attachments": {},
            "cell_type": "markdown",
            "metadata": {
                "id": "qpH4YM-EmUQX"
            },
            "source": [
                "#### 7 - Mettre tout ensemble - Boucler les r\u00e9sultats et ajouter des donn\u00e9es dans une liste"
            ]
        },
        {
            "cell_type": "code",
            "execution_count": null,
            "metadata": {
                "id": "WhUds9hDdp7O"
            },
            "outputs": [],
            "source": [
                "# empty lists\n",
                "brand = []\n",
                "model = []\n",
                "fuel_type = []\n",
                "miles = []\n",
                "model_year = []\n",
                "price = []\n",
                "\n",
                "for result in listing:\n",
                "    \n",
                "    # brand\n",
                "    brand.append(result['make'])\n",
                "    \n",
                "    # model \n",
                "    model.append(result['model'])\n",
                "    \n",
                "    # fuel type\n",
                "    fuel_type.append(result['fuelType']['description'])\n",
                "    \n",
                "    # miles\n",
                "    miles.append(result['mileage'])\n",
                "    \n",
                "    #model year\n",
                "    model_year.append(result['modelYear'])\n",
                "    \n",
                "    # price\n",
                "    price.append(result['pricing']['fullPrice']['value'])"
            ]
        },
        {
            "cell_type": "markdown",
            "metadata": {
                "id": "Fpmmv4LamcfV"
            },
            "source": [
                "#### 8 - Pandas Dataframe - Single Page"
            ]
        },
        {
            "cell_type": "code",
            "execution_count": null,
            "metadata": {
                "id": "JzzM470Ldrq7"
            },
            "outputs": [],
            "source": [
                "car_df = pd.DataFrame({'Brand': brand, 'Model':model, 'Fuel Type': fuel_type, 'Mileage':miles,\n",
                "                      'Model Year': model_year, 'Price':price})"
            ]
        },
        {
            "cell_type": "code",
            "execution_count": null,
            "metadata": {
                "colab": {
                    "base_uri": "https://localhost:8080/",
                    "height": 1000
                },
                "id": "1g5u5Mefd4n0",
                "outputId": "05bdf0a3-cb13-48e8-aee3-e62a38329577"
            },
            "outputs": [
                {
                    "data": {
                        "text/html": [
                            "\n",
                            "  <div id=\"df-912b043b-3019-4a9f-847d-6408e78d6571\">\n",
                            "    <div class=\"colab-df-container\">\n",
                            "      <div>\n",
                            "<style scoped>\n",
                            "    .dataframe tbody tr th:only-of-type {\n",
                            "        vertical-align: middle;\n",
                            "    }\n",
                            "\n",
                            "    .dataframe tbody tr th {\n",
                            "        vertical-align: top;\n",
                            "    }\n",
                            "\n",
                            "    .dataframe thead th {\n",
                            "        text-align: right;\n",
                            "    }\n",
                            "</style>\n",
                            "<table border=\"1\" class=\"dataframe\">\n",
                            "  <thead>\n",
                            "    <tr style=\"text-align: right;\">\n",
                            "      <th></th>\n",
                            "      <th>Brand</th>\n",
                            "      <th>Model</th>\n",
                            "      <th>Fuel Type</th>\n",
                            "      <th>Mileage</th>\n",
                            "      <th>Model Year</th>\n",
                            "      <th>Price</th>\n",
                            "    </tr>\n",
                            "  </thead>\n",
                            "  <tbody>\n",
                            "    <tr>\n",
                            "      <th>0</th>\n",
                            "      <td>Peugeot</td>\n",
                            "      <td>108</td>\n",
                            "      <td>Petrol</td>\n",
                            "      <td>34207</td>\n",
                            "      <td>2015</td>\n",
                            "      <td>6550</td>\n",
                            "    </tr>\n",
                            "    <tr>\n",
                            "      <th>1</th>\n",
                            "      <td>Dacia</td>\n",
                            "      <td>Sandero Stepway</td>\n",
                            "      <td>Petrol</td>\n",
                            "      <td>65547</td>\n",
                            "      <td>2012</td>\n",
                            "      <td>6550</td>\n",
                            "    </tr>\n",
                            "    <tr>\n",
                            "      <th>2</th>\n",
                            "      <td>Suzuki</td>\n",
                            "      <td>Celerio</td>\n",
                            "      <td>Petrol</td>\n",
                            "      <td>23190</td>\n",
                            "      <td>2015</td>\n",
                            "      <td>6650</td>\n",
                            "    </tr>\n",
                            "    <tr>\n",
                            "      <th>3</th>\n",
                            "      <td>Fiat</td>\n",
                            "      <td>500</td>\n",
                            "      <td>Petrol</td>\n",
                            "      <td>41216</td>\n",
                            "      <td>2015</td>\n",
                            "      <td>6850</td>\n",
                            "    </tr>\n",
                            "    <tr>\n",
                            "      <th>4</th>\n",
                            "      <td>Dacia</td>\n",
                            "      <td>Sandero</td>\n",
                            "      <td>Petrol</td>\n",
                            "      <td>10837</td>\n",
                            "      <td>2012</td>\n",
                            "      <td>6900</td>\n",
                            "    </tr>\n",
                            "    <tr>\n",
                            "      <th>5</th>\n",
                            "      <td>Ford</td>\n",
                            "      <td>Ka</td>\n",
                            "      <td>Petrol</td>\n",
                            "      <td>34980</td>\n",
                            "      <td>2015</td>\n",
                            "      <td>6950</td>\n",
                            "    </tr>\n",
                            "    <tr>\n",
                            "      <th>6</th>\n",
                            "      <td>Suzuki</td>\n",
                            "      <td>Celerio</td>\n",
                            "      <td>Petrol</td>\n",
                            "      <td>23778</td>\n",
                            "      <td>2015</td>\n",
                            "      <td>7050</td>\n",
                            "    </tr>\n",
                            "    <tr>\n",
                            "      <th>7</th>\n",
                            "      <td>Citroen</td>\n",
                            "      <td>C1</td>\n",
                            "      <td>Petrol</td>\n",
                            "      <td>29950</td>\n",
                            "      <td>2016</td>\n",
                            "      <td>7150</td>\n",
                            "    </tr>\n",
                            "    <tr>\n",
                            "      <th>8</th>\n",
                            "      <td>Dacia</td>\n",
                            "      <td>Sandero</td>\n",
                            "      <td>Petrol</td>\n",
                            "      <td>30780</td>\n",
                            "      <td>2017</td>\n",
                            "      <td>7150</td>\n",
                            "    </tr>\n",
                            "    <tr>\n",
                            "      <th>9</th>\n",
                            "      <td>Toyota</td>\n",
                            "      <td>AYGO</td>\n",
                            "      <td>Petrol</td>\n",
                            "      <td>55659</td>\n",
                            "      <td>2017</td>\n",
                            "      <td>7250</td>\n",
                            "    </tr>\n",
                            "    <tr>\n",
                            "      <th>10</th>\n",
                            "      <td>Citroen</td>\n",
                            "      <td>C3 Picasso</td>\n",
                            "      <td>Petrol</td>\n",
                            "      <td>61634</td>\n",
                            "      <td>2016</td>\n",
                            "      <td>7250</td>\n",
                            "    </tr>\n",
                            "    <tr>\n",
                            "      <th>11</th>\n",
                            "      <td>Kia</td>\n",
                            "      <td>Picanto</td>\n",
                            "      <td>Petrol</td>\n",
                            "      <td>36057</td>\n",
                            "      <td>2015</td>\n",
                            "      <td>7300</td>\n",
                            "    </tr>\n",
                            "    <tr>\n",
                            "      <th>12</th>\n",
                            "      <td>Toyota</td>\n",
                            "      <td>AYGO</td>\n",
                            "      <td>Petrol</td>\n",
                            "      <td>36463</td>\n",
                            "      <td>2016</td>\n",
                            "      <td>7350</td>\n",
                            "    </tr>\n",
                            "    <tr>\n",
                            "      <th>13</th>\n",
                            "      <td>Fiat</td>\n",
                            "      <td>500</td>\n",
                            "      <td>Petrol</td>\n",
                            "      <td>35522</td>\n",
                            "      <td>2015</td>\n",
                            "      <td>7350</td>\n",
                            "    </tr>\n",
                            "    <tr>\n",
                            "      <th>14</th>\n",
                            "      <td>Dacia</td>\n",
                            "      <td>Sandero</td>\n",
                            "      <td>Petrol</td>\n",
                            "      <td>27495</td>\n",
                            "      <td>2017</td>\n",
                            "      <td>7450</td>\n",
                            "    </tr>\n",
                            "    <tr>\n",
                            "      <th>15</th>\n",
                            "      <td>Vauxhall</td>\n",
                            "      <td>Astra GTC</td>\n",
                            "      <td>Petrol</td>\n",
                            "      <td>42517</td>\n",
                            "      <td>2015</td>\n",
                            "      <td>7450</td>\n",
                            "    </tr>\n",
                            "    <tr>\n",
                            "      <th>16</th>\n",
                            "      <td>Vauxhall</td>\n",
                            "      <td>Corsa</td>\n",
                            "      <td>Petrol</td>\n",
                            "      <td>38675</td>\n",
                            "      <td>2016</td>\n",
                            "      <td>7550</td>\n",
                            "    </tr>\n",
                            "    <tr>\n",
                            "      <th>17</th>\n",
                            "      <td>Vauxhall</td>\n",
                            "      <td>Viva</td>\n",
                            "      <td>Petrol</td>\n",
                            "      <td>16550</td>\n",
                            "      <td>2016</td>\n",
                            "      <td>7550</td>\n",
                            "    </tr>\n",
                            "    <tr>\n",
                            "      <th>18</th>\n",
                            "      <td>Fiat</td>\n",
                            "      <td>Tipo</td>\n",
                            "      <td>Diesel</td>\n",
                            "      <td>50445</td>\n",
                            "      <td>2016</td>\n",
                            "      <td>7550</td>\n",
                            "    </tr>\n",
                            "    <tr>\n",
                            "      <th>19</th>\n",
                            "      <td>Ford</td>\n",
                            "      <td>Ka</td>\n",
                            "      <td>Petrol</td>\n",
                            "      <td>28293</td>\n",
                            "      <td>2015</td>\n",
                            "      <td>7600</td>\n",
                            "    </tr>\n",
                            "    <tr>\n",
                            "      <th>20</th>\n",
                            "      <td>Fiat</td>\n",
                            "      <td>500</td>\n",
                            "      <td>Petrol</td>\n",
                            "      <td>38115</td>\n",
                            "      <td>2015</td>\n",
                            "      <td>7600</td>\n",
                            "    </tr>\n",
                            "    <tr>\n",
                            "      <th>21</th>\n",
                            "      <td>Ford</td>\n",
                            "      <td>Fiesta</td>\n",
                            "      <td>Petrol</td>\n",
                            "      <td>61086</td>\n",
                            "      <td>2017</td>\n",
                            "      <td>7650</td>\n",
                            "    </tr>\n",
                            "    <tr>\n",
                            "      <th>22</th>\n",
                            "      <td>Peugeot</td>\n",
                            "      <td>108</td>\n",
                            "      <td>Petrol</td>\n",
                            "      <td>14824</td>\n",
                            "      <td>2015</td>\n",
                            "      <td>7650</td>\n",
                            "    </tr>\n",
                            "    <tr>\n",
                            "      <th>23</th>\n",
                            "      <td>Fiat</td>\n",
                            "      <td>500</td>\n",
                            "      <td>Petrol</td>\n",
                            "      <td>17693</td>\n",
                            "      <td>2015</td>\n",
                            "      <td>7700</td>\n",
                            "    </tr>\n",
                            "    <tr>\n",
                            "      <th>24</th>\n",
                            "      <td>Fiat</td>\n",
                            "      <td>500</td>\n",
                            "      <td>Petrol</td>\n",
                            "      <td>33133</td>\n",
                            "      <td>2017</td>\n",
                            "      <td>7700</td>\n",
                            "    </tr>\n",
                            "    <tr>\n",
                            "      <th>25</th>\n",
                            "      <td>Vauxhall</td>\n",
                            "      <td>Corsa</td>\n",
                            "      <td>Petrol</td>\n",
                            "      <td>62525</td>\n",
                            "      <td>2017</td>\n",
                            "      <td>7750</td>\n",
                            "    </tr>\n",
                            "    <tr>\n",
                            "      <th>26</th>\n",
                            "      <td>Fiat</td>\n",
                            "      <td>500</td>\n",
                            "      <td>Petrol</td>\n",
                            "      <td>47463</td>\n",
                            "      <td>2015</td>\n",
                            "      <td>7750</td>\n",
                            "    </tr>\n",
                            "    <tr>\n",
                            "      <th>27</th>\n",
                            "      <td>Peugeot</td>\n",
                            "      <td>2008</td>\n",
                            "      <td>Petrol</td>\n",
                            "      <td>52965</td>\n",
                            "      <td>2015</td>\n",
                            "      <td>7750</td>\n",
                            "    </tr>\n",
                            "    <tr>\n",
                            "      <th>28</th>\n",
                            "      <td>Volkswagen</td>\n",
                            "      <td>up!</td>\n",
                            "      <td>Petrol</td>\n",
                            "      <td>13127</td>\n",
                            "      <td>2015</td>\n",
                            "      <td>7800</td>\n",
                            "    </tr>\n",
                            "    <tr>\n",
                            "      <th>29</th>\n",
                            "      <td>Toyota</td>\n",
                            "      <td>AYGO</td>\n",
                            "      <td>Petrol</td>\n",
                            "      <td>33907</td>\n",
                            "      <td>2015</td>\n",
                            "      <td>7850</td>\n",
                            "    </tr>\n",
                            "    <tr>\n",
                            "      <th>30</th>\n",
                            "      <td>Toyota</td>\n",
                            "      <td>AYGO</td>\n",
                            "      <td>Petrol</td>\n",
                            "      <td>36871</td>\n",
                            "      <td>2018</td>\n",
                            "      <td>7850</td>\n",
                            "    </tr>\n",
                            "    <tr>\n",
                            "      <th>31</th>\n",
                            "      <td>Toyota</td>\n",
                            "      <td>AYGO</td>\n",
                            "      <td>Petrol</td>\n",
                            "      <td>31724</td>\n",
                            "      <td>2016</td>\n",
                            "      <td>7850</td>\n",
                            "    </tr>\n",
                            "    <tr>\n",
                            "      <th>32</th>\n",
                            "      <td>Toyota</td>\n",
                            "      <td>AYGO</td>\n",
                            "      <td>Petrol</td>\n",
                            "      <td>22523</td>\n",
                            "      <td>2015</td>\n",
                            "      <td>7850</td>\n",
                            "    </tr>\n",
                            "    <tr>\n",
                            "      <th>33</th>\n",
                            "      <td>DS</td>\n",
                            "      <td>DS 3</td>\n",
                            "      <td>Petrol</td>\n",
                            "      <td>40837</td>\n",
                            "      <td>2015</td>\n",
                            "      <td>7900</td>\n",
                            "    </tr>\n",
                            "    <tr>\n",
                            "      <th>34</th>\n",
                            "      <td>Ford</td>\n",
                            "      <td>Fiesta</td>\n",
                            "      <td>Petrol</td>\n",
                            "      <td>64720</td>\n",
                            "      <td>2016</td>\n",
                            "      <td>7900</td>\n",
                            "    </tr>\n",
                            "    <tr>\n",
                            "      <th>35</th>\n",
                            "      <td>Fiat</td>\n",
                            "      <td>500</td>\n",
                            "      <td>Petrol</td>\n",
                            "      <td>27119</td>\n",
                            "      <td>2015</td>\n",
                            "      <td>7950</td>\n",
                            "    </tr>\n",
                            "    <tr>\n",
                            "      <th>36</th>\n",
                            "      <td>Fiat</td>\n",
                            "      <td>500</td>\n",
                            "      <td>Petrol</td>\n",
                            "      <td>21691</td>\n",
                            "      <td>2015</td>\n",
                            "      <td>7950</td>\n",
                            "    </tr>\n",
                            "    <tr>\n",
                            "      <th>37</th>\n",
                            "      <td>Fiat</td>\n",
                            "      <td>500</td>\n",
                            "      <td>Petrol</td>\n",
                            "      <td>23006</td>\n",
                            "      <td>2015</td>\n",
                            "      <td>7950</td>\n",
                            "    </tr>\n",
                            "    <tr>\n",
                            "      <th>38</th>\n",
                            "      <td>Fiat</td>\n",
                            "      <td>500</td>\n",
                            "      <td>Petrol</td>\n",
                            "      <td>28516</td>\n",
                            "      <td>2015</td>\n",
                            "      <td>7950</td>\n",
                            "    </tr>\n",
                            "    <tr>\n",
                            "      <th>39</th>\n",
                            "      <td>Vauxhall</td>\n",
                            "      <td>Astra</td>\n",
                            "      <td>Diesel</td>\n",
                            "      <td>37435</td>\n",
                            "      <td>2016</td>\n",
                            "      <td>7950</td>\n",
                            "    </tr>\n",
                            "    <tr>\n",
                            "      <th>40</th>\n",
                            "      <td>DS</td>\n",
                            "      <td>DS 3</td>\n",
                            "      <td>Petrol</td>\n",
                            "      <td>43589</td>\n",
                            "      <td>2017</td>\n",
                            "      <td>8000</td>\n",
                            "    </tr>\n",
                            "    <tr>\n",
                            "      <th>41</th>\n",
                            "      <td>Kia</td>\n",
                            "      <td>Picanto</td>\n",
                            "      <td>Petrol</td>\n",
                            "      <td>29356</td>\n",
                            "      <td>2015</td>\n",
                            "      <td>8000</td>\n",
                            "    </tr>\n",
                            "    <tr>\n",
                            "      <th>42</th>\n",
                            "      <td>Seat</td>\n",
                            "      <td>Ibiza</td>\n",
                            "      <td>Petrol</td>\n",
                            "      <td>91225</td>\n",
                            "      <td>2018</td>\n",
                            "      <td>8000</td>\n",
                            "    </tr>\n",
                            "    <tr>\n",
                            "      <th>43</th>\n",
                            "      <td>Smart</td>\n",
                            "      <td>forfour</td>\n",
                            "      <td>Petrol</td>\n",
                            "      <td>5316</td>\n",
                            "      <td>2018</td>\n",
                            "      <td>8000</td>\n",
                            "    </tr>\n",
                            "    <tr>\n",
                            "      <th>44</th>\n",
                            "      <td>Ford</td>\n",
                            "      <td>Fiesta</td>\n",
                            "      <td>Petrol</td>\n",
                            "      <td>59500</td>\n",
                            "      <td>2016</td>\n",
                            "      <td>8050</td>\n",
                            "    </tr>\n",
                            "    <tr>\n",
                            "      <th>45</th>\n",
                            "      <td>Ford</td>\n",
                            "      <td>Fiesta</td>\n",
                            "      <td>Petrol</td>\n",
                            "      <td>41048</td>\n",
                            "      <td>2016</td>\n",
                            "      <td>8050</td>\n",
                            "    </tr>\n",
                            "    <tr>\n",
                            "      <th>46</th>\n",
                            "      <td>Smart</td>\n",
                            "      <td>forfour</td>\n",
                            "      <td>Petrol</td>\n",
                            "      <td>7800</td>\n",
                            "      <td>2018</td>\n",
                            "      <td>8050</td>\n",
                            "    </tr>\n",
                            "    <tr>\n",
                            "      <th>47</th>\n",
                            "      <td>Vauxhall</td>\n",
                            "      <td>Corsa</td>\n",
                            "      <td>Petrol</td>\n",
                            "      <td>59965</td>\n",
                            "      <td>2017</td>\n",
                            "      <td>8100</td>\n",
                            "    </tr>\n",
                            "  </tbody>\n",
                            "</table>\n",
                            "</div>\n",
                            "      <button class=\"colab-df-convert\" onclick=\"convertToInteractive('df-912b043b-3019-4a9f-847d-6408e78d6571')\"\n",
                            "              title=\"Convert this dataframe to an interactive table.\"\n",
                            "              style=\"display:none;\">\n",
                            "        \n",
                            "  <svg xmlns=\"http://www.w3.org/2000/svg\" height=\"24px\"viewBox=\"0 0 24 24\"\n",
                            "       width=\"24px\">\n",
                            "    <path d=\"M0 0h24v24H0V0z\" fill=\"none\"/>\n",
                            "    <path d=\"M18.56 5.44l.94 2.06.94-2.06 2.06-.94-2.06-.94-.94-2.06-.94 2.06-2.06.94zm-11 1L8.5 8.5l.94-2.06 2.06-.94-2.06-.94L8.5 2.5l-.94 2.06-2.06.94zm10 10l.94 2.06.94-2.06 2.06-.94-2.06-.94-.94-2.06-.94 2.06-2.06.94z\"/><path d=\"M17.41 7.96l-1.37-1.37c-.4-.4-.92-.59-1.43-.59-.52 0-1.04.2-1.43.59L10.3 9.45l-7.72 7.72c-.78.78-.78 2.05 0 2.83L4 21.41c.39.39.9.59 1.41.59.51 0 1.02-.2 1.41-.59l7.78-7.78 2.81-2.81c.8-.78.8-2.07 0-2.86zM5.41 20L4 18.59l7.72-7.72 1.47 1.35L5.41 20z\"/>\n",
                            "  </svg>\n",
                            "      </button>\n",
                            "      \n",
                            "  <style>\n",
                            "    .colab-df-container {\n",
                            "      display:flex;\n",
                            "      flex-wrap:wrap;\n",
                            "      gap: 12px;\n",
                            "    }\n",
                            "\n",
                            "    .colab-df-convert {\n",
                            "      background-color: #E8F0FE;\n",
                            "      border: none;\n",
                            "      border-radius: 50%;\n",
                            "      cursor: pointer;\n",
                            "      display: none;\n",
                            "      fill: #1967D2;\n",
                            "      height: 32px;\n",
                            "      padding: 0 0 0 0;\n",
                            "      width: 32px;\n",
                            "    }\n",
                            "\n",
                            "    .colab-df-convert:hover {\n",
                            "      background-color: #E2EBFA;\n",
                            "      box-shadow: 0px 1px 2px rgba(60, 64, 67, 0.3), 0px 1px 3px 1px rgba(60, 64, 67, 0.15);\n",
                            "      fill: #174EA6;\n",
                            "    }\n",
                            "\n",
                            "    [theme=dark] .colab-df-convert {\n",
                            "      background-color: #3B4455;\n",
                            "      fill: #D2E3FC;\n",
                            "    }\n",
                            "\n",
                            "    [theme=dark] .colab-df-convert:hover {\n",
                            "      background-color: #434B5C;\n",
                            "      box-shadow: 0px 1px 3px 1px rgba(0, 0, 0, 0.15);\n",
                            "      filter: drop-shadow(0px 1px 2px rgba(0, 0, 0, 0.3));\n",
                            "      fill: #FFFFFF;\n",
                            "    }\n",
                            "  </style>\n",
                            "\n",
                            "      <script>\n",
                            "        const buttonEl =\n",
                            "          document.querySelector('#df-912b043b-3019-4a9f-847d-6408e78d6571 button.colab-df-convert');\n",
                            "        buttonEl.style.display =\n",
                            "          google.colab.kernel.accessAllowed ? 'block' : 'none';\n",
                            "\n",
                            "        async function convertToInteractive(key) {\n",
                            "          const element = document.querySelector('#df-912b043b-3019-4a9f-847d-6408e78d6571');\n",
                            "          const dataTable =\n",
                            "            await google.colab.kernel.invokeFunction('convertToInteractive',\n",
                            "                                                     [key], {});\n",
                            "          if (!dataTable) return;\n",
                            "\n",
                            "          const docLinkHtml = 'Like what you see? Visit the ' +\n",
                            "            '<a target=\"_blank\" href=https://colab.research.google.com/notebooks/data_table.ipynb>data table notebook</a>'\n",
                            "            + ' to learn more about interactive tables.';\n",
                            "          element.innerHTML = '';\n",
                            "          dataTable['output_type'] = 'display_data';\n",
                            "          await google.colab.output.renderOutput(dataTable, element);\n",
                            "          const docLink = document.createElement('div');\n",
                            "          docLink.innerHTML = docLinkHtml;\n",
                            "          element.appendChild(docLink);\n",
                            "        }\n",
                            "      </script>\n",
                            "    </div>\n",
                            "  </div>\n",
                            "  "
                        ],
                        "text/plain": [
                            "         Brand            Model Fuel Type  Mileage  Model Year  Price\n",
                            "0      Peugeot              108    Petrol    34207        2015   6550\n",
                            "1        Dacia  Sandero Stepway    Petrol    65547        2012   6550\n",
                            "2       Suzuki          Celerio    Petrol    23190        2015   6650\n",
                            "3         Fiat              500    Petrol    41216        2015   6850\n",
                            "4        Dacia          Sandero    Petrol    10837        2012   6900\n",
                            "5         Ford               Ka    Petrol    34980        2015   6950\n",
                            "6       Suzuki          Celerio    Petrol    23778        2015   7050\n",
                            "7      Citroen               C1    Petrol    29950        2016   7150\n",
                            "8        Dacia          Sandero    Petrol    30780        2017   7150\n",
                            "9       Toyota             AYGO    Petrol    55659        2017   7250\n",
                            "10     Citroen       C3 Picasso    Petrol    61634        2016   7250\n",
                            "11         Kia          Picanto    Petrol    36057        2015   7300\n",
                            "12      Toyota             AYGO    Petrol    36463        2016   7350\n",
                            "13        Fiat              500    Petrol    35522        2015   7350\n",
                            "14       Dacia          Sandero    Petrol    27495        2017   7450\n",
                            "15    Vauxhall        Astra GTC    Petrol    42517        2015   7450\n",
                            "16    Vauxhall            Corsa    Petrol    38675        2016   7550\n",
                            "17    Vauxhall             Viva    Petrol    16550        2016   7550\n",
                            "18        Fiat             Tipo    Diesel    50445        2016   7550\n",
                            "19        Ford               Ka    Petrol    28293        2015   7600\n",
                            "20        Fiat              500    Petrol    38115        2015   7600\n",
                            "21        Ford           Fiesta    Petrol    61086        2017   7650\n",
                            "22     Peugeot              108    Petrol    14824        2015   7650\n",
                            "23        Fiat              500    Petrol    17693        2015   7700\n",
                            "24        Fiat              500    Petrol    33133        2017   7700\n",
                            "25    Vauxhall            Corsa    Petrol    62525        2017   7750\n",
                            "26        Fiat              500    Petrol    47463        2015   7750\n",
                            "27     Peugeot             2008    Petrol    52965        2015   7750\n",
                            "28  Volkswagen              up!    Petrol    13127        2015   7800\n",
                            "29      Toyota             AYGO    Petrol    33907        2015   7850\n",
                            "30      Toyota             AYGO    Petrol    36871        2018   7850\n",
                            "31      Toyota             AYGO    Petrol    31724        2016   7850\n",
                            "32      Toyota             AYGO    Petrol    22523        2015   7850\n",
                            "33          DS             DS 3    Petrol    40837        2015   7900\n",
                            "34        Ford           Fiesta    Petrol    64720        2016   7900\n",
                            "35        Fiat              500    Petrol    27119        2015   7950\n",
                            "36        Fiat              500    Petrol    21691        2015   7950\n",
                            "37        Fiat              500    Petrol    23006        2015   7950\n",
                            "38        Fiat              500    Petrol    28516        2015   7950\n",
                            "39    Vauxhall            Astra    Diesel    37435        2016   7950\n",
                            "40          DS             DS 3    Petrol    43589        2017   8000\n",
                            "41         Kia          Picanto    Petrol    29356        2015   8000\n",
                            "42        Seat            Ibiza    Petrol    91225        2018   8000\n",
                            "43       Smart          forfour    Petrol     5316        2018   8000\n",
                            "44        Ford           Fiesta    Petrol    59500        2016   8050\n",
                            "45        Ford           Fiesta    Petrol    41048        2016   8050\n",
                            "46       Smart          forfour    Petrol     7800        2018   8050\n",
                            "47    Vauxhall            Corsa    Petrol    59965        2017   8100"
                        ]
                    },
                    "execution_count": 17,
                    "metadata": {},
                    "output_type": "execute_result"
                }
            ],
            "source": [
                "car_df"
            ]
        },
        {
            "cell_type": "code",
            "execution_count": null,
            "metadata": {
                "id": "YjfADvuQd74m"
            },
            "outputs": [],
            "source": [
                "car_df.to_csv('data.csv')"
            ]
        },
        {
            "attachments": {},
            "cell_type": "markdown",
            "metadata": {
                "id": "VKO18lhPmjRu"
            },
            "source": [
                "#### 9 - Scraping Plusieurs Pages (ici : 20 pages)"
            ]
        },
        {
            "cell_type": "code",
            "execution_count": null,
            "metadata": {
                "colab": {
                    "base_uri": "https://localhost:8080/",
                    "height": 424
                },
                "id": "GmQeCZgMebpd",
                "outputId": "79b725b7-0111-4c7a-b933-595ca5879f11"
            },
            "outputs": [
                {
                    "data": {
                        "text/html": [
                            "\n",
                            "  <div id=\"df-b49bbd88-0d7a-48ee-870c-38c5bfa9b4ab\">\n",
                            "    <div class=\"colab-df-container\">\n",
                            "      <div>\n",
                            "<style scoped>\n",
                            "    .dataframe tbody tr th:only-of-type {\n",
                            "        vertical-align: middle;\n",
                            "    }\n",
                            "\n",
                            "    .dataframe tbody tr th {\n",
                            "        vertical-align: top;\n",
                            "    }\n",
                            "\n",
                            "    .dataframe thead th {\n",
                            "        text-align: right;\n",
                            "    }\n",
                            "</style>\n",
                            "<table border=\"1\" class=\"dataframe\">\n",
                            "  <thead>\n",
                            "    <tr style=\"text-align: right;\">\n",
                            "      <th></th>\n",
                            "      <th>Brand</th>\n",
                            "      <th>Model</th>\n",
                            "      <th>Fuel Type</th>\n",
                            "      <th>Mileage</th>\n",
                            "      <th>Model Year</th>\n",
                            "      <th>Price</th>\n",
                            "    </tr>\n",
                            "  </thead>\n",
                            "  <tbody>\n",
                            "    <tr>\n",
                            "      <th>0</th>\n",
                            "      <td>Peugeot</td>\n",
                            "      <td>108</td>\n",
                            "      <td>Petrol</td>\n",
                            "      <td>34207</td>\n",
                            "      <td>2015</td>\n",
                            "      <td>6550</td>\n",
                            "    </tr>\n",
                            "    <tr>\n",
                            "      <th>1</th>\n",
                            "      <td>Dacia</td>\n",
                            "      <td>Sandero Stepway</td>\n",
                            "      <td>Petrol</td>\n",
                            "      <td>65547</td>\n",
                            "      <td>2012</td>\n",
                            "      <td>6550</td>\n",
                            "    </tr>\n",
                            "    <tr>\n",
                            "      <th>2</th>\n",
                            "      <td>Suzuki</td>\n",
                            "      <td>Celerio</td>\n",
                            "      <td>Petrol</td>\n",
                            "      <td>23190</td>\n",
                            "      <td>2015</td>\n",
                            "      <td>6650</td>\n",
                            "    </tr>\n",
                            "    <tr>\n",
                            "      <th>3</th>\n",
                            "      <td>Fiat</td>\n",
                            "      <td>500</td>\n",
                            "      <td>Petrol</td>\n",
                            "      <td>41216</td>\n",
                            "      <td>2015</td>\n",
                            "      <td>6850</td>\n",
                            "    </tr>\n",
                            "    <tr>\n",
                            "      <th>4</th>\n",
                            "      <td>Dacia</td>\n",
                            "      <td>Sandero</td>\n",
                            "      <td>Petrol</td>\n",
                            "      <td>10837</td>\n",
                            "      <td>2012</td>\n",
                            "      <td>6900</td>\n",
                            "    </tr>\n",
                            "    <tr>\n",
                            "      <th>...</th>\n",
                            "      <td>...</td>\n",
                            "      <td>...</td>\n",
                            "      <td>...</td>\n",
                            "      <td>...</td>\n",
                            "      <td>...</td>\n",
                            "      <td>...</td>\n",
                            "    </tr>\n",
                            "    <tr>\n",
                            "      <th>955</th>\n",
                            "      <td>Fiat</td>\n",
                            "      <td>500</td>\n",
                            "      <td>Petrol</td>\n",
                            "      <td>28935</td>\n",
                            "      <td>2015</td>\n",
                            "      <td>11600</td>\n",
                            "    </tr>\n",
                            "    <tr>\n",
                            "      <th>956</th>\n",
                            "      <td>Audi</td>\n",
                            "      <td>A1</td>\n",
                            "      <td>Diesel</td>\n",
                            "      <td>48361</td>\n",
                            "      <td>2016</td>\n",
                            "      <td>11650</td>\n",
                            "    </tr>\n",
                            "    <tr>\n",
                            "      <th>957</th>\n",
                            "      <td>Nissan</td>\n",
                            "      <td>Pulsar</td>\n",
                            "      <td>Petrol</td>\n",
                            "      <td>16518</td>\n",
                            "      <td>2015</td>\n",
                            "      <td>11650</td>\n",
                            "    </tr>\n",
                            "    <tr>\n",
                            "      <th>958</th>\n",
                            "      <td>Fiat</td>\n",
                            "      <td>500</td>\n",
                            "      <td>Petrol</td>\n",
                            "      <td>5874</td>\n",
                            "      <td>2018</td>\n",
                            "      <td>11650</td>\n",
                            "    </tr>\n",
                            "    <tr>\n",
                            "      <th>959</th>\n",
                            "      <td>Hyundai</td>\n",
                            "      <td>i20</td>\n",
                            "      <td>Petrol</td>\n",
                            "      <td>7917</td>\n",
                            "      <td>2017</td>\n",
                            "      <td>11650</td>\n",
                            "    </tr>\n",
                            "  </tbody>\n",
                            "</table>\n",
                            "<p>960 rows \u00d7 6 columns</p>\n",
                            "</div>\n",
                            "      <button class=\"colab-df-convert\" onclick=\"convertToInteractive('df-b49bbd88-0d7a-48ee-870c-38c5bfa9b4ab')\"\n",
                            "              title=\"Convert this dataframe to an interactive table.\"\n",
                            "              style=\"display:none;\">\n",
                            "        \n",
                            "  <svg xmlns=\"http://www.w3.org/2000/svg\" height=\"24px\"viewBox=\"0 0 24 24\"\n",
                            "       width=\"24px\">\n",
                            "    <path d=\"M0 0h24v24H0V0z\" fill=\"none\"/>\n",
                            "    <path d=\"M18.56 5.44l.94 2.06.94-2.06 2.06-.94-2.06-.94-.94-2.06-.94 2.06-2.06.94zm-11 1L8.5 8.5l.94-2.06 2.06-.94-2.06-.94L8.5 2.5l-.94 2.06-2.06.94zm10 10l.94 2.06.94-2.06 2.06-.94-2.06-.94-.94-2.06-.94 2.06-2.06.94z\"/><path d=\"M17.41 7.96l-1.37-1.37c-.4-.4-.92-.59-1.43-.59-.52 0-1.04.2-1.43.59L10.3 9.45l-7.72 7.72c-.78.78-.78 2.05 0 2.83L4 21.41c.39.39.9.59 1.41.59.51 0 1.02-.2 1.41-.59l7.78-7.78 2.81-2.81c.8-.78.8-2.07 0-2.86zM5.41 20L4 18.59l7.72-7.72 1.47 1.35L5.41 20z\"/>\n",
                            "  </svg>\n",
                            "      </button>\n",
                            "      \n",
                            "  <style>\n",
                            "    .colab-df-container {\n",
                            "      display:flex;\n",
                            "      flex-wrap:wrap;\n",
                            "      gap: 12px;\n",
                            "    }\n",
                            "\n",
                            "    .colab-df-convert {\n",
                            "      background-color: #E8F0FE;\n",
                            "      border: none;\n",
                            "      border-radius: 50%;\n",
                            "      cursor: pointer;\n",
                            "      display: none;\n",
                            "      fill: #1967D2;\n",
                            "      height: 32px;\n",
                            "      padding: 0 0 0 0;\n",
                            "      width: 32px;\n",
                            "    }\n",
                            "\n",
                            "    .colab-df-convert:hover {\n",
                            "      background-color: #E2EBFA;\n",
                            "      box-shadow: 0px 1px 2px rgba(60, 64, 67, 0.3), 0px 1px 3px 1px rgba(60, 64, 67, 0.15);\n",
                            "      fill: #174EA6;\n",
                            "    }\n",
                            "\n",
                            "    [theme=dark] .colab-df-convert {\n",
                            "      background-color: #3B4455;\n",
                            "      fill: #D2E3FC;\n",
                            "    }\n",
                            "\n",
                            "    [theme=dark] .colab-df-convert:hover {\n",
                            "      background-color: #434B5C;\n",
                            "      box-shadow: 0px 1px 3px 1px rgba(0, 0, 0, 0.15);\n",
                            "      filter: drop-shadow(0px 1px 2px rgba(0, 0, 0, 0.3));\n",
                            "      fill: #FFFFFF;\n",
                            "    }\n",
                            "  </style>\n",
                            "\n",
                            "      <script>\n",
                            "        const buttonEl =\n",
                            "          document.querySelector('#df-b49bbd88-0d7a-48ee-870c-38c5bfa9b4ab button.colab-df-convert');\n",
                            "        buttonEl.style.display =\n",
                            "          google.colab.kernel.accessAllowed ? 'block' : 'none';\n",
                            "\n",
                            "        async function convertToInteractive(key) {\n",
                            "          const element = document.querySelector('#df-b49bbd88-0d7a-48ee-870c-38c5bfa9b4ab');\n",
                            "          const dataTable =\n",
                            "            await google.colab.kernel.invokeFunction('convertToInteractive',\n",
                            "                                                     [key], {});\n",
                            "          if (!dataTable) return;\n",
                            "\n",
                            "          const docLinkHtml = 'Like what you see? Visit the ' +\n",
                            "            '<a target=\"_blank\" href=https://colab.research.google.com/notebooks/data_table.ipynb>data table notebook</a>'\n",
                            "            + ' to learn more about interactive tables.';\n",
                            "          element.innerHTML = '';\n",
                            "          dataTable['output_type'] = 'display_data';\n",
                            "          await google.colab.output.renderOutput(dataTable, element);\n",
                            "          const docLink = document.createElement('div');\n",
                            "          docLink.innerHTML = docLinkHtml;\n",
                            "          element.appendChild(docLink);\n",
                            "        }\n",
                            "      </script>\n",
                            "    </div>\n",
                            "  </div>\n",
                            "  "
                        ],
                        "text/plain": [
                            "       Brand            Model Fuel Type  Mileage  Model Year  Price\n",
                            "0    Peugeot              108    Petrol    34207        2015   6550\n",
                            "1      Dacia  Sandero Stepway    Petrol    65547        2012   6550\n",
                            "2     Suzuki          Celerio    Petrol    23190        2015   6650\n",
                            "3       Fiat              500    Petrol    41216        2015   6850\n",
                            "4      Dacia          Sandero    Petrol    10837        2012   6900\n",
                            "..       ...              ...       ...      ...         ...    ...\n",
                            "955     Fiat              500    Petrol    28935        2015  11600\n",
                            "956     Audi               A1    Diesel    48361        2016  11650\n",
                            "957   Nissan           Pulsar    Petrol    16518        2015  11650\n",
                            "958     Fiat              500    Petrol     5874        2018  11650\n",
                            "959  Hyundai              i20    Petrol     7917        2017  11650\n",
                            "\n",
                            "[960 rows x 6 columns]"
                        ]
                    },
                    "execution_count": 19,
                    "metadata": {},
                    "output_type": "execute_result"
                }
            ],
            "source": [
                "headers = {\n",
                "    'authority': 'www.cazoo.co.uk',\n",
                "    'sec-ch-ua': '^\\\\^',\n",
                "    'cazoo-language': 'en',\n",
                "    'sec-ch-ua-mobile': '?0',\n",
                "    'user-agent': 'Mozilla/5.0 (Windows NT 10.0; Win64; x64) AppleWebKit/537.36 (KHTML, like Gecko) Chrome/96.0.4664.45 Safari/537.36',\n",
                "    'cazoo-market': 'gb',\n",
                "    'sec-ch-ua-platform': '^\\\\^Windows^\\\\^',\n",
                "    'accept': '*/*',\n",
                "    'sec-fetch-site': 'same-origin',\n",
                "    'sec-fetch-mode': 'cors',\n",
                "    'sec-fetch-dest': 'empty',\n",
                "    'referer': 'https://www.cazoo.co.uk/cars/',\n",
                "    'accept-language': 'en-US,en;q=0.9,de-DE;q=0.8,de;q=0.7',\n",
                "    'cookie': 'base_device_id=d0a0a3f4-6853-469a-920f-6050e04a23d0; base_session_count=1',\n",
                "}\n",
                "\n",
                "# empty lists\n",
                "brand = []\n",
                "model = []\n",
                "fuel_type = []\n",
                "miles = []\n",
                "model_year = []\n",
                "price = []\n",
                "\n",
                "for i in range(1,21):\n",
                "\n",
                "    params = (\n",
                "        ('page', str(i)),\n",
                "        ('sort', 'price-asc'),\n",
                "    )\n",
                "\n",
                "    response = requests.get('https://www.cazoo.co.uk/api/search', headers=headers, params=params)\n",
                "\n",
                "    results_json = response.json()\n",
                "    \n",
                "    listing = results_json['results']\n",
                "    \n",
                "    for result in listing:\n",
                "    \n",
                "        # brand\n",
                "        try:\n",
                "            brand.append(result['make'])\n",
                "        except:\n",
                "            brand.append('')\n",
                "\n",
                "        # model \n",
                "        try:\n",
                "            model.append(result['model'])\n",
                "        except:\n",
                "            model.append('')\n",
                "\n",
                "        # fuel type\n",
                "        try:\n",
                "            fuel_type.append(result['fuelType']['description'])\n",
                "        except:\n",
                "            fuel_type.append('')\n",
                "\n",
                "        # miles\n",
                "        try:\n",
                "            miles.append(result['mileage'])\n",
                "        except:\n",
                "            miles.append('')\n",
                "\n",
                "        #model year\n",
                "        try:\n",
                "            model_year.append(result['modelYear'])\n",
                "        except:\n",
                "            model_year\n",
                "\n",
                "        # price\n",
                "        try:\n",
                "            price.append(result['pricing']['fullPrice']['value'])\n",
                "        except:\n",
                "            price.append('')\n",
                "        \n",
                "\n",
                "car_df_multiple = pd.DataFrame({'Brand': brand, 'Model':model, 'Fuel Type': fuel_type, 'Mileage':miles,\n",
                "                      'Model Year': model_year, 'Price':price})   \n",
                "\n",
                "car_df_multiple\n"
            ]
        },
        {
            "cell_type": "code",
            "execution_count": null,
            "metadata": {
                "id": "zG83GEgHeiBm"
            },
            "outputs": [],
            "source": [
                "car_df_multiple.to_csv('data_multiple.csv')"
            ]
        }
    ],
    "metadata": {
        "kernelspec": {
            "display_name": "Python 3",
            "language": "python",
            "name": "python3"
        },
        "language_info": {
            "name": "python",
            "version": "3.7.0"
        },
        "vscode": {
            "interpreter": {
                "hash": "ab1d0033c7335c0fe0bc7bbdf0206b9f203ed6908047dbf4ec92ecd764faa004"
            }
        }
    },
    "nbformat": 4,
    "nbformat_minor": 0
}