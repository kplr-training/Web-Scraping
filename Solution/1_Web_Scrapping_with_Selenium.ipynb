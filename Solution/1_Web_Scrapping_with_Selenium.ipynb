{
    "cells": [
        {
            "cell_type": "markdown",
            "metadata": {
                "id": "view-in-github",
                "colab_type": "text"
            },
            "source": [
                "<a href=\"https://colab.research.google.com/github/kplr-training/Web-Scraping/blob/main/Solution/1_Web_Scrapping_with_Selenium.ipynb\" target=\"_blank\"><img src=\"https://colab.research.google.com/assets/colab-badge.svg\" alt=\"Open In Colab\"/></a>"
            ]
        },
        {
            "cell_type": "markdown",
            "metadata": {
                "id": "amXTdSj4A-Rt"
            },
            "source": [
                "# **Tutoriel : Extraire les articles d'une revue d'intellingence artificielle selon les cat\u00e9gories**"
            ]
        },
        {
            "attachments": {},
            "cell_type": "markdown",
            "metadata": {
                "id": "-5W8EuKzcQD2"
            },
            "source": [
                "![image](https://user-images.githubusercontent.com/123748165/224306735-142be7ed-a969-458e-9bd3-65360d593a3e.png)"
            ]
        },
        {
            "cell_type": "markdown",
            "metadata": {
                "id": "mSMgllBGu6K8"
            },
            "source": [
                "- Afin de pouvoir utiliser Selenium il faut d\u2019abord installer le Web Driver associ\u00e9 au navigateur que l\u2019on souhaite utiliser.\n",
                "\n",
                "\n",
                "- Vous devez ensuite installer Selenium et le Web Driver dans votre environnement.\n",
                "\n",
                "- Pour ce faire, on va utiliser dans notre notebook les commandes suivantes :"
            ]
        },
        {
            "cell_type": "code",
            "execution_count": null,
            "metadata": {
                "id": "eLhu1CeVAiuT"
            },
            "outputs": [],
            "source": [
                "!sudo add-apt-repository ppa:saiarcot895/chromium-beta\n",
                "!sudo apt remove chromium-browser\n",
                "!sudo snap remove chromium\n",
                "!sudo apt install chromium-browser\n",
                "!pip install selenium-stealth\n",
                "!pip3 install selenium\n",
                "!apt-get update\n",
                "!apt install chromium-chromedriver\n",
                "!cp /usr/lib/chromium-browser/chromedriver /usr/bin\n",
                "import sys\n",
                "sys.path.insert(0,'/usr/lib/chromium-browser/chromedriver')"
            ]
        },
        {
            "cell_type": "markdown",
            "metadata": {
                "id": "TrWyTNoAu9hj"
            },
            "source": [
                "On importe les modules dont on aura besoin :"
            ]
        },
        {
            "cell_type": "code",
            "execution_count": null,
            "metadata": {
                "id": "rrivkz3EAu6W"
            },
            "outputs": [],
            "source": [
                "from selenium.webdriver.common.by import By\n",
                "from selenium import webdriver\n",
                "from selenium.webdriver.common.keys import Keys\n",
                "from selenium.webdriver.support.ui import WebDriverWait\n",
                "from selenium.webdriver.support import expected_conditions as EC\n",
                "from time import sleep\n",
                "from urllib.error import HTTPError\n",
                "from time import time\n",
                "from selenium.common.exceptions import NoSuchElementException\n",
                "import pandas as pd\n",
                "from selenium_stealth import stealth"
            ]
        },
        {
            "cell_type": "markdown",
            "metadata": {
                "id": "b0GiPLgLu_-5"
            },
            "source": [
                "Enfin, on modifie quelques options du Chrome Driver pour pouvoir l\u2019utiliser depuis un notebook :"
            ]
        },
        {
            "cell_type": "code",
            "execution_count": null,
            "metadata": {
                "colab": {
                    "base_uri": "https://localhost:8080/"
                },
                "id": "kk7-WVIsYTbo",
                "outputId": "2e4c3796-bd6e-4b6c-c502-57cc7283746c"
            },
            "outputs": [
                {
                    "name": "stderr",
                    "output_type": "stream",
                    "text": [
                        "<ipython-input-113-3a4dc5b0e958>:5: DeprecationWarning: use options instead of chrome_options\n",
                        "  wd = webdriver.Chrome('chromedriver',chrome_options=chrome_options)\n",
                        "<ipython-input-113-3a4dc5b0e958>:6: DeprecationWarning: use options instead of chrome_options\n",
                        "  driver =webdriver.Chrome('chromedriver',chrome_options=chrome_options)\n"
                    ]
                }
            ],
            "source": [
                "chrome_options = webdriver.ChromeOptions()\n",
                "chrome_options.add_argument('--headless')\n",
                "chrome_options.add_argument('--no-sandbox')\n",
                "chrome_options.add_argument('--disable-dev-shm-usage')\n",
                "wd = webdriver.Chrome('chromedriver',chrome_options=chrome_options)\n",
                "driver =webdriver.Chrome('chromedriver',chrome_options=chrome_options)\n",
                "stealth(driver,\n",
                "              languages=[\"fr-FR\", \"fr\"],\n",
                "              vendor=\"Google Inc.\",\n",
                "              platform=\"Win32\",\n",
                "              webgl_vendor=\"Intel Inc.\",\n",
                "              renderer=\"Intel Iris OpenGL Engine\",\n",
                "              fix_hairline=True,\n",
                "          )"
            ]
        },
        {
            "attachments": {},
            "cell_type": "markdown",
            "metadata": {
                "id": "z1wk76ChvFtR"
            },
            "source": [
                "# **Web Scraping des liens des articles**\n",
                "Pour pouvoir faire correctement du Web Scraping, il faut se poser deux questions :\n",
                "\n",
                "- Comment est construit le site web ?\n",
                "\n",
                "- Quelles donn\u00e9es souhaite-t-on recuperer ?\n",
                "\n",
                "Pour pouvoir avoir une idee de l\u2019architecture du site web que l\u2019on etudie on peut utiliser une fonctionnalit\u00e9 tres utile disponible dans tous les navigateurs : Inspecter l\u2019element."
            ]
        },
        {
            "attachments": {},
            "cell_type": "markdown",
            "metadata": {
                "id": "h1c-lrm1ceH_"
            },
            "source": [
                "![image](https://user-images.githubusercontent.com/123748165/224308453-e6a3ac7f-2d9e-4b14-a905-6bdff6fb1a2a.png)"
            ]
        },
        {
            "cell_type": "code",
            "execution_count": null,
            "metadata": {
                "id": "8kpxC8CWrGdR"
            },
            "outputs": [],
            "source": [
                "website=\"https://larevueia.fr/\""
            ]
        },
        {
            "cell_type": "code",
            "execution_count": null,
            "metadata": {
                "id": "9keh-cumokx1"
            },
            "outputs": [],
            "source": [
                "driver.get(\"https://larevueia.fr/\")"
            ]
        },
        {
            "attachments": {},
            "cell_type": "markdown",
            "metadata": {
                "id": "xgdad_YAvpa5"
            },
            "source": [
                "- Dans notre cas, on se rend vite compte que les articles sont repartis en cat\u00e9gories et que chaque categorie contient plusieurs pages. \n",
                "\n",
                "- On peut donc commencer par recuperer tout d\u2019abord les liens des articles pour ensuite pouvoir recuperer les donnees article par article.\n",
                "\n",
                "- Pour ce faire, on va tout d\u2019abord creer une liste contenant l\u2019ensemble des categories de notre site :"
            ]
        },
        {
            "cell_type": "code",
            "execution_count": null,
            "metadata": {
                "id": "_icARXLVqwHZ"
            },
            "outputs": [],
            "source": [
                "categories = ['ethique', 'nlp', 'evenements', 'ml-dl', 'data-science', 'vision']"
            ]
        },
        {
            "attachments": {},
            "cell_type": "markdown",
            "metadata": {
                "id": "6IMV48kTvs_h"
            },
            "source": [
                "On peut donc facilement explorer le site en parcourant les liens des pages des differentes categories :"
            ]
        },
        {
            "cell_type": "code",
            "execution_count": null,
            "metadata": {
                "id": "aCgh3rLOqyJO"
            },
            "outputs": [],
            "source": [
                "articles_links = []\n",
                "for category in categories:\n",
                "  category_link = website + category\n",
                "  driver.get(category_link)\n",
                "  href_links = driver.find_elements(By.XPATH,'//h2/a[@href]')\n",
                "  for href_link in href_links:\n",
                "    articles_links.append([href_link.get_attribute('href'), category])"
            ]
        },
        {
            "attachments": {},
            "cell_type": "markdown",
            "metadata": {
                "id": "2opPYt_8v2vf"
            },
            "source": [
                "- Pour expliquer plus precisement ce que fait le code ci-dessus, on peut dire que l\u2019on parcourt tout d\u2019abord la liste des categories, pour chaque categorie on cr\u00e9e une variable, qui contient son URL.\n",
                "\n",
                "- Puis on ouvre la page avec la fonction get() de notre driver.\n",
                "\n",
                "- On utilise ensuite la fonction find_elements_by_xpath() pour rechercher les liens href se trouvant \u00e0 l\u2019interieur de balise h2 (ceci decoule directement de notre analyse du site avec la fonctionnalit\u00e9 Inspecter l\u2019element de notre navigateur, vous pouvez copier le xpath directement sur le navigateur).\n",
                "\n",
                "- Finalement, on ne recupere que le lien de l\u2019article avec la fonction get_attribute(), et on ajoute donc \u00e0 notre liste le lien de l\u2019article ainsi que la categorie \u00e0 laquelle il correspond (ce qui peut \u00eatre utile plus tard pour faire du NLP avec un modele de classification par exemple).\n",
                "\n",
                "- On pourrait aller plus loin et rajouter une deuxieme boucle pour incrementer \u00e0 chaque fois le nombre de pages afin de parcourir tous les articles de chaque categorie, et pas seulement ceux presents sur la premiere page."
            ]
        },
        {
            "attachments": {},
            "cell_type": "markdown",
            "metadata": {
                "id": "0XZyDOujwgjv"
            },
            "source": [
                "# **Web Scraping du contenu des articles avec Selenium**\n",
                "\n",
                "- Une fois l\u2019ensemble des liens d\u2019articles recuperes, la prochaine etape est d\u2019analyser le contenu de la page pour chaque article. \n",
                "\n",
                "- Encore une fois, on utilise la fonctionnalite Inspecter l\u2019element, afin d\u2019identifier la structure de la page et de retrouver les elements \u00e0 scraper.\n",
                "\n",
                "- On se rend vite compte que dans notre cas le contenu de l\u2019article est stock\u00e9 dans une classe nommee article-post. On va donc recuperer le contenu texte de cette classe et tout stocker dans un data frame avec Pandas :"
            ]
        },
        {
            "cell_type": "code",
            "execution_count": null,
            "metadata": {
                "id": "s-dr087cq0QQ"
            },
            "outputs": [],
            "source": [
                "df_articles = pd.DataFrame()\n",
                "for article_link in articles_links:\n",
                "  driver.get(article_link[0])\n",
                "  content_scrap = driver.find_elements(By.CLASS_NAME,'article-post')\n",
                "  if (len(content_scrap) != 0):\n",
                "    content = content_scrap[0].text\n",
                "  article = {'category' : article_link[1], 'content' : content}\n",
                "  df_article = pd.DataFrame(article, index = [0])\n",
                "  df_articles = df_articles.append(df_article, ignore_index=True)"
            ]
        },
        {
            "attachments": {},
            "cell_type": "markdown",
            "metadata": {
                "id": "i-lR_5EfxE_I"
            },
            "source": [
                "On se retrouve donc avec un data frame contenant nos articles, avec \u00e0 chaque fois la categorie \u00e0 laquelle il correspond. On peut finalement transformer ce data frame en fichier csv, afin de stocker les donn\u00e9es :"
            ]
        },
        {
            "cell_type": "code",
            "execution_count": null,
            "metadata": {
                "id": "UQaeCRBzq2WQ"
            },
            "outputs": [],
            "source": [
                "df_articles.to_csv('la_revue_ia_articles.csv')"
            ]
        },
        {
            "cell_type": "code",
            "execution_count": null,
            "metadata": {
                "colab": {
                    "base_uri": "https://localhost:8080/",
                    "height": 1000
                },
                "id": "t9gbrxZDr9pq",
                "outputId": "49d401f1-07b7-47b8-9224-1e843191f7fd"
            },
            "outputs": [
                {
                    "data": {
                        "text/html": [
                            "\n",
                            "  <div id=\"df-edd785f9-d96d-4b2f-ad5a-e494986454a9\">\n",
                            "    <div class=\"colab-df-container\">\n",
                            "      <div>\n",
                            "<style scoped>\n",
                            "    .dataframe tbody tr th:only-of-type {\n",
                            "        vertical-align: middle;\n",
                            "    }\n",
                            "\n",
                            "    .dataframe tbody tr th {\n",
                            "        vertical-align: top;\n",
                            "    }\n",
                            "\n",
                            "    .dataframe thead th {\n",
                            "        text-align: right;\n",
                            "    }\n",
                            "</style>\n",
                            "<table border=\"1\" class=\"dataframe\">\n",
                            "  <thead>\n",
                            "    <tr style=\"text-align: right;\">\n",
                            "      <th></th>\n",
                            "      <th>category</th>\n",
                            "      <th>content</th>\n",
                            "    </tr>\n",
                            "  </thead>\n",
                            "  <tbody>\n",
                            "    <tr>\n",
                            "      <th>0</th>\n",
                            "      <td>ethique</td>\n",
                            "      <td>Le web2 est cass\u00e9. Et comme lui, l\u2019IA est cass...</td>\n",
                            "    </tr>\n",
                            "    <tr>\n",
                            "      <th>1</th>\n",
                            "      <td>ethique</td>\n",
                            "      <td>Un des avantages des r\u00e9seaux de neurones r\u00e9sid...</td>\n",
                            "    </tr>\n",
                            "    <tr>\n",
                            "      <th>2</th>\n",
                            "      <td>ethique</td>\n",
                            "      <td>Depuis qu\u2019Alan Turing a introduit la question ...</td>\n",
                            "    </tr>\n",
                            "    <tr>\n",
                            "      <th>3</th>\n",
                            "      <td>ethique</td>\n",
                            "      <td>Dans cet article, on vous explique comment uti...</td>\n",
                            "    </tr>\n",
                            "    <tr>\n",
                            "      <th>4</th>\n",
                            "      <td>ethique</td>\n",
                            "      <td>Il y a 3 ans, apr\u00e8s la tech expo de San Franci...</td>\n",
                            "    </tr>\n",
                            "    <tr>\n",
                            "      <th>5</th>\n",
                            "      <td>ethique</td>\n",
                            "      <td>Si vous vous int\u00e9ressez aux mod\u00e8les de traitem...</td>\n",
                            "    </tr>\n",
                            "    <tr>\n",
                            "      <th>6</th>\n",
                            "      <td>ethique</td>\n",
                            "      <td>Ces derniers temps je me suis mis \u00e0 scaner tou...</td>\n",
                            "    </tr>\n",
                            "    <tr>\n",
                            "      <th>7</th>\n",
                            "      <td>ethique</td>\n",
                            "      <td>Les applications de l\u2019intelligence artificiell...</td>\n",
                            "    </tr>\n",
                            "    <tr>\n",
                            "      <th>8</th>\n",
                            "      <td>ethique</td>\n",
                            "      <td>On met souvent en avant les prouesses des syst...</td>\n",
                            "    </tr>\n",
                            "    <tr>\n",
                            "      <th>9</th>\n",
                            "      <td>ethique</td>\n",
                            "      <td>Les \u00e9ditions Eyrolles m\u2019ont gentiment envoy\u00e9s ...</td>\n",
                            "    </tr>\n",
                            "    <tr>\n",
                            "      <th>10</th>\n",
                            "      <td>nlp</td>\n",
                            "      <td>L\u2019optical Character Recognition ou OCR, est un...</td>\n",
                            "    </tr>\n",
                            "    <tr>\n",
                            "      <th>11</th>\n",
                            "      <td>nlp</td>\n",
                            "      <td>Le NLP, ou Natural Language Processing, est le...</td>\n",
                            "    </tr>\n",
                            "    <tr>\n",
                            "      <th>12</th>\n",
                            "      <td>nlp</td>\n",
                            "      <td>Tandis que la course aux mod\u00e8les de g\u00e9n\u00e9ration...</td>\n",
                            "    </tr>\n",
                            "    <tr>\n",
                            "      <th>13</th>\n",
                            "      <td>nlp</td>\n",
                            "      <td>Tandis que des entreprises comme OpenAI sont e...</td>\n",
                            "    </tr>\n",
                            "    <tr>\n",
                            "      <th>14</th>\n",
                            "      <td>nlp</td>\n",
                            "      <td>Un des avantages des r\u00e9seaux de neurones r\u00e9sid...</td>\n",
                            "    </tr>\n",
                            "    <tr>\n",
                            "      <th>15</th>\n",
                            "      <td>nlp</td>\n",
                            "      <td>Le Topic Modeling est une des techniques de NL...</td>\n",
                            "    </tr>\n",
                            "    <tr>\n",
                            "      <th>16</th>\n",
                            "      <td>nlp</td>\n",
                            "      <td>Meta AI vient de rendre open-source un nouveau...</td>\n",
                            "    </tr>\n",
                            "    <tr>\n",
                            "      <th>17</th>\n",
                            "      <td>nlp</td>\n",
                            "      <td>Le Web Scraping est un ensemble de techniques ...</td>\n",
                            "    </tr>\n",
                            "    <tr>\n",
                            "      <th>18</th>\n",
                            "      <td>nlp</td>\n",
                            "      <td>DALL-E est un mod\u00e8le de deep learning, entra\u00een...</td>\n",
                            "    </tr>\n",
                            "    <tr>\n",
                            "      <th>19</th>\n",
                            "      <td>nlp</td>\n",
                            "      <td>Dans cet article, on vous explique comment uti...</td>\n",
                            "    </tr>\n",
                            "    <tr>\n",
                            "      <th>20</th>\n",
                            "      <td>evenements</td>\n",
                            "      <td>Les 26 et 27 septembre derniers j\u2019\u00e9tais \u00e0 AI &amp;...</td>\n",
                            "    </tr>\n",
                            "    <tr>\n",
                            "      <th>21</th>\n",
                            "      <td>evenements</td>\n",
                            "      <td>Plus de 15 000 porteurs de projets, startups e...</td>\n",
                            "    </tr>\n",
                            "    <tr>\n",
                            "      <th>22</th>\n",
                            "      <td>evenements</td>\n",
                            "      <td>La semaine derni\u00e8re, j\u2019\u00e9tais au salon Viva tec...</td>\n",
                            "    </tr>\n",
                            "    <tr>\n",
                            "      <th>23</th>\n",
                            "      <td>evenements</td>\n",
                            "      <td>Les \u00e9ditions ENI m\u2019ont gentiment envoy\u00e9 3 ouvr...</td>\n",
                            "    </tr>\n",
                            "    <tr>\n",
                            "      <th>24</th>\n",
                            "      <td>evenements</td>\n",
                            "      <td>Durant ma derni\u00e8re ann\u00e9e \u00e0 l\u2019ISUP j\u2019ai eu la c...</td>\n",
                            "    </tr>\n",
                            "    <tr>\n",
                            "      <th>25</th>\n",
                            "      <td>evenements</td>\n",
                            "      <td>Les \u00e9ditions Eyrolles m\u2019ont gentiment envoy\u00e9s ...</td>\n",
                            "    </tr>\n",
                            "    <tr>\n",
                            "      <th>26</th>\n",
                            "      <td>evenements</td>\n",
                            "      <td>Les participants sont unanimes, la data c\u2019est ...</td>\n",
                            "    </tr>\n",
                            "    <tr>\n",
                            "      <th>27</th>\n",
                            "      <td>evenements</td>\n",
                            "      <td>Dr GHANIMI Rajae\\nM\u00e9decin sp\u00e9cialiste en m\u00e9dec...</td>\n",
                            "    </tr>\n",
                            "    <tr>\n",
                            "      <th>28</th>\n",
                            "      <td>evenements</td>\n",
                            "      <td>Je ne sais pas vraiment si on peut \u2018\u2019r\u00e9ussir\u2019\u2019...</td>\n",
                            "    </tr>\n",
                            "    <tr>\n",
                            "      <th>29</th>\n",
                            "      <td>evenements</td>\n",
                            "      <td>Comme souvent lorsque l\u2019on parle d\u2019IA, les che...</td>\n",
                            "    </tr>\n",
                            "    <tr>\n",
                            "      <th>30</th>\n",
                            "      <td>ml-dl</td>\n",
                            "      <td>Cet article a \u00e9t\u00e9 r\u00e9dig\u00e9 par Julien Muller, CT...</td>\n",
                            "    </tr>\n",
                            "    <tr>\n",
                            "      <th>31</th>\n",
                            "      <td>ml-dl</td>\n",
                            "      <td>L\u2019optical Character Recognition ou OCR, est un...</td>\n",
                            "    </tr>\n",
                            "    <tr>\n",
                            "      <th>32</th>\n",
                            "      <td>ml-dl</td>\n",
                            "      <td>Le web2 est cass\u00e9. Et comme lui, l\u2019IA est cass...</td>\n",
                            "    </tr>\n",
                            "    <tr>\n",
                            "      <th>33</th>\n",
                            "      <td>ml-dl</td>\n",
                            "      <td>Tandis que la course aux mod\u00e8les de g\u00e9n\u00e9ration...</td>\n",
                            "    </tr>\n",
                            "    <tr>\n",
                            "      <th>34</th>\n",
                            "      <td>ml-dl</td>\n",
                            "      <td>Tandis que des entreprises comme OpenAI sont e...</td>\n",
                            "    </tr>\n",
                            "    <tr>\n",
                            "      <th>35</th>\n",
                            "      <td>ml-dl</td>\n",
                            "      <td>L\u2019apprentissage par la pratique est de loin le...</td>\n",
                            "    </tr>\n",
                            "    <tr>\n",
                            "      <th>36</th>\n",
                            "      <td>ml-dl</td>\n",
                            "      <td>Mbapp\u00e9 : le football il a chang\u00e9.\\nL\u2019intellige...</td>\n",
                            "    </tr>\n",
                            "    <tr>\n",
                            "      <th>37</th>\n",
                            "      <td>ml-dl</td>\n",
                            "      <td>Un des avantages des r\u00e9seaux de neurones r\u00e9sid...</td>\n",
                            "    </tr>\n",
                            "    <tr>\n",
                            "      <th>38</th>\n",
                            "      <td>ml-dl</td>\n",
                            "      <td>Le Topic Modeling est une des techniques de NL...</td>\n",
                            "    </tr>\n",
                            "    <tr>\n",
                            "      <th>39</th>\n",
                            "      <td>ml-dl</td>\n",
                            "      <td>Meta AI vient de rendre open-source un nouveau...</td>\n",
                            "    </tr>\n",
                            "    <tr>\n",
                            "      <th>40</th>\n",
                            "      <td>data-science</td>\n",
                            "      <td>Cet article a \u00e9t\u00e9 r\u00e9dig\u00e9 par Julien Muller, CT...</td>\n",
                            "    </tr>\n",
                            "    <tr>\n",
                            "      <th>41</th>\n",
                            "      <td>data-science</td>\n",
                            "      <td>Le web2 est cass\u00e9. Et comme lui, l\u2019IA est cass...</td>\n",
                            "    </tr>\n",
                            "    <tr>\n",
                            "      <th>42</th>\n",
                            "      <td>data-science</td>\n",
                            "      <td>Tandis que des entreprises comme OpenAI sont e...</td>\n",
                            "    </tr>\n",
                            "    <tr>\n",
                            "      <th>43</th>\n",
                            "      <td>data-science</td>\n",
                            "      <td>L\u2019apprentissage par la pratique est de loin le...</td>\n",
                            "    </tr>\n",
                            "    <tr>\n",
                            "      <th>44</th>\n",
                            "      <td>data-science</td>\n",
                            "      <td>Mbapp\u00e9 : le football il a chang\u00e9.\\nL\u2019intellige...</td>\n",
                            "    </tr>\n",
                            "    <tr>\n",
                            "      <th>45</th>\n",
                            "      <td>data-science</td>\n",
                            "      <td>Vous le connaissez surement si vous utilisez d...</td>\n",
                            "    </tr>\n",
                            "    <tr>\n",
                            "      <th>46</th>\n",
                            "      <td>data-science</td>\n",
                            "      <td>Apr\u00e8s vous avoir introduit \u00e0 la biblioth\u00e8que S...</td>\n",
                            "    </tr>\n",
                            "    <tr>\n",
                            "      <th>47</th>\n",
                            "      <td>data-science</td>\n",
                            "      <td>Le Web Scraping est un ensemble de techniques ...</td>\n",
                            "    </tr>\n",
                            "    <tr>\n",
                            "      <th>48</th>\n",
                            "      <td>data-science</td>\n",
                            "      <td>Dans cet article, on vous explique comment uti...</td>\n",
                            "    </tr>\n",
                            "    <tr>\n",
                            "      <th>49</th>\n",
                            "      <td>data-science</td>\n",
                            "      <td>Ces derni\u00e8res ann\u00e9es le monde du open source a...</td>\n",
                            "    </tr>\n",
                            "    <tr>\n",
                            "      <th>50</th>\n",
                            "      <td>vision</td>\n",
                            "      <td>L\u2019optical Character Recognition ou OCR, est un...</td>\n",
                            "    </tr>\n",
                            "    <tr>\n",
                            "      <th>51</th>\n",
                            "      <td>vision</td>\n",
                            "      <td>Tandis que la course aux mod\u00e8les de g\u00e9n\u00e9ration...</td>\n",
                            "    </tr>\n",
                            "    <tr>\n",
                            "      <th>52</th>\n",
                            "      <td>vision</td>\n",
                            "      <td>Tandis que des entreprises comme OpenAI sont e...</td>\n",
                            "    </tr>\n",
                            "    <tr>\n",
                            "      <th>53</th>\n",
                            "      <td>vision</td>\n",
                            "      <td>L\u2019apprentissage par la pratique est de loin le...</td>\n",
                            "    </tr>\n",
                            "    <tr>\n",
                            "      <th>54</th>\n",
                            "      <td>vision</td>\n",
                            "      <td>Mbapp\u00e9 : le football il a chang\u00e9.\\nL\u2019intellige...</td>\n",
                            "    </tr>\n",
                            "    <tr>\n",
                            "      <th>55</th>\n",
                            "      <td>vision</td>\n",
                            "      <td>Parmi les mod\u00e8les de GANs qui me font fr\u00e9mir, ...</td>\n",
                            "    </tr>\n",
                            "    <tr>\n",
                            "      <th>56</th>\n",
                            "      <td>vision</td>\n",
                            "      <td>DALL-E est un mod\u00e8le de deep learning, entra\u00een...</td>\n",
                            "    </tr>\n",
                            "    <tr>\n",
                            "      <th>57</th>\n",
                            "      <td>vision</td>\n",
                            "      <td>Ces derniers temps je me suis mis \u00e0 scaner tou...</td>\n",
                            "    </tr>\n",
                            "    <tr>\n",
                            "      <th>58</th>\n",
                            "      <td>vision</td>\n",
                            "      <td>Les applications de l\u2019intelligence artificiell...</td>\n",
                            "    </tr>\n",
                            "    <tr>\n",
                            "      <th>59</th>\n",
                            "      <td>vision</td>\n",
                            "      <td>La segmentation d\u2019images est une technique de ...</td>\n",
                            "    </tr>\n",
                            "  </tbody>\n",
                            "</table>\n",
                            "</div>\n",
                            "      <button class=\"colab-df-convert\" onclick=\"convertToInteractive('df-edd785f9-d96d-4b2f-ad5a-e494986454a9')\"\n",
                            "              title=\"Convert this dataframe to an interactive table.\"\n",
                            "              style=\"display:none;\">\n",
                            "        \n",
                            "  <svg xmlns=\"http://www.w3.org/2000/svg\" height=\"24px\"viewBox=\"0 0 24 24\"\n",
                            "       width=\"24px\">\n",
                            "    <path d=\"M0 0h24v24H0V0z\" fill=\"none\"/>\n",
                            "    <path d=\"M18.56 5.44l.94 2.06.94-2.06 2.06-.94-2.06-.94-.94-2.06-.94 2.06-2.06.94zm-11 1L8.5 8.5l.94-2.06 2.06-.94-2.06-.94L8.5 2.5l-.94 2.06-2.06.94zm10 10l.94 2.06.94-2.06 2.06-.94-2.06-.94-.94-2.06-.94 2.06-2.06.94z\"/><path d=\"M17.41 7.96l-1.37-1.37c-.4-.4-.92-.59-1.43-.59-.52 0-1.04.2-1.43.59L10.3 9.45l-7.72 7.72c-.78.78-.78 2.05 0 2.83L4 21.41c.39.39.9.59 1.41.59.51 0 1.02-.2 1.41-.59l7.78-7.78 2.81-2.81c.8-.78.8-2.07 0-2.86zM5.41 20L4 18.59l7.72-7.72 1.47 1.35L5.41 20z\"/>\n",
                            "  </svg>\n",
                            "      </button>\n",
                            "      \n",
                            "  <style>\n",
                            "    .colab-df-container {\n",
                            "      display:flex;\n",
                            "      flex-wrap:wrap;\n",
                            "      gap: 12px;\n",
                            "    }\n",
                            "\n",
                            "    .colab-df-convert {\n",
                            "      background-color: #E8F0FE;\n",
                            "      border: none;\n",
                            "      border-radius: 50%;\n",
                            "      cursor: pointer;\n",
                            "      display: none;\n",
                            "      fill: #1967D2;\n",
                            "      height: 32px;\n",
                            "      padding: 0 0 0 0;\n",
                            "      width: 32px;\n",
                            "    }\n",
                            "\n",
                            "    .colab-df-convert:hover {\n",
                            "      background-color: #E2EBFA;\n",
                            "      box-shadow: 0px 1px 2px rgba(60, 64, 67, 0.3), 0px 1px 3px 1px rgba(60, 64, 67, 0.15);\n",
                            "      fill: #174EA6;\n",
                            "    }\n",
                            "\n",
                            "    [theme=dark] .colab-df-convert {\n",
                            "      background-color: #3B4455;\n",
                            "      fill: #D2E3FC;\n",
                            "    }\n",
                            "\n",
                            "    [theme=dark] .colab-df-convert:hover {\n",
                            "      background-color: #434B5C;\n",
                            "      box-shadow: 0px 1px 3px 1px rgba(0, 0, 0, 0.15);\n",
                            "      filter: drop-shadow(0px 1px 2px rgba(0, 0, 0, 0.3));\n",
                            "      fill: #FFFFFF;\n",
                            "    }\n",
                            "  </style>\n",
                            "\n",
                            "      <script>\n",
                            "        const buttonEl =\n",
                            "          document.querySelector('#df-edd785f9-d96d-4b2f-ad5a-e494986454a9 button.colab-df-convert');\n",
                            "        buttonEl.style.display =\n",
                            "          google.colab.kernel.accessAllowed ? 'block' : 'none';\n",
                            "\n",
                            "        async function convertToInteractive(key) {\n",
                            "          const element = document.querySelector('#df-edd785f9-d96d-4b2f-ad5a-e494986454a9');\n",
                            "          const dataTable =\n",
                            "            await google.colab.kernel.invokeFunction('convertToInteractive',\n",
                            "                                                     [key], {});\n",
                            "          if (!dataTable) return;\n",
                            "\n",
                            "          const docLinkHtml = 'Like what you see? Visit the ' +\n",
                            "            '<a target=\"_blank\" href=https://colab.research.google.com/notebooks/data_table.ipynb>data table notebook</a>'\n",
                            "            + ' to learn more about interactive tables.';\n",
                            "          element.innerHTML = '';\n",
                            "          dataTable['output_type'] = 'display_data';\n",
                            "          await google.colab.output.renderOutput(dataTable, element);\n",
                            "          const docLink = document.createElement('div');\n",
                            "          docLink.innerHTML = docLinkHtml;\n",
                            "          element.appendChild(docLink);\n",
                            "        }\n",
                            "      </script>\n",
                            "    </div>\n",
                            "  </div>\n",
                            "  "
                        ],
                        "text/plain": [
                            "        category                                            content\n",
                            "0        ethique  Le web2 est cass\u00e9. Et comme lui, l\u2019IA est cass...\n",
                            "1        ethique  Un des avantages des r\u00e9seaux de neurones r\u00e9sid...\n",
                            "2        ethique  Depuis qu\u2019Alan Turing a introduit la question ...\n",
                            "3        ethique  Dans cet article, on vous explique comment uti...\n",
                            "4        ethique  Il y a 3 ans, apr\u00e8s la tech expo de San Franci...\n",
                            "5        ethique  Si vous vous int\u00e9ressez aux mod\u00e8les de traitem...\n",
                            "6        ethique  Ces derniers temps je me suis mis \u00e0 scaner tou...\n",
                            "7        ethique  Les applications de l\u2019intelligence artificiell...\n",
                            "8        ethique  On met souvent en avant les prouesses des syst...\n",
                            "9        ethique  Les \u00e9ditions Eyrolles m\u2019ont gentiment envoy\u00e9s ...\n",
                            "10           nlp  L\u2019optical Character Recognition ou OCR, est un...\n",
                            "11           nlp  Le NLP, ou Natural Language Processing, est le...\n",
                            "12           nlp  Tandis que la course aux mod\u00e8les de g\u00e9n\u00e9ration...\n",
                            "13           nlp  Tandis que des entreprises comme OpenAI sont e...\n",
                            "14           nlp  Un des avantages des r\u00e9seaux de neurones r\u00e9sid...\n",
                            "15           nlp  Le Topic Modeling est une des techniques de NL...\n",
                            "16           nlp  Meta AI vient de rendre open-source un nouveau...\n",
                            "17           nlp  Le Web Scraping est un ensemble de techniques ...\n",
                            "18           nlp  DALL-E est un mod\u00e8le de deep learning, entra\u00een...\n",
                            "19           nlp  Dans cet article, on vous explique comment uti...\n",
                            "20    evenements  Les 26 et 27 septembre derniers j\u2019\u00e9tais \u00e0 AI &...\n",
                            "21    evenements  Plus de 15 000 porteurs de projets, startups e...\n",
                            "22    evenements  La semaine derni\u00e8re, j\u2019\u00e9tais au salon Viva tec...\n",
                            "23    evenements  Les \u00e9ditions ENI m\u2019ont gentiment envoy\u00e9 3 ouvr...\n",
                            "24    evenements  Durant ma derni\u00e8re ann\u00e9e \u00e0 l\u2019ISUP j\u2019ai eu la c...\n",
                            "25    evenements  Les \u00e9ditions Eyrolles m\u2019ont gentiment envoy\u00e9s ...\n",
                            "26    evenements  Les participants sont unanimes, la data c\u2019est ...\n",
                            "27    evenements  Dr GHANIMI Rajae\\nM\u00e9decin sp\u00e9cialiste en m\u00e9dec...\n",
                            "28    evenements  Je ne sais pas vraiment si on peut \u2018\u2019r\u00e9ussir\u2019\u2019...\n",
                            "29    evenements  Comme souvent lorsque l\u2019on parle d\u2019IA, les che...\n",
                            "30         ml-dl  Cet article a \u00e9t\u00e9 r\u00e9dig\u00e9 par Julien Muller, CT...\n",
                            "31         ml-dl  L\u2019optical Character Recognition ou OCR, est un...\n",
                            "32         ml-dl  Le web2 est cass\u00e9. Et comme lui, l\u2019IA est cass...\n",
                            "33         ml-dl  Tandis que la course aux mod\u00e8les de g\u00e9n\u00e9ration...\n",
                            "34         ml-dl  Tandis que des entreprises comme OpenAI sont e...\n",
                            "35         ml-dl  L\u2019apprentissage par la pratique est de loin le...\n",
                            "36         ml-dl  Mbapp\u00e9 : le football il a chang\u00e9.\\nL\u2019intellige...\n",
                            "37         ml-dl  Un des avantages des r\u00e9seaux de neurones r\u00e9sid...\n",
                            "38         ml-dl  Le Topic Modeling est une des techniques de NL...\n",
                            "39         ml-dl  Meta AI vient de rendre open-source un nouveau...\n",
                            "40  data-science  Cet article a \u00e9t\u00e9 r\u00e9dig\u00e9 par Julien Muller, CT...\n",
                            "41  data-science  Le web2 est cass\u00e9. Et comme lui, l\u2019IA est cass...\n",
                            "42  data-science  Tandis que des entreprises comme OpenAI sont e...\n",
                            "43  data-science  L\u2019apprentissage par la pratique est de loin le...\n",
                            "44  data-science  Mbapp\u00e9 : le football il a chang\u00e9.\\nL\u2019intellige...\n",
                            "45  data-science  Vous le connaissez surement si vous utilisez d...\n",
                            "46  data-science  Apr\u00e8s vous avoir introduit \u00e0 la biblioth\u00e8que S...\n",
                            "47  data-science  Le Web Scraping est un ensemble de techniques ...\n",
                            "48  data-science  Dans cet article, on vous explique comment uti...\n",
                            "49  data-science  Ces derni\u00e8res ann\u00e9es le monde du open source a...\n",
                            "50        vision  L\u2019optical Character Recognition ou OCR, est un...\n",
                            "51        vision  Tandis que la course aux mod\u00e8les de g\u00e9n\u00e9ration...\n",
                            "52        vision  Tandis que des entreprises comme OpenAI sont e...\n",
                            "53        vision  L\u2019apprentissage par la pratique est de loin le...\n",
                            "54        vision  Mbapp\u00e9 : le football il a chang\u00e9.\\nL\u2019intellige...\n",
                            "55        vision  Parmi les mod\u00e8les de GANs qui me font fr\u00e9mir, ...\n",
                            "56        vision  DALL-E est un mod\u00e8le de deep learning, entra\u00een...\n",
                            "57        vision  Ces derniers temps je me suis mis \u00e0 scaner tou...\n",
                            "58        vision  Les applications de l\u2019intelligence artificiell...\n",
                            "59        vision  La segmentation d\u2019images est une technique de ..."
                        ]
                    },
                    "execution_count": 121,
                    "metadata": {},
                    "output_type": "execute_result"
                }
            ],
            "source": [
                "df_articles"
            ]
        }
    ],
    "metadata": {
        "kernelspec": {
            "display_name": "Python 3",
            "language": "python",
            "name": "python3"
        },
        "language_info": {
            "name": "python",
            "version": "3.7.0"
        },
        "vscode": {
            "interpreter": {
                "hash": "ab1d0033c7335c0fe0bc7bbdf0206b9f203ed6908047dbf4ec92ecd764faa004"
            }
        }
    },
    "nbformat": 4,
    "nbformat_minor": 0
}