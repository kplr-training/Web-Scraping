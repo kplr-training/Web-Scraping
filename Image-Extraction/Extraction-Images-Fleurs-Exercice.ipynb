{
    "cells": [
        {
            "cell_type": "markdown",
            "metadata": {
                "id": "view-in-github",
                "colab_type": "text"
            },
            "source": [
                "<a href=\"https://colab.research.google.com/github/kplr-training/Web-Scraping/blob/main/Image-Extraction/Extraction-Images-Fleurs-Exercice.ipynb\" target=\"_blank\"><img src=\"https://colab.research.google.com/assets/colab-badge.svg\" alt=\"Open In Colab\"/></a>"
            ]
        },
        {
            "cell_type": "markdown",
            "metadata": {
                "id": "HbgnXaw8cC17"
            },
            "source": [
                "# **Extraction des Images de fleurs en utilisant Selenium**"
            ]
        },
        {
            "cell_type": "markdown",
            "metadata": {
                "id": "YMEXFtf-cKqQ"
            },
            "source": [
                "**Notre but est de collecter une base de donn\u00e9es qui contient diff\u00e9rentes images de diff\u00e9rents types de fleurs \u00e0 partir de Google Image en utilisant Selenium**.\n",
                "- Notre programme doit prendre n'importe quel mot cl\u00e9 (par exemple : \"Tulipe\"), ainsi que le nombre d'images n\u00e9cessaires, et r\u00e9cup\u00e9rer ce nombre d'images depuis Google Images sur le navigateur Chrome.\n",
                "- Les images doivent \u00eatre stock\u00e9es dans un dossier, nomm\u00e9 d'apr\u00e8s le terme de recherche, et doivent \u00eatre num\u00e9rot\u00e9es correctement afin de  rendre l'acc\u00e8s et l'interpr\u00e9tation plus faciles.\n"
            ]
        },
        {
            "attachments": {},
            "cell_type": "markdown",
            "metadata": {
                "id": "6jEp1EB3Slu_"
            },
            "source": [
                "![image](https://user-images.githubusercontent.com/123748165/227735095-6d8615ba-fcfb-4381-8cd4-e396faf085f7.png)"
            ]
        },
        {
            "cell_type": "markdown",
            "metadata": {
                "id": "aSoQzvu6ca5K"
            },
            "source": [
                "**Setup & tools:**"
            ]
        },
        {
            "cell_type": "markdown",
            "metadata": {
                "id": "7DESqd95X2xK"
            },
            "source": [
                "**Install Selenium , chromdriver**"
            ]
        },
        {
            "cell_type": "code",
            "execution_count": null,
            "metadata": {
                "id": "2jxni4WaWryX"
            },
            "outputs": [],
            "source": [
                "!sudo add-apt-repository ppa:saiarcot895/chromium-beta\n",
                "!sudo apt remove chromium-browser\n",
                "!sudo snap remove chromium\n",
                "!sudo apt install chromium-browser\n",
                "!pip install selenium-stealth\n",
                "!pip3 install selenium\n",
                "!apt-get update\n",
                "!apt install chromium-chromedriver\n",
                "!cp /usr/lib/chromium-browser/chromedriver /usr/bin\n",
                "import sys\n",
                "sys.path.insert(0,'/usr/lib/chromium-browser/chromedriver')\n"
            ]
        },
        {
            "cell_type": "code",
            "execution_count": null,
            "metadata": {
                "colab": {
                    "base_uri": "https://localhost:8080/"
                },
                "id": "J8R4UBPmXDkn",
                "outputId": "55a02642-7d07-451f-b86c-b3b0a33c38b7"
            },
            "outputs": [
                {
                    "name": "stdout",
                    "output_type": "stream",
                    "text": [
                        "Looking in indexes: https://pypi.org/simple, https://us-python.pkg.dev/colab-wheels/public/simple/\n",
                        "Requirement already satisfied: webdriver_manager in /usr/local/lib/python3.9/dist-packages (3.8.5)\n",
                        "Requirement already satisfied: requests in /usr/local/lib/python3.9/dist-packages (from webdriver_manager) (2.27.1)\n",
                        "Requirement already satisfied: tqdm in /usr/local/lib/python3.9/dist-packages (from webdriver_manager) (4.65.0)\n",
                        "Requirement already satisfied: packaging in /usr/local/lib/python3.9/dist-packages (from webdriver_manager) (23.0)\n",
                        "Requirement already satisfied: python-dotenv in /usr/local/lib/python3.9/dist-packages (from webdriver_manager) (1.0.0)\n",
                        "Requirement already satisfied: charset-normalizer~=2.0.0 in /usr/local/lib/python3.9/dist-packages (from requests->webdriver_manager) (2.0.12)\n",
                        "Requirement already satisfied: urllib3<1.27,>=1.21.1 in /usr/local/lib/python3.9/dist-packages (from requests->webdriver_manager) (1.26.15)\n",
                        "Requirement already satisfied: certifi>=2017.4.17 in /usr/local/lib/python3.9/dist-packages (from requests->webdriver_manager) (2022.12.7)\n",
                        "Requirement already satisfied: idna<4,>=2.5 in /usr/local/lib/python3.9/dist-packages (from requests->webdriver_manager) (3.4)\n"
                    ]
                }
            ],
            "source": [
                "!pip install webdriver_manager"
            ]
        },
        {
            "cell_type": "code",
            "execution_count": null,
            "metadata": {
                "id": "JLXyCzpFWN7Q"
            },
            "outputs": [],
            "source": [
                "import os\n",
                "import selenium\n",
                "from selenium import webdriver\n",
                "import time\n",
                "from PIL import Image\n",
                "import io\n",
                "import requests\n",
                "from webdriver_manager.chrome import ChromeDriverManager\n",
                "from selenium.webdriver.common.by import By\n",
                "from selenium_stealth import stealth"
            ]
        },
        {
            "cell_type": "code",
            "execution_count": null,
            "metadata": {
                "colab": {
                    "base_uri": "https://localhost:8080/"
                },
                "id": "PA7A_QffWR9Y",
                "outputId": "ee384e61-505e-453b-d1c4-d922950c0520"
            },
            "outputs": [
                {
                    "name": "stderr",
                    "output_type": "stream",
                    "text": [
                        "<ipython-input-4-ab540a47837e>:6: DeprecationWarning: use options instead of chrome_options\n",
                        "  wd = webdriver.Chrome('chromedriver',chrome_options=chrome_options)\n",
                        "<ipython-input-4-ab540a47837e>:7: DeprecationWarning: use options instead of chrome_options\n",
                        "  driver =webdriver.Chrome('chromedriver',chrome_options=chrome_options)\n"
                    ]
                }
            ],
            "source": [
                "#Install driver\n",
                "chrome_options = webdriver.ChromeOptions()\n",
                "chrome_options.add_argument('--headless')\n",
                "chrome_options.add_argument('--no-sandbox')\n",
                "chrome_options.add_argument('--disable-dev-shm-usage')\n",
                "wd = webdriver.Chrome('chromedriver',chrome_options=chrome_options)\n",
                "driver =webdriver.Chrome('chromedriver',chrome_options=chrome_options)\n",
                "stealth(driver,\n",
                "              languages=[\"fr-FR\", \"fr\"],\n",
                "              vendor=\"Google Inc.\",\n",
                "              platform=\"Win32\",\n",
                "              webgl_vendor=\"Intel Inc.\",\n",
                "              renderer=\"Intel Iris OpenGL Engine\",\n",
                "              fix_hairline=True,\n",
                "          )"
            ]
        },
        {
            "cell_type": "markdown",
            "metadata": {
                "id": "_SJlWzMoZHOZ"
            },
            "source": [
                "**Scroll jusqu'\u00e0 la fin de la page**\n",
                "- This line of code would help us to reach the end of the page. And then we\u2019re giving sleep time of 5 seconds so we don\u2019t run in problem, where we\u2019re trying to read elements from the page, which is not yet loaded."
            ]
        },
        {
            "cell_type": "code",
            "execution_count": null,
            "metadata": {
                "id": "PbARuRD-WR0d"
            },
            "outputs": [],
            "source": [
                "def scroll_to_end(driver):\n",
                "    driver.execute_script(\"window.scrollTo(0,document.body.scrollHeight);\")\n",
                "    time.sleep(5)"
            ]
        },
        {
            "cell_type": "markdown",
            "metadata": {
                "id": "2eS77mzFZQu_"
            },
            "source": [
                "**Importer les URL des images**\n",
                "- Nous devons d'abord sp\u00e9cifier l'URL de recherche\n",
                "- nous allons utilis\u00e9 l'URL de google image \n",
                "\n",
                "- Ensuite, nous recherchons un type de fleurs dans notre URL de recherche. Collez le lien dans la fonction driver.get(\" Your Link Here \") et ex\u00e9cutez la cellule. Cela ouvrira une nouvelle fen\u00eatre de navigateur pour ce lien.\n",
                "- Ensuite, nous devons localiser les images \u00e0 extraire de la page \u00e0 l'aide de la m\u00e9thode driver.find_elements."
            ]
        },
        {
            "attachments": {},
            "cell_type": "markdown",
            "metadata": {
                "id": "LsTQvHlvZRqS"
            },
            "source": [
                "![image](https://user-images.githubusercontent.com/123748165/227735156-eecf6aab-283a-449b-a0c6-ac1a94b96079.png)"
            ]
        },
        {
            "cell_type": "markdown",
            "metadata": {
                "id": "6dK7p4nbbxjg"
            },
            "source": [
                "- Nous allons maintenant r\u00e9cup\u00e9rer tous les liens d'images pr\u00e9sents sur cette page. Nous allons cr\u00e9er une \"liste\" pour stocker ces liens. Pour ce faire, allez dans la fen\u00eatre du navigateur, faites un clic droit sur la page et s\u00e9lectionnez \"inspecter l'\u00e9l\u00e9ment\" ou activez les outils de d\u00e9veloppement en utilisant Ctrl+Shift+I.\n",
                "\n",
                "- Identifiez maintenant les attributs tels que la classe, l'identifiant, etc. qui sont communs \u00e0 toutes ces images.\n",
                "\n",
                "- Dans notre cas, la classe =\"'Q4LuWd\" est commune \u00e0 toutes ces images.\n",
                "\n",
                " **Extraire le lien correspondant \u00e0 chaque image**\n",
                " \n",
                "- Ainsi, pour t\u00e9l\u00e9charger chaque image, nous devons cliquer sur chaque thumbnail  et extraire les informations pertinentes correspondant \u00e0 cette image.\n",
                "\n",
                "- Dans l'extrait de code ci-dessous, nous effectuons les t\u00e2ches suivantes...\n",
                "\n",
                "    - Parcourir chaque  thumbnail et cliquer dessus.\n",
                "    - Faire dormir notre navigateur pendant 2 secondes (:P).\n",
                "    - Trouver la balise HTML unique correspondant \u00e0 cette image pour la localiser sur la page.\n",
                "    - Nous obtenons toujours plus d'un r\u00e9sultat pour une image donn\u00e9e.  Mais ce qui nous int\u00e9resse, c'est le lien de t\u00e9l\u00e9chargement de cette image.\n",
                "    - Nous parcourons donc chaque r\u00e9sultat pour cette image et en extrayons l'attribut \"src\", puis nous v\u00e9rifions si \"https\" est pr\u00e9sent dans le \"src\" ou non. En effet, les liens web commencent g\u00e9n\u00e9ralement par \"https\"."
            ]
        },
        {
            "cell_type": "markdown",
            "metadata": {
                "id": "1b50xzD-FTE0"
            },
            "source": [
                "- Vous pouvez consulter ce lien pour compl\u00e9ter les trous de codes : https://selenium-python.readthedocs.io/locating-elements.html#locating-by-id"
            ]
        },
        {
            "cell_type": "markdown",
            "metadata": {
                "id": "1AKfcmNpDuE9"
            },
            "source": [
                "**TO DO**"
            ]
        },
        {
            "cell_type": "code",
            "execution_count": null,
            "metadata": {
                "id": "Nxcj_tmSWWod"
            },
            "outputs": [],
            "source": [
                "def getImageUrls(name,totalImgs,driver):\n",
                "    #TODO \n",
                "    #Ajouter ici l'URL de recherche pour une requ\u00eate q dans google image search_url = \"Fill_HERE\"\n",
                "    #Ajouter m\u00e9thode driver.get\n",
                "\n",
                "    img_urls = set()\n",
                "    img_count = 0\n",
                "    results_start = 0  \n",
                "    \n",
                "    while(img_count<totalImgs): #Extraire les images actuelles maintenant\n",
                "        \n",
                "        scroll_to_end(driver)\n",
                "        #TODO\n",
                "        #Ajouter thumbnail_results en utilisant driver.find_elements\n",
                "        totalResults=len(thumbnail_results)\n",
                "        print(f\"Found: {totalResults} search results. Extracting links from {results_start}:{totalResults}\")\n",
                "        \n",
                "        for img in thumbnail_results[results_start:totalResults]:\n",
                "            \n",
                "            img.click()\n",
                "            #ADD_HERE (Mettre le navigateur en veille(sleep) pendant 2 secondes) .\n",
                "            #ADD_HERE(d\u00e9finir actual_images en utilisant driver.find_elements)\n",
                "            #parcourir chaque r\u00e9sultat pour cette image et en extraire l'attribut \"src\", puis voir si \"https\" est pr\u00e9sent dans le \"src\" ou non. \n",
                "                #ADD_HERE\n",
                "            \n",
                "            img_count=len(img_urls)\n",
                "            \n",
                "            if img_count >= totalImgs:\n",
                "                print(f\"Found: {img_count} image links\")\n",
                "                break\n",
                "            else:\n",
                "                print(\"Found:\", img_count, \"looking for more image links ...\")\n",
                "                #TODO\n",
                "                #localiser et d\u00e9finir load_more_button en utilisant driver.find_elements            \n",
                "                driver.execute_script(\"document.querySelector('.mye4qd').click();\")\n",
                "                results_start = len(thumbnail_results)\n",
                "    return img_urls"
            ]
        },
        {
            "cell_type": "markdown",
            "metadata": {
                "id": "vSnkx9-LdMpa"
            },
            "source": [
                "**\u00c9crire une fonction pour t\u00e9l\u00e9charger chaque image**"
            ]
        },
        {
            "cell_type": "code",
            "execution_count": null,
            "metadata": {
                "id": "o1anBYPoWZ4_"
            },
            "outputs": [],
            "source": [
                "def downloadImages(folder_path,file_name,url):\n",
                "    try:\n",
                "        image_content = requests.get(url).content\n",
                "\n",
                "    except Exception as e:\n",
                "        print(f\"ERROR - COULD NOT DOWNLOAD {url} - {e}\")\n",
                "\n",
                "    try:\n",
                "        image_file = io.BytesIO(image_content)\n",
                "        image = Image.open(image_file).convert('RGB')\n",
                "        \n",
                "        file_path = os.path.join(folder_path, file_name)\n",
                "        \n",
                "        with open(file_path, 'wb') as f:\n",
                "            image.save(f, \"JPEG\", quality=85)\n",
                "        print(f\"SAVED - {url} - AT: {file_path}\")\n",
                "    except Exception as e:\n",
                "\n",
                "        print(f\"ERROR - COULD NOT SAVE {url} - {e}\")"
            ]
        },
        {
            "cell_type": "code",
            "execution_count": null,
            "metadata": {
                "id": "56mxx9oSYco3"
            },
            "outputs": [],
            "source": [
                "searchNames=[\"Alstroemeria\",\"Daisy\",\"Rose\",\"Iris\",\"Narcissus\",\"Orchid\",\"Tulip\",\"Sunflower\",\"Cyclamen\",\"Carnation\",\"Poppy\",\"Violet\",\"Mimosa\"]"
            ]
        },
        {
            "cell_type": "markdown",
            "metadata": {
                "id": "aOc6Q76kdbVl"
            },
            "source": [
                "**\u00c9crire une fonction pour enregistrer chaque image dans le r\u00e9pertoire de destination**"
            ]
        },
        {
            "cell_type": "code",
            "execution_count": null,
            "metadata": {
                "id": "_bVHSS0Xo6nh"
            },
            "outputs": [],
            "source": [
                "def saveInDestFolder(searchNames,destDir,totalImgs,driver):\n",
                "    for name in list(searchNames):\n",
                "        path=os.path.join(destDir,name)\n",
                "        if not os.path.isdir(path):\n",
                "            os.mkdir(path)\n",
                "        print('Current Path',path)\n",
                "        totalLinks=getImageUrls(name,totalImgs,driver)\n",
                "        print('totalLinks',totalLinks)\n",
                "\n",
                "        if totalLinks is None:\n",
                "            print('images not found for :',name)\n",
                "            continue\n",
                "        else:\n",
                "            for i, link in enumerate(totalLinks):\n",
                "                file_name = f\"{i:150}.jpg\"\n",
                "                downloadImages(path,file_name,link)\n",
                "            \n",
                "destDir=f'/content/'\n",
                "\n",
                "totalImgs=10\n",
                "\n",
                "saveInDestFolder(searchNames,destDir,totalImgs,driver)"
            ]
        }
    ],
    "metadata": {
        "kernelspec": {
            "display_name": "Python 3",
            "name": "python3"
        },
        "language_info": {
            "name": "python"
        }
    },
    "nbformat": 4,
    "nbformat_minor": 0
}