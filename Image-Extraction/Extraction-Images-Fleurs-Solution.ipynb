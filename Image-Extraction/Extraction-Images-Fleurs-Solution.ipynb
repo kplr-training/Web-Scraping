{
    "cells": [
        {
            "cell_type": "markdown",
            "metadata": {
                "id": "view-in-github",
                "colab_type": "text"
            },
            "source": [
                "<a href=\"https://colab.research.google.com/github/kplr-training/Web-Scraping/blob/main/Image-Extraction/Extraction-Images-Fleurs-Solution.ipynb\" target=\"_blank\"><img src=\"https://colab.research.google.com/assets/colab-badge.svg\" alt=\"Open In Colab\"/></a>"
            ]
        },
        {
            "cell_type": "markdown",
            "metadata": {
                "id": "HbgnXaw8cC17"
            },
            "source": [
                "# **Extraction des Images de fleurs en utilisant Selenium**"
            ]
        },
        {
            "cell_type": "markdown",
            "metadata": {
                "id": "YMEXFtf-cKqQ"
            },
            "source": [
                "**Notre but est de collecter une base de donn\u00e9es qui contient diff\u00e9rentes images de diff\u00e9rents types de fleurs \u00e0 partir de Google Image en utilisant Selenium**.\n",
                "- Notre programme doit prendre n'importe quel mot cl\u00e9 (par exemple : \"Tulipe\"), ainsi que le nombre d'images n\u00e9cessaires, et r\u00e9cup\u00e9rer ce nombre d'images depuis Google Images sur le navigateur Chrome.\n",
                "- Les images doivent \u00eatre stock\u00e9es dans un dossier, nomm\u00e9 d'apr\u00e8s le terme de recherche, et doivent \u00eatre num\u00e9rot\u00e9es correctement afin de  rendre l'acc\u00e8s et l'interpr\u00e9tation plus faciles.\n"
            ]
        },
        {
            "attachments": {},
            "cell_type": "markdown",
            "metadata": {
                "id": "6jEp1EB3Slu_"
            },
            "source": [
                "![image](https://user-images.githubusercontent.com/123748165/227735095-6d8615ba-fcfb-4381-8cd4-e396faf085f7.png)"
            ]
        },
        {
            "cell_type": "markdown",
            "metadata": {
                "id": "aSoQzvu6ca5K"
            },
            "source": [
                "**Setup & tools:**"
            ]
        },
        {
            "cell_type": "markdown",
            "metadata": {
                "id": "7DESqd95X2xK"
            },
            "source": [
                "**Install Selenium , chromdriver**"
            ]
        },
        {
            "cell_type": "code",
            "execution_count": null,
            "metadata": {
                "id": "2jxni4WaWryX"
            },
            "outputs": [],
            "source": [
                "!sudo add-apt-repository ppa:saiarcot895/chromium-beta\n",
                "!sudo apt remove chromium-browser\n",
                "!sudo snap remove chromium\n",
                "!sudo apt install chromium-browser\n",
                "!pip install selenium-stealth\n",
                "!pip3 install selenium\n",
                "!apt-get update\n",
                "!apt install chromium-chromedriver\n",
                "!cp /usr/lib/chromium-browser/chromedriver /usr/bin\n",
                "import sys\n",
                "sys.path.insert(0,'/usr/lib/chromium-browser/chromedriver')\n"
            ]
        },
        {
            "cell_type": "code",
            "execution_count": null,
            "metadata": {
                "id": "J8R4UBPmXDkn"
            },
            "outputs": [],
            "source": [
                "!pip install webdriver_manager"
            ]
        },
        {
            "cell_type": "markdown",
            "metadata": {
                "id": "jc5GNi9PYUm9"
            },
            "source": [
                "- You can find complete documentation on selenium here:https://selenium-python.readthedocs.io/. Documentation is very much self-explanatory so make sure to read it to leverage selenium with Python.\n",
                "\n"
            ]
        },
        {
            "cell_type": "markdown",
            "metadata": {
                "id": "dJ1H2eGbY5HH"
            },
            "source": [
                "**Importer des biblioth\u00e8ques**"
            ]
        },
        {
            "cell_type": "code",
            "execution_count": 3,
            "metadata": {
                "id": "JLXyCzpFWN7Q"
            },
            "outputs": [],
            "source": [
                "import os\n",
                "import selenium\n",
                "from selenium import webdriver\n",
                "import time\n",
                "from PIL import Image\n",
                "import io\n",
                "import requests\n",
                "from webdriver_manager.chrome import ChromeDriverManager\n",
                "from selenium.webdriver.common.by import By\n",
                "from selenium_stealth import stealth"
            ]
        },
        {
            "cell_type": "markdown",
            "metadata": {
                "id": "fFg1wz0vY6y5"
            },
            "source": [
                "**Install Driver**"
            ]
        },
        {
            "cell_type": "code",
            "execution_count": 4,
            "metadata": {
                "colab": {
                    "base_uri": "https://localhost:8080/"
                },
                "id": "PA7A_QffWR9Y",
                "outputId": "ee384e61-505e-453b-d1c4-d922950c0520"
            },
            "outputs": [
                {
                    "name": "stderr",
                    "output_type": "stream",
                    "text": [
                        "<ipython-input-4-ab540a47837e>:6: DeprecationWarning: use options instead of chrome_options\n",
                        "  wd = webdriver.Chrome('chromedriver',chrome_options=chrome_options)\n",
                        "<ipython-input-4-ab540a47837e>:7: DeprecationWarning: use options instead of chrome_options\n",
                        "  driver =webdriver.Chrome('chromedriver',chrome_options=chrome_options)\n"
                    ]
                }
            ],
            "source": [
                "#Install driver\n",
                "chrome_options = webdriver.ChromeOptions()\n",
                "chrome_options.add_argument('--headless')\n",
                "chrome_options.add_argument('--no-sandbox')\n",
                "chrome_options.add_argument('--disable-dev-shm-usage')\n",
                "wd = webdriver.Chrome('chromedriver',chrome_options=chrome_options)\n",
                "driver =webdriver.Chrome('chromedriver',chrome_options=chrome_options)\n",
                "stealth(driver,\n",
                "              languages=[\"fr-FR\", \"fr\"],\n",
                "              vendor=\"Google Inc.\",\n",
                "              platform=\"Win32\",\n",
                "              webgl_vendor=\"Intel Inc.\",\n",
                "              renderer=\"Intel Iris OpenGL Engine\",\n",
                "              fix_hairline=True,\n",
                "          )"
            ]
        },
        {
            "cell_type": "markdown",
            "metadata": {
                "id": "_SJlWzMoZHOZ"
            },
            "source": [
                "**Scroll jusqu'\u00e0 la fin de la page**\n",
                "- This line of code would help us to reach the end of the page. And then we\u2019re giving sleep time of 5 seconds so we don\u2019t run in problem, where we\u2019re trying to read elements from the page, which is not yet loaded."
            ]
        },
        {
            "cell_type": "code",
            "execution_count": 5,
            "metadata": {
                "id": "PbARuRD-WR0d"
            },
            "outputs": [],
            "source": [
                "def scroll_to_end(driver):\n",
                "    driver.execute_script(\"window.scrollTo(0,document.body.scrollHeight);\")\n",
                "    time.sleep(5)"
            ]
        },
        {
            "cell_type": "markdown",
            "metadata": {
                "id": "2eS77mzFZQu_"
            },
            "source": [
                "**Importer les URL des images**\n",
                "- Nous devons d'abord sp\u00e9cifier l'URL de recherche\n",
                "- nous allons utilis\u00e9 l'URL de google image \n",
                "\n",
                "- Ensuite, nous recherchons un type de fleurs dans notre URL de recherche. Collez le lien dans la fonction driver.get(\" Your Link Here \") et ex\u00e9cutez la cellule. Cela ouvrira une nouvelle fen\u00eatre de navigateur pour ce lien.\n",
                "- Ensuite, nous devons localiser les images \u00e0 extraire de la page \u00e0 l'aide de la m\u00e9thode driver.find_elements."
            ]
        },
        {
            "attachments": {},
            "cell_type": "markdown",
            "metadata": {
                "id": "LsTQvHlvZRqS"
            },
            "source": [
                "![image](https://user-images.githubusercontent.com/123748165/227735156-eecf6aab-283a-449b-a0c6-ac1a94b96079.png)"
            ]
        },
        {
            "cell_type": "markdown",
            "metadata": {
                "id": "6dK7p4nbbxjg"
            },
            "source": [
                "- Nous allons maintenant r\u00e9cup\u00e9rer tous les liens d'images pr\u00e9sents sur cette page. Nous allons cr\u00e9er une \"liste\" pour stocker ces liens. Pour ce faire, allez dans la fen\u00eatre du navigateur, faites un clic droit sur la page et s\u00e9lectionnez \"inspecter l'\u00e9l\u00e9ment\" ou activez les outils de d\u00e9veloppement en utilisant Ctrl+Shift+I.\n",
                "\n",
                "- Identifiez maintenant les attributs tels que la classe, l'identifiant, etc. qui sont communs \u00e0 toutes ces images.\n",
                "\n",
                "- Dans notre cas, la classe =\"'Q4LuWd\" est commune \u00e0 toutes ces images.\n",
                "\n",
                " **Extraire le lien correspondant \u00e0 chaque image**\n",
                " \n",
                "- Ainsi, pour t\u00e9l\u00e9charger chaque image, nous devons cliquer sur chaque thumbnail  et extraire les informations pertinentes correspondant \u00e0 cette image.\n",
                "\n",
                "- Dans l'extrait de code ci-dessous, nous effectuons les t\u00e2ches suivantes...\n",
                "\n",
                "    - Parcourir chaque  thumbnail et cliquer dessus.\n",
                "    - Faire dormir notre navigateur pendant 2 secondes (:P).\n",
                "    - Trouver la balise HTML unique correspondant \u00e0 cette image pour la localiser sur la page.\n",
                "    - Nous obtenons toujours plus d'un r\u00e9sultat pour une image donn\u00e9e.  Mais ce qui nous int\u00e9resse, c'est le lien de t\u00e9l\u00e9chargement de cette image.\n",
                "    - Nous parcourons donc chaque r\u00e9sultat pour cette image et en extrayons l'attribut \"src\", puis nous v\u00e9rifions si \"https\" est pr\u00e9sent dans le \"src\" ou non. En effet, les liens web commencent g\u00e9n\u00e9ralement par \"https\"."
            ]
        },
        {
            "cell_type": "markdown",
            "metadata": {
                "id": "1b50xzD-FTE0"
            },
            "source": [
                "- Vous pouvez consulter ce lien pour compl\u00e9ter les trous de codes : https://selenium-python.readthedocs.io/locating-elements.html#locating-by-id"
            ]
        },
        {
            "cell_type": "markdown",
            "metadata": {
                "id": "1AKfcmNpDuE9"
            },
            "source": [
                "**TO DO**"
            ]
        },
        {
            "cell_type": "code",
            "execution_count": 6,
            "metadata": {
                "id": "Nxcj_tmSWWod"
            },
            "outputs": [],
            "source": [
                "def getImageUrls(name,totalImgs,driver):\n",
                "    search_url = \"https://www.google.com/search?safe=off&site=&tbm=isch&source=hp&q={q}&oq={q}&gs_l=img\"\n",
                "    driver.get(search_url.format(q=name))\n",
                "\n",
                "\n",
                "    img_urls = set()\n",
                "    img_count = 0\n",
                "    results_start = 0  \n",
                "    \n",
                "    while(img_count<totalImgs): #Extract actual images now\n",
                "        \n",
                "        scroll_to_end(driver)\n",
                "        thumbnail_results=driver.find_elements(By.CLASS_NAME,'Q4LuWd')\n",
                "        totalResults=len(thumbnail_results)\n",
                "        print(f\"Found: {totalResults} search results. Extracting links from {results_start}:{totalResults}\")\n",
                "        \n",
                "        for img in thumbnail_results[results_start:totalResults]:\n",
                "            \n",
                "            img.click()\n",
                "            time.sleep(2)\n",
                "            actual_images = driver.find_elements(\"css selector\",'img.n3VNCb')\n",
                "            for actual_image in actual_images:\n",
                "                if actual_image.get_attribute('src') and 'https' in actual_image.get_attribute('src'):\n",
                "                    img_urls.add(actual_image.get_attribute('src'))\n",
                "            \n",
                "            img_count=len(img_urls)\n",
                "            \n",
                "            if img_count >= totalImgs:\n",
                "                print(f\"Found: {img_count} image links\")\n",
                "                break\n",
                "            else:\n",
                "                print(\"Found:\", img_count, \"looking for more image links ...\")\n",
                "                load_more_button=driver.find_elements(By.CLASS_NAME,'mye4qd')                \n",
                "                driver.execute_script(\"document.querySelector('.mye4qd').click();\")\n",
                "                results_start = len(thumbnail_results)\n",
                "    return img_urls"
            ]
        },
        {
            "cell_type": "markdown",
            "metadata": {
                "id": "vSnkx9-LdMpa"
            },
            "source": [
                "**\u00c9crire une fonction pour t\u00e9l\u00e9charger chaque image**"
            ]
        },
        {
            "cell_type": "code",
            "execution_count": 7,
            "metadata": {
                "id": "o1anBYPoWZ4_"
            },
            "outputs": [],
            "source": [
                "def downloadImages(folder_path,file_name,url):\n",
                "    try:\n",
                "        image_content = requests.get(url).content\n",
                "\n",
                "    except Exception as e:\n",
                "        print(f\"ERROR - COULD NOT DOWNLOAD {url} - {e}\")\n",
                "\n",
                "    try:\n",
                "        image_file = io.BytesIO(image_content)\n",
                "        image = Image.open(image_file).convert('RGB')\n",
                "        \n",
                "        file_path = os.path.join(folder_path, file_name)\n",
                "        \n",
                "        with open(file_path, 'wb') as f:\n",
                "            image.save(f, \"JPEG\", quality=85)\n",
                "        print(f\"SAVED - {url} - AT: {file_path}\")\n",
                "    except Exception as e:\n",
                "\n",
                "        print(f\"ERROR - COULD NOT SAVE {url} - {e}\")"
            ]
        },
        {
            "cell_type": "code",
            "execution_count": 8,
            "metadata": {
                "id": "56mxx9oSYco3"
            },
            "outputs": [],
            "source": [
                "searchNames=[\"Alstroemeria\",\"Daisy\",\"Rose\",\"Iris\",\"Narcissus\",\"Orchid\",\"Tulip\",\"Sunflower\",\"Cyclamen\",\"Carnation\",\"Poppy\",\"Violet\",\"Mimosa\"]"
            ]
        },
        {
            "cell_type": "markdown",
            "metadata": {
                "id": "aOc6Q76kdbVl"
            },
            "source": [
                "**\u00c9crire une fonction pour enregistrer chaque image dans le r\u00e9pertoire de destination**"
            ]
        },
        {
            "cell_type": "code",
            "execution_count": 9,
            "metadata": {
                "colab": {
                    "base_uri": "https://localhost:8080/"
                },
                "id": "_bVHSS0Xo6nh",
                "outputId": "37f65f7c-1145-4716-e9a5-e3ca1c842f17"
            },
            "outputs": [
                {
                    "name": "stdout",
                    "output_type": "stream",
                    "text": [
                        "Current Path /content/Alstroemeria\n",
                        "Found: 100 search results. Extracting links from 0:100\n",
                        "Found: 1 looking for more image links ...\n",
                        "Found: 2 looking for more image links ...\n",
                        "Found: 3 looking for more image links ...\n",
                        "Found: 4 looking for more image links ...\n",
                        "Found: 5 looking for more image links ...\n",
                        "Found: 6 looking for more image links ...\n",
                        "Found: 6 looking for more image links ...\n",
                        "Found: 7 looking for more image links ...\n",
                        "Found: 8 looking for more image links ...\n",
                        "Found: 9 looking for more image links ...\n",
                        "Found: 10 image links\n",
                        "totalLinks {'https://www.anniesannuals.com/signs/a/images/alstroemeria_ligtu_prop_space_02.jpg', 'https://bloomsbythebox.sirv.com/img/product/xlarge/01968B__Alstroemeria_Lavender.jpg', 'https://florabundance.com/wp-content/uploads/2018/03/Pink-Alstroemeria-scaled-e1589582480299.jpg', 'https://www.cascadefloralwholesale.com/wp-content/uploads/2018/03/ALSTLPI.jpg', 'https://edelweissperennials.blob.core.windows.net/gallery/0001685_alstroemeria-adonis.jpeg', 'https://upload.wikimedia.org/wikipedia/commons/a/a7/Alstroemeria_aurantiaca.jpg', 'https://metroflowermarket.com/wp-content/uploads/2022/02/alstroemeria-orange-hot_pepper.jpg', 'https://cdn.atwilltech.com/flowerdatabase/a/alluring-alstroemeria-arrangement-VA02013.425.jpg', 'https://www.anniesannuals.com/signs/a/images/alstroemeria_third_harmonic_01.jpg', 'https://www.bhg.com/thmb/C4xb7IzcQpoiD9pJXd4vsC1xGwE=/1062x0/filters:no_upscale():strip_icc()/purple-white-alstroemeria-1bbc41b6-d73f172008a543deabf78626381423fa.jpg'}\n",
                        "SAVED - https://www.anniesannuals.com/signs/a/images/alstroemeria_ligtu_prop_space_02.jpg - AT: /content/Alstroemeria/                                                                                                                                                     0.jpg\n",
                        "SAVED - https://bloomsbythebox.sirv.com/img/product/xlarge/01968B__Alstroemeria_Lavender.jpg - AT: /content/Alstroemeria/                                                                                                                                                     1.jpg\n",
                        "SAVED - https://florabundance.com/wp-content/uploads/2018/03/Pink-Alstroemeria-scaled-e1589582480299.jpg - AT: /content/Alstroemeria/                                                                                                                                                     2.jpg\n",
                        "SAVED - https://www.cascadefloralwholesale.com/wp-content/uploads/2018/03/ALSTLPI.jpg - AT: /content/Alstroemeria/                                                                                                                                                     3.jpg\n",
                        "SAVED - https://edelweissperennials.blob.core.windows.net/gallery/0001685_alstroemeria-adonis.jpeg - AT: /content/Alstroemeria/                                                                                                                                                     4.jpg\n",
                        "SAVED - https://upload.wikimedia.org/wikipedia/commons/a/a7/Alstroemeria_aurantiaca.jpg - AT: /content/Alstroemeria/                                                                                                                                                     5.jpg\n",
                        "ERROR - COULD NOT SAVE https://metroflowermarket.com/wp-content/uploads/2022/02/alstroemeria-orange-hot_pepper.jpg - cannot identify image file <_io.BytesIO object at 0x7fe5c407fe00>\n",
                        "SAVED - https://cdn.atwilltech.com/flowerdatabase/a/alluring-alstroemeria-arrangement-VA02013.425.jpg - AT: /content/Alstroemeria/                                                                                                                                                     7.jpg\n",
                        "SAVED - https://www.anniesannuals.com/signs/a/images/alstroemeria_third_harmonic_01.jpg - AT: /content/Alstroemeria/                                                                                                                                                     8.jpg\n",
                        "SAVED - https://www.bhg.com/thmb/C4xb7IzcQpoiD9pJXd4vsC1xGwE=/1062x0/filters:no_upscale():strip_icc()/purple-white-alstroemeria-1bbc41b6-d73f172008a543deabf78626381423fa.jpg - AT: /content/Alstroemeria/                                                                                                                                                     9.jpg\n",
                        "Current Path /content/Daisy\n",
                        "Found: 100 search results. Extracting links from 0:100\n",
                        "Found: 1 looking for more image links ...\n",
                        "Found: 2 looking for more image links ...\n",
                        "Found: 3 looking for more image links ...\n",
                        "Found: 4 looking for more image links ...\n",
                        "Found: 5 looking for more image links ...\n",
                        "Found: 6 looking for more image links ...\n",
                        "Found: 7 looking for more image links ...\n",
                        "Found: 8 looking for more image links ...\n",
                        "Found: 8 looking for more image links ...\n",
                        "Found: 9 looking for more image links ...\n",
                        "Found: 9 looking for more image links ...\n",
                        "Found: 10 image links\n",
                        "totalLinks {'https://gardenerspath.com/wp-content/uploads/2020/03/Daisy-Taxonomy-Cultivation-and-Growing-Guides-FB.jpg', 'https://cdn.shopify.com/s/files/1/0065/4999/5573/files/white_daisies_1024x1024.jpg?v=1667886750', 'https://www.gardeningknowhow.com/wp-content/uploads/2020/06/daisies.jpg', 'https://upload.wikimedia.org/wikipedia/commons/5/53/Belis_peremnis_-_panoramio.jpg', 'https://hips.hearstapps.com/hmg-prod/images/daisy-flower-1532449822.jpg?crop=0.7498666666666667xw:1xh;center,top&resize=1200:*', 'https://www.thespruce.com/thmb/-wN_FsvmZMoMC3yi5hg_5EIJXcU=/1500x0/filters:no_upscale():max_bytes(150000):strip_icc()/oxeye-daisy-growing-guide-5190951-hero-baed472653934a6da8c8f86237dcf7bc.jpg', 'https://cdn.britannica.com/36/82536-050-7E968918/Shasta-daisies.jpg', 'https://www.lovingly.com/wp-content/uploads/2022/03/AdobeStock_123583600-768x1024.jpeg', 'https://thumbs.dreamstime.com/b/daisy-flower-isolated-hand-made-clipping-path-14184671.jpg', 'https://www.allaboutgardening.com/wp-content/uploads/2022/04/daisy-varieties-1200x667.jpeg'}\n",
                        "SAVED - https://gardenerspath.com/wp-content/uploads/2020/03/Daisy-Taxonomy-Cultivation-and-Growing-Guides-FB.jpg - AT: /content/Daisy/                                                                                                                                                     0.jpg\n",
                        "SAVED - https://cdn.shopify.com/s/files/1/0065/4999/5573/files/white_daisies_1024x1024.jpg?v=1667886750 - AT: /content/Daisy/                                                                                                                                                     1.jpg\n",
                        "SAVED - https://www.gardeningknowhow.com/wp-content/uploads/2020/06/daisies.jpg - AT: /content/Daisy/                                                                                                                                                     2.jpg\n",
                        "SAVED - https://upload.wikimedia.org/wikipedia/commons/5/53/Belis_peremnis_-_panoramio.jpg - AT: /content/Daisy/                                                                                                                                                     3.jpg\n",
                        "SAVED - https://hips.hearstapps.com/hmg-prod/images/daisy-flower-1532449822.jpg?crop=0.7498666666666667xw:1xh;center,top&resize=1200:* - AT: /content/Daisy/                                                                                                                                                     4.jpg\n",
                        "SAVED - https://www.thespruce.com/thmb/-wN_FsvmZMoMC3yi5hg_5EIJXcU=/1500x0/filters:no_upscale():max_bytes(150000):strip_icc()/oxeye-daisy-growing-guide-5190951-hero-baed472653934a6da8c8f86237dcf7bc.jpg - AT: /content/Daisy/                                                                                                                                                     5.jpg\n",
                        "SAVED - https://cdn.britannica.com/36/82536-050-7E968918/Shasta-daisies.jpg - AT: /content/Daisy/                                                                                                                                                     6.jpg\n",
                        "SAVED - https://www.lovingly.com/wp-content/uploads/2022/03/AdobeStock_123583600-768x1024.jpeg - AT: /content/Daisy/                                                                                                                                                     7.jpg\n",
                        "SAVED - https://thumbs.dreamstime.com/b/daisy-flower-isolated-hand-made-clipping-path-14184671.jpg - AT: /content/Daisy/                                                                                                                                                     8.jpg\n",
                        "SAVED - https://www.allaboutgardening.com/wp-content/uploads/2022/04/daisy-varieties-1200x667.jpeg - AT: /content/Daisy/                                                                                                                                                     9.jpg\n",
                        "Current Path /content/Rose\n",
                        "Found: 100 search results. Extracting links from 0:100\n",
                        "Found: 0 looking for more image links ...\n",
                        "Found: 1 looking for more image links ...\n",
                        "Found: 2 looking for more image links ...\n",
                        "Found: 2 looking for more image links ...\n",
                        "Found: 3 looking for more image links ...\n",
                        "Found: 4 looking for more image links ...\n",
                        "Found: 5 looking for more image links ...\n",
                        "Found: 6 looking for more image links ...\n",
                        "Found: 7 looking for more image links ...\n",
                        "Found: 8 looking for more image links ...\n",
                        "Found: 9 looking for more image links ...\n",
                        "Found: 10 image links\n",
                        "totalLinks {'https://ellasfloralsandmore.com/wp-content/uploads/2021/05/Ala-Carte-Rose.jpg', 'https://www.almanac.com/sites/default/files/styles/or/public/image_nodes/rose-peach.jpg?itok=Y_6bVHKW', 'https://www.ikea.com/us/en/images/products/smycka-artificial-flower-rose-red__0636963_pe698124_s5.jpg', 'https://cdn.shopify.com/s/files/1/0221/7106/products/Lotus_Rose_1024x1024.jpg?v=1582661928', 'https://easydrawingguides.com/wp-content/uploads/2022/02/realistic-rose-flower-step-by-step-drawing-tutorial-step-10.png', 'https://static.vecteezy.com/system/resources/previews/007/528/227/original/flower-icon-flower-rose-design-illustration-flower-icon-simple-sign-rose-beauty-design-free-vector.jpg', 'https://www.1800flowers.com/blog/wp-content/uploads/2017/03/single-red-rose.jpg', 'https://metroflowermarket.com/wp-content/uploads/2023/01/RosesRed_Freedom.png', 'https://www.starrosesandplants.com/wp-content/uploads/2021/01/Elle_006.jpg', 'https://upload.wikimedia.org/wikipedia/commons/6/64/Garden_roses_%28yellow-red%29.jpg'}\n",
                        "SAVED - https://ellasfloralsandmore.com/wp-content/uploads/2021/05/Ala-Carte-Rose.jpg - AT: /content/Rose/                                                                                                                                                     0.jpg\n",
                        "ERROR - COULD NOT SAVE https://www.almanac.com/sites/default/files/styles/or/public/image_nodes/rose-peach.jpg?itok=Y_6bVHKW - cannot identify image file <_io.BytesIO object at 0x7fe5e17ab220>\n",
                        "SAVED - https://www.ikea.com/us/en/images/products/smycka-artificial-flower-rose-red__0636963_pe698124_s5.jpg - AT: /content/Rose/                                                                                                                                                     2.jpg\n",
                        "SAVED - https://cdn.shopify.com/s/files/1/0221/7106/products/Lotus_Rose_1024x1024.jpg?v=1582661928 - AT: /content/Rose/                                                                                                                                                     3.jpg\n",
                        "ERROR - COULD NOT SAVE https://easydrawingguides.com/wp-content/uploads/2022/02/realistic-rose-flower-step-by-step-drawing-tutorial-step-10.png - cannot identify image file <_io.BytesIO object at 0x7fe5e2753310>\n",
                        "SAVED - https://static.vecteezy.com/system/resources/previews/007/528/227/original/flower-icon-flower-rose-design-illustration-flower-icon-simple-sign-rose-beauty-design-free-vector.jpg - AT: /content/Rose/                                                                                                                                                     5.jpg\n",
                        "SAVED - https://www.1800flowers.com/blog/wp-content/uploads/2017/03/single-red-rose.jpg - AT: /content/Rose/                                                                                                                                                     6.jpg\n",
                        "ERROR - COULD NOT SAVE https://metroflowermarket.com/wp-content/uploads/2023/01/RosesRed_Freedom.png - cannot identify image file <_io.BytesIO object at 0x7fe5c404e1d0>\n",
                        "SAVED - https://www.starrosesandplants.com/wp-content/uploads/2021/01/Elle_006.jpg - AT: /content/Rose/                                                                                                                                                     8.jpg\n",
                        "SAVED - https://upload.wikimedia.org/wikipedia/commons/6/64/Garden_roses_%28yellow-red%29.jpg - AT: /content/Rose/                                                                                                                                                     9.jpg\n",
                        "Current Path /content/Iris\n",
                        "Found: 100 search results. Extracting links from 0:100\n",
                        "Found: 1 looking for more image links ...\n",
                        "Found: 2 looking for more image links ...\n",
                        "Found: 3 looking for more image links ...\n",
                        "Found: 4 looking for more image links ...\n",
                        "Found: 4 looking for more image links ...\n",
                        "Found: 5 looking for more image links ...\n",
                        "Found: 6 looking for more image links ...\n",
                        "Found: 7 looking for more image links ...\n",
                        "Found: 8 looking for more image links ...\n",
                        "Found: 9 looking for more image links ...\n",
                        "Found: 10 image links\n",
                        "totalLinks {'https://floralife.com/wp-content/uploads/2022/04/Iris_2560x1790.png', 'https://www.thespruce.com/thmb/zv5zsbzKn9p2sKPHiN5u9WALv74=/4200x0/filters:no_upscale():max_bytes(150000):strip_icc()/iris-flowers-plant-profile-5120188-hero-ccb44fcb101b4314b913ce5af09f9c1c.jpg', 'https://www.almanac.com/sites/default/files/styles/or/public/image_nodes/iris-flowers.jpg?itok=Svc7zeMA', 'https://my.clevelandclinic.org/-/scassets/Images/org/health/articles/22502-iris', 'https://encrypted-tbn0.gstatic.com/images?q=tbn:ANd9GcSszYPSoXYJ4PJAHin5DUzczOx1lGcqRuMpnLz2d6y9AG_lOZ8r8wZ6lQL5wyFnwXazvzA&usqp=CAU', 'https://upload.wikimedia.org/wikipedia/commons/thumb/9/9e/Iris_sanguinea.JPG/1200px-Iris_sanguinea.JPG', 'https://cdn.britannica.com/11/174711-050-9A8DDE76/Flower-Iris-Siberian-flag-Garden-Close-up.jpg', 'https://media.springernature.com/full/springer-static/image/art%3A10.1038%2Fs41433-021-01809-2/MediaObjects/41433_2021_1809_Fig1_HTML.png', 'https://upload.wikimedia.org/wikipedia/commons/thumb/3/3b/Iris_%28plant%29.jpg/800px-Iris_%28plant%29.jpg', 'https://www.gardenia.net/storage/app/public/plant_family/detail/0EN9yBf0b1d0tfs6Ghn2aCUSGhJyjHHqPr0iqj33.webp'}\n",
                        "SAVED - https://floralife.com/wp-content/uploads/2022/04/Iris_2560x1790.png - AT: /content/Iris/                                                                                                                                                     0.jpg\n",
                        "SAVED - https://www.thespruce.com/thmb/zv5zsbzKn9p2sKPHiN5u9WALv74=/4200x0/filters:no_upscale():max_bytes(150000):strip_icc()/iris-flowers-plant-profile-5120188-hero-ccb44fcb101b4314b913ce5af09f9c1c.jpg - AT: /content/Iris/                                                                                                                                                     1.jpg\n",
                        "ERROR - COULD NOT SAVE https://www.almanac.com/sites/default/files/styles/or/public/image_nodes/iris-flowers.jpg?itok=Svc7zeMA - cannot identify image file <_io.BytesIO object at 0x7fe5c55e0c70>\n",
                        "SAVED - https://my.clevelandclinic.org/-/scassets/Images/org/health/articles/22502-iris - AT: /content/Iris/                                                                                                                                                     3.jpg\n",
                        "SAVED - https://encrypted-tbn0.gstatic.com/images?q=tbn:ANd9GcSszYPSoXYJ4PJAHin5DUzczOx1lGcqRuMpnLz2d6y9AG_lOZ8r8wZ6lQL5wyFnwXazvzA&usqp=CAU - AT: /content/Iris/                                                                                                                                                     4.jpg\n",
                        "SAVED - https://upload.wikimedia.org/wikipedia/commons/thumb/9/9e/Iris_sanguinea.JPG/1200px-Iris_sanguinea.JPG - AT: /content/Iris/                                                                                                                                                     5.jpg\n",
                        "SAVED - https://cdn.britannica.com/11/174711-050-9A8DDE76/Flower-Iris-Siberian-flag-Garden-Close-up.jpg - AT: /content/Iris/                                                                                                                                                     6.jpg\n",
                        "SAVED - https://media.springernature.com/full/springer-static/image/art%3A10.1038%2Fs41433-021-01809-2/MediaObjects/41433_2021_1809_Fig1_HTML.png - AT: /content/Iris/                                                                                                                                                     7.jpg\n",
                        "SAVED - https://upload.wikimedia.org/wikipedia/commons/thumb/3/3b/Iris_%28plant%29.jpg/800px-Iris_%28plant%29.jpg - AT: /content/Iris/                                                                                                                                                     8.jpg\n",
                        "SAVED - https://www.gardenia.net/storage/app/public/plant_family/detail/0EN9yBf0b1d0tfs6Ghn2aCUSGhJyjHHqPr0iqj33.webp - AT: /content/Iris/                                                                                                                                                     9.jpg\n",
                        "Current Path /content/Narcissus\n",
                        "Found: 100 search results. Extracting links from 0:100\n",
                        "Found: 1 looking for more image links ...\n",
                        "Found: 2 looking for more image links ...\n",
                        "Found: 3 looking for more image links ...\n",
                        "Found: 4 looking for more image links ...\n",
                        "Found: 5 looking for more image links ...\n",
                        "Found: 6 looking for more image links ...\n",
                        "Found: 7 looking for more image links ...\n",
                        "Found: 8 looking for more image links ...\n",
                        "Found: 9 looking for more image links ...\n",
                        "Found: 10 image links\n",
                        "totalLinks {'https://cdn.britannica.com/80/120980-050-D1DA5C61/Poet-narcissus.jpg', 'https://s3.amazonaws.com/finegardening.s3.tauntoncloud.com/app/uploads/2014/04/30113058/RGSC-NOV-narcissus-ceylon-jwb-2-700x438.jpg', 'https://encrypted-tbn0.gstatic.com/images?q=tbn:ANd9GcTHDJ602-CZqr4nLjUngpLy10tybOTn6rUMxh7sq38bY3cjw-WgFQd7ZlGBKRyqjtFjQIs&usqp=CAU', 'https://www.whiteflowerfarm.com/mas_assets/cache/image/6/5/d/9/26073.Jpg', 'https://cdn2.psychologytoday.com/assets/styles/manual_crop_1_91_1_1528x800/public/field_blog_entry_teaser_image/2018-03/narcisse.jpg?itok=MNUMJcVl', 'https://www.johnscheepers.com/media/catalog/product/cache/0e0f8b55cb1429f46d7faa85732ae262/n/_/n_golden_echo_1_2.jpg', 'https://assets-news.housing.com/news/wp-content/uploads/2022/10/19072428/Narcissus-Flower-FEATURE-compressed.jpg', 'https://www.gardenia.net/storage/app/public/uploads/images/detail/206565Optimized.webp', 'https://www.johnscheepers.com/media/catalog/product/cache/0e0f8b55cb1429f46d7faa85732ae262/n/_/n_flower_record_1-w.jpg', 'https://a-z-animals.com/media/2022/08/beautiful-pure-white-narcissus-picture-id498257214.jpg'}\n",
                        "SAVED - https://cdn.britannica.com/80/120980-050-D1DA5C61/Poet-narcissus.jpg - AT: /content/Narcissus/                                                                                                                                                     0.jpg\n",
                        "SAVED - https://s3.amazonaws.com/finegardening.s3.tauntoncloud.com/app/uploads/2014/04/30113058/RGSC-NOV-narcissus-ceylon-jwb-2-700x438.jpg - AT: /content/Narcissus/                                                                                                                                                     1.jpg\n",
                        "SAVED - https://encrypted-tbn0.gstatic.com/images?q=tbn:ANd9GcTHDJ602-CZqr4nLjUngpLy10tybOTn6rUMxh7sq38bY3cjw-WgFQd7ZlGBKRyqjtFjQIs&usqp=CAU - AT: /content/Narcissus/                                                                                                                                                     2.jpg\n",
                        "ERROR - COULD NOT SAVE https://www.whiteflowerfarm.com/mas_assets/cache/image/6/5/d/9/26073.Jpg - cannot identify image file <_io.BytesIO object at 0x7fe5c4073ef0>\n",
                        "SAVED - https://cdn2.psychologytoday.com/assets/styles/manual_crop_1_91_1_1528x800/public/field_blog_entry_teaser_image/2018-03/narcisse.jpg?itok=MNUMJcVl - AT: /content/Narcissus/                                                                                                                                                     4.jpg\n",
                        "SAVED - https://www.johnscheepers.com/media/catalog/product/cache/0e0f8b55cb1429f46d7faa85732ae262/n/_/n_golden_echo_1_2.jpg - AT: /content/Narcissus/                                                                                                                                                     5.jpg\n",
                        "SAVED - https://assets-news.housing.com/news/wp-content/uploads/2022/10/19072428/Narcissus-Flower-FEATURE-compressed.jpg - AT: /content/Narcissus/                                                                                                                                                     6.jpg\n",
                        "SAVED - https://www.gardenia.net/storage/app/public/uploads/images/detail/206565Optimized.webp - AT: /content/Narcissus/                                                                                                                                                     7.jpg\n",
                        "SAVED - https://www.johnscheepers.com/media/catalog/product/cache/0e0f8b55cb1429f46d7faa85732ae262/n/_/n_flower_record_1-w.jpg - AT: /content/Narcissus/                                                                                                                                                     8.jpg\n",
                        "ERROR - COULD NOT SAVE https://a-z-animals.com/media/2022/08/beautiful-pure-white-narcissus-picture-id498257214.jpg - cannot identify image file <_io.BytesIO object at 0x7fe5c5bfc6d0>\n",
                        "Current Path /content/Orchid\n",
                        "Found: 100 search results. Extracting links from 0:100\n",
                        "Found: 1 looking for more image links ...\n",
                        "Found: 2 looking for more image links ...\n",
                        "Found: 3 looking for more image links ...\n",
                        "Found: 4 looking for more image links ...\n",
                        "Found: 5 looking for more image links ...\n",
                        "Found: 6 looking for more image links ...\n",
                        "Found: 7 looking for more image links ...\n",
                        "Found: 8 looking for more image links ...\n",
                        "Found: 9 looking for more image links ...\n",
                        "Found: 10 image links\n",
                        "totalLinks {'https://cdn.britannica.com/45/123445-050-37A360E8/Moth-orchid.jpg', 'https://cdn.shopify.com/s/files/1/0150/6262/products/the-sill_white-orchid_bryant_black_variant.jpg?v=1658772624', 'https://www.gardeningknowhow.com/wp-content/uploads/2023/02/orchid.jpg', 'https://www.espoma.com/wp-content/uploads/2021/03/lead-image-scaled.jpg', 'https://upload.wikimedia.org/wikipedia/commons/2/2a/White_orchid_in_Clara_bog._03.jpg', 'https://www.ikea.com/us/en/images/products/fejka-artificial-potted-plant-orchid-white__0748887_pe745276_s5.jpg', 'https://fyf.tac-cdn.net/images/products/large/P-149.jpg?auto=webp&quality=60&width=690', 'https://www.1800flowers.com/blog/wp-content/uploads/2019/09/orchid-facts-hero-1024x576.jpg', 'https://bouqs.com/product_images/growers-choice-orchid/Deluxe/611b7252c8a4ae306eeadb6c/detail.jpg?c=1629188690', 'https://cdn.shopify.com/s/files/1/0150/6262/products/the-sill_petite-white-orchid_bryant_mint_variant.jpg?v=1658946493'}\n",
                        "SAVED - https://cdn.britannica.com/45/123445-050-37A360E8/Moth-orchid.jpg - AT: /content/Orchid/                                                                                                                                                     0.jpg\n",
                        "SAVED - https://cdn.shopify.com/s/files/1/0150/6262/products/the-sill_white-orchid_bryant_black_variant.jpg?v=1658772624 - AT: /content/Orchid/                                                                                                                                                     1.jpg\n",
                        "SAVED - https://www.gardeningknowhow.com/wp-content/uploads/2023/02/orchid.jpg - AT: /content/Orchid/                                                                                                                                                     2.jpg\n",
                        "SAVED - https://www.espoma.com/wp-content/uploads/2021/03/lead-image-scaled.jpg - AT: /content/Orchid/                                                                                                                                                     3.jpg\n",
                        "ERROR - COULD NOT SAVE https://upload.wikimedia.org/wikipedia/commons/2/2a/White_orchid_in_Clara_bog._03.jpg - cannot identify image file <_io.BytesIO object at 0x7fe5c404e1d0>\n",
                        "SAVED - https://www.ikea.com/us/en/images/products/fejka-artificial-potted-plant-orchid-white__0748887_pe745276_s5.jpg - AT: /content/Orchid/                                                                                                                                                     5.jpg\n",
                        "SAVED - https://fyf.tac-cdn.net/images/products/large/P-149.jpg?auto=webp&quality=60&width=690 - AT: /content/Orchid/                                                                                                                                                     6.jpg\n",
                        "SAVED - https://www.1800flowers.com/blog/wp-content/uploads/2019/09/orchid-facts-hero-1024x576.jpg - AT: /content/Orchid/                                                                                                                                                     7.jpg\n",
                        "ERROR - COULD NOT SAVE https://bouqs.com/product_images/growers-choice-orchid/Deluxe/611b7252c8a4ae306eeadb6c/detail.jpg?c=1629188690 - cannot identify image file <_io.BytesIO object at 0x7fe5c55663b0>\n",
                        "SAVED - https://cdn.shopify.com/s/files/1/0150/6262/products/the-sill_petite-white-orchid_bryant_mint_variant.jpg?v=1658946493 - AT: /content/Orchid/                                                                                                                                                     9.jpg\n",
                        "Current Path /content/Tulip\n",
                        "Found: 100 search results. Extracting links from 0:100\n",
                        "Found: 1 looking for more image links ...\n",
                        "Found: 2 looking for more image links ...\n",
                        "Found: 3 looking for more image links ...\n",
                        "Found: 4 looking for more image links ...\n",
                        "Found: 5 looking for more image links ...\n",
                        "Found: 6 looking for more image links ...\n",
                        "Found: 7 looking for more image links ...\n",
                        "Found: 8 looking for more image links ...\n",
                        "Found: 9 looking for more image links ...\n",
                        "Found: 10 image links\n",
                        "totalLinks {'https://cdn.britannica.com/38/227038-050-4FBE131C/Coloful-tulip-flowers.jpg', 'https://cdn.britannica.com/37/227037-050-CA792866/Broken-tulip-flower.jpg', 'https://upload.wikimedia.org/wikipedia/commons/9/9e/%D7%A6%D7%91%D7%A2%D7%95%D7%A0%D7%99%D7%9D.JPG', 'https://www.thespruce.com/thmb/S9mu0T9HfE1_DNnL7yderiiWwj0=/1500x0/filters:no_upscale():max_bytes(150000):strip_icc()/tulips-planting-and-growing-tulips-1402137-06-5c18a69c82114b16bc8eb3baf69935e3.jpg', 'https://www.johnscheepers.com/media/catalog/product/cache/d930fe0a08ba46e42f3f009453557b09/t/_/t_pink_impression_a-w_1.jpg', 'https://www.thespruce.com/thmb/TsI3yNclW-R2QcFTFai5m99iQaY=/1500x0/filters:no_upscale():max_bytes(150000):strip_icc()/tulip-types-for-spring-garden-1315804-hero-5c10c927e00c459eb24c702be447e50d.jpg', 'https://dy1yydbfzm05w.cloudfront.net/media/catalog/product/cache/466bc07fdd9f3406dd5cbfa6621097e2/d/u/dutch_tulip_persimmon_dutch_tulip_stem_2.jpg', 'https://www.johnscheepers.com/media/catalog/product/cache/0e0f8b55cb1429f46d7faa85732ae262/t/_/t_big_love_1-w.jpg', 'https://www.whiteflowerfarm.com/mas_assets/cache/image/7/5/3/c/30012.Jpg', 'https://cdn.accentuate.io/559090204840/1651765103900/Tulip-Single-Rounded-299x315.jpeg?v=0'}\n",
                        "SAVED - https://cdn.britannica.com/38/227038-050-4FBE131C/Coloful-tulip-flowers.jpg - AT: /content/Tulip/                                                                                                                                                     0.jpg\n",
                        "SAVED - https://cdn.britannica.com/37/227037-050-CA792866/Broken-tulip-flower.jpg - AT: /content/Tulip/                                                                                                                                                     1.jpg\n",
                        "SAVED - https://upload.wikimedia.org/wikipedia/commons/9/9e/%D7%A6%D7%91%D7%A2%D7%95%D7%A0%D7%99%D7%9D.JPG - AT: /content/Tulip/                                                                                                                                                     2.jpg\n",
                        "SAVED - https://www.thespruce.com/thmb/S9mu0T9HfE1_DNnL7yderiiWwj0=/1500x0/filters:no_upscale():max_bytes(150000):strip_icc()/tulips-planting-and-growing-tulips-1402137-06-5c18a69c82114b16bc8eb3baf69935e3.jpg - AT: /content/Tulip/                                                                                                                                                     3.jpg\n",
                        "SAVED - https://www.johnscheepers.com/media/catalog/product/cache/d930fe0a08ba46e42f3f009453557b09/t/_/t_pink_impression_a-w_1.jpg - AT: /content/Tulip/                                                                                                                                                     4.jpg\n",
                        "SAVED - https://www.thespruce.com/thmb/TsI3yNclW-R2QcFTFai5m99iQaY=/1500x0/filters:no_upscale():max_bytes(150000):strip_icc()/tulip-types-for-spring-garden-1315804-hero-5c10c927e00c459eb24c702be447e50d.jpg - AT: /content/Tulip/                                                                                                                                                     5.jpg\n",
                        "SAVED - https://dy1yydbfzm05w.cloudfront.net/media/catalog/product/cache/466bc07fdd9f3406dd5cbfa6621097e2/d/u/dutch_tulip_persimmon_dutch_tulip_stem_2.jpg - AT: /content/Tulip/                                                                                                                                                     6.jpg\n",
                        "SAVED - https://www.johnscheepers.com/media/catalog/product/cache/0e0f8b55cb1429f46d7faa85732ae262/t/_/t_big_love_1-w.jpg - AT: /content/Tulip/                                                                                                                                                     7.jpg\n",
                        "ERROR - COULD NOT SAVE https://www.whiteflowerfarm.com/mas_assets/cache/image/7/5/3/c/30012.Jpg - cannot identify image file <_io.BytesIO object at 0x7fe5c55e0b30>\n",
                        "SAVED - https://cdn.accentuate.io/559090204840/1651765103900/Tulip-Single-Rounded-299x315.jpeg?v=0 - AT: /content/Tulip/                                                                                                                                                     9.jpg\n",
                        "Current Path /content/Sunflower\n",
                        "Found: 100 search results. Extracting links from 0:100\n",
                        "Found: 1 looking for more image links ...\n",
                        "Found: 2 looking for more image links ...\n",
                        "Found: 3 looking for more image links ...\n",
                        "Found: 4 looking for more image links ...\n",
                        "Found: 5 looking for more image links ...\n",
                        "Found: 6 looking for more image links ...\n",
                        "Found: 7 looking for more image links ...\n",
                        "Found: 8 looking for more image links ...\n",
                        "Found: 9 looking for more image links ...\n",
                        "Found: 10 image links\n",
                        "totalLinks {'https://upload.wikimedia.org/wikipedia/commons/4/40/Sunflower_sky_backdrop.jpg', 'https://all-americaselections.org/wp-content/uploads/2021/11/Sunflower-Concert-Bell-5-scaled.jpg', 'https://www.highmowingseeds.com/media/catalog/product/cache/6cbdb003cf4aae33b9be8e6a6cf3d7ad/7/1/7104-1.jpg', 'https://www.almanac.com/sites/default/files/styles/or/public/image_nodes/sunflower-1627193_1920.jpg?itok=td7mL8qA', 'https://cdn.wikifarmer.com/wp-content/uploads/2022/06/Sunflower-History-Uses-and-Plant-information.jpg', 'https://cdn.britannica.com/82/7082-050-566913BA/Field-sunflowers-farm-valley-Assiniboine-River-Manitoba.jpg', 'https://cdn.britannica.com/44/174644-050-774B8DD6/Close-up-head-sunflower.jpg', 'https://images.theconversation.com/files/226736/original/file-20180709-122271-nk7jdx.jpg?ixlib=rb-1.1.0&q=45&auto=format&w=1200&h=900.0&fit=crop', 'https://images.unsplash.com/photo-1597848212624-a19eb35e2651?ixlib=rb-4.0.3&ixid=MnwxMjA3fDB8MHxleHBsb3JlLWZlZWR8MXx8fGVufDB8fHx8&w=1000&q=80', 'https://www.1800flowers.com/blog/wp-content/uploads/2019/08/Sunflower_care_hero.jpg'}\n",
                        "SAVED - https://upload.wikimedia.org/wikipedia/commons/4/40/Sunflower_sky_backdrop.jpg - AT: /content/Sunflower/                                                                                                                                                     0.jpg\n",
                        "SAVED - https://all-americaselections.org/wp-content/uploads/2021/11/Sunflower-Concert-Bell-5-scaled.jpg - AT: /content/Sunflower/                                                                                                                                                     1.jpg\n",
                        "SAVED - https://www.highmowingseeds.com/media/catalog/product/cache/6cbdb003cf4aae33b9be8e6a6cf3d7ad/7/1/7104-1.jpg - AT: /content/Sunflower/                                                                                                                                                     2.jpg\n",
                        "ERROR - COULD NOT SAVE https://www.almanac.com/sites/default/files/styles/or/public/image_nodes/sunflower-1627193_1920.jpg?itok=td7mL8qA - cannot identify image file <_io.BytesIO object at 0x7fe5c4073ef0>\n",
                        "SAVED - https://cdn.wikifarmer.com/wp-content/uploads/2022/06/Sunflower-History-Uses-and-Plant-information.jpg - AT: /content/Sunflower/                                                                                                                                                     4.jpg\n",
                        "SAVED - https://cdn.britannica.com/82/7082-050-566913BA/Field-sunflowers-farm-valley-Assiniboine-River-Manitoba.jpg - AT: /content/Sunflower/                                                                                                                                                     5.jpg\n",
                        "SAVED - https://cdn.britannica.com/44/174644-050-774B8DD6/Close-up-head-sunflower.jpg - AT: /content/Sunflower/                                                                                                                                                     6.jpg\n",
                        "SAVED - https://images.theconversation.com/files/226736/original/file-20180709-122271-nk7jdx.jpg?ixlib=rb-1.1.0&q=45&auto=format&w=1200&h=900.0&fit=crop - AT: /content/Sunflower/                                                                                                                                                     7.jpg\n",
                        "SAVED - https://images.unsplash.com/photo-1597848212624-a19eb35e2651?ixlib=rb-4.0.3&ixid=MnwxMjA3fDB8MHxleHBsb3JlLWZlZWR8MXx8fGVufDB8fHx8&w=1000&q=80 - AT: /content/Sunflower/                                                                                                                                                     8.jpg\n",
                        "SAVED - https://www.1800flowers.com/blog/wp-content/uploads/2019/08/Sunflower_care_hero.jpg - AT: /content/Sunflower/                                                                                                                                                     9.jpg\n",
                        "Current Path /content/Cyclamen\n",
                        "Found: 100 search results. Extracting links from 0:100\n",
                        "Found: 1 looking for more image links ...\n",
                        "Found: 2 looking for more image links ...\n",
                        "Found: 3 looking for more image links ...\n",
                        "Found: 4 looking for more image links ...\n",
                        "Found: 4 looking for more image links ...\n",
                        "Found: 5 looking for more image links ...\n",
                        "Found: 6 looking for more image links ...\n",
                        "Found: 6 looking for more image links ...\n",
                        "Found: 7 looking for more image links ...\n",
                        "Found: 8 looking for more image links ...\n",
                        "Found: 9 looking for more image links ...\n",
                        "Found: 10 image links\n",
                        "totalLinks {'https://assets.eflorist.com/site/EF-1366/assets/products/PHR_/sku9990274.jpg', 'https://m.media-amazon.com/images/W/IMAGERENDERING_521856-T1/images/I/61Sg7X4lZxL.jpg', 'https://www.outsidepride.com/images/products/detail/gardenflower/cyclamenpersicum1.jpg', 'https://s3.amazonaws.com/eit-planttoolbox-prod/media/images/Cyclamen_hederifoliu_ElfCbbv8H165.jpeg', 'https://h2.commercev3.net/cdn.brecks.com/images/500/67343.jpg', 'https://h2.commercev3.net/cdn0.dutchbulbs.com/images/500/01614.jpg', 'https://hgtvhome.sndimg.com/content/dam/images/hgtv/fullset/2015/12/9/2/CI_NGB_Cyclamen_DixiePink.jpg.rend.hgtvcom.1280.1707.suffix/1449701306398.jpeg', 'https://cdn11.bigcommerce.com/s-uemzj79jf9/images/stencil/2048x2048/products/335/4065/cyclamen_pic2__75715.1656009204.jpg?c=2', 'https://images.immediate.co.uk/production/volatile/sites/10/2021/02/2048x1365-Cyclamen-SEO-LI1334773-4fe6aef.jpg', 'https://www.gardeningknowhow.com/wp-content/uploads/2020/11/pink-persian-cyclamen-flowers.jpg'}\n",
                        "SAVED - https://assets.eflorist.com/site/EF-1366/assets/products/PHR_/sku9990274.jpg - AT: /content/Cyclamen/                                                                                                                                                     0.jpg\n",
                        "SAVED - https://m.media-amazon.com/images/W/IMAGERENDERING_521856-T1/images/I/61Sg7X4lZxL.jpg - AT: /content/Cyclamen/                                                                                                                                                     1.jpg\n",
                        "SAVED - https://www.outsidepride.com/images/products/detail/gardenflower/cyclamenpersicum1.jpg - AT: /content/Cyclamen/                                                                                                                                                     2.jpg\n",
                        "SAVED - https://s3.amazonaws.com/eit-planttoolbox-prod/media/images/Cyclamen_hederifoliu_ElfCbbv8H165.jpeg - AT: /content/Cyclamen/                                                                                                                                                     3.jpg\n",
                        "SAVED - https://h2.commercev3.net/cdn.brecks.com/images/500/67343.jpg - AT: /content/Cyclamen/                                                                                                                                                     4.jpg\n",
                        "SAVED - https://h2.commercev3.net/cdn0.dutchbulbs.com/images/500/01614.jpg - AT: /content/Cyclamen/                                                                                                                                                     5.jpg\n",
                        "SAVED - https://hgtvhome.sndimg.com/content/dam/images/hgtv/fullset/2015/12/9/2/CI_NGB_Cyclamen_DixiePink.jpg.rend.hgtvcom.1280.1707.suffix/1449701306398.jpeg - AT: /content/Cyclamen/                                                                                                                                                     6.jpg\n",
                        "SAVED - https://cdn11.bigcommerce.com/s-uemzj79jf9/images/stencil/2048x2048/products/335/4065/cyclamen_pic2__75715.1656009204.jpg?c=2 - AT: /content/Cyclamen/                                                                                                                                                     7.jpg\n",
                        "SAVED - https://images.immediate.co.uk/production/volatile/sites/10/2021/02/2048x1365-Cyclamen-SEO-LI1334773-4fe6aef.jpg - AT: /content/Cyclamen/                                                                                                                                                     8.jpg\n",
                        "SAVED - https://www.gardeningknowhow.com/wp-content/uploads/2020/11/pink-persian-cyclamen-flowers.jpg - AT: /content/Cyclamen/                                                                                                                                                     9.jpg\n",
                        "Current Path /content/Carnation\n",
                        "Found: 100 search results. Extracting links from 0:100\n",
                        "Found: 1 looking for more image links ...\n",
                        "Found: 2 looking for more image links ...\n",
                        "Found: 3 looking for more image links ...\n",
                        "Found: 4 looking for more image links ...\n",
                        "Found: 5 looking for more image links ...\n",
                        "Found: 6 looking for more image links ...\n",
                        "Found: 7 looking for more image links ...\n",
                        "Found: 8 looking for more image links ...\n",
                        "Found: 9 looking for more image links ...\n",
                        "Found: 10 image links\n",
                        "totalLinks {'https://www.thespruce.com/thmb/-Sfafv-9bnFVBDAxIAW7plnYWus=/1500x0/filters:no_upscale():max_bytes(150000):strip_icc()/carnation-plant-profile-5111942-hero-b5d409d314e44585abc05834ab8d489a.jpg', 'https://www.cascadefloralwholesale.com/wp-content/uploads/2018/03/CARNRE.jpg', 'https://cdn.shopify.com/s/files/1/0620/2749/7724/products/carnation-la-france-shk-1_51527897-2cca-43be-b6de-817a443be8c4.jpg?v=1652987135&width=1946', 'https://h2.commercev3.net/cdn.gurneys.com/images/800/07912.jpg', 'https://images.immediate.co.uk/production/volatile/sites/18/2021/07/JI_190620_PerpetualCarnations_003-30143f4.jpg', 'https://cdn.shopify.com/s/files/1/0221/7106/products/Bicolor_Red_1024x1024.jpg?v=1550948330', 'https://safnow.org/aboutflowers/wp-content/uploads/sites/7/2016/10/AboutFlowers_S600carnation_Dianthus-Alcazar-Du%CC%88mmenOrange.jpg', 'https://dy1yydbfzm05w.cloudfront.net/media/catalog/product/cache/466bc07fdd9f3406dd5cbfa6621097e2/c/a/carnation_candy_cane_carnation_stem_3.jpg', 'https://cdn.britannica.com/38/189538-050-6EC8A082/carnation-flowers.jpg', 'https://cdn.shopify.com/s/files/1/0558/6144/4642/products/CARNATION1.png?v=1656566439&width=1946'}\n",
                        "SAVED - https://www.thespruce.com/thmb/-Sfafv-9bnFVBDAxIAW7plnYWus=/1500x0/filters:no_upscale():max_bytes(150000):strip_icc()/carnation-plant-profile-5111942-hero-b5d409d314e44585abc05834ab8d489a.jpg - AT: /content/Carnation/                                                                                                                                                     0.jpg\n",
                        "SAVED - https://www.cascadefloralwholesale.com/wp-content/uploads/2018/03/CARNRE.jpg - AT: /content/Carnation/                                                                                                                                                     1.jpg\n",
                        "SAVED - https://cdn.shopify.com/s/files/1/0620/2749/7724/products/carnation-la-france-shk-1_51527897-2cca-43be-b6de-817a443be8c4.jpg?v=1652987135&width=1946 - AT: /content/Carnation/                                                                                                                                                     2.jpg\n",
                        "SAVED - https://h2.commercev3.net/cdn.gurneys.com/images/800/07912.jpg - AT: /content/Carnation/                                                                                                                                                     3.jpg\n",
                        "SAVED - https://images.immediate.co.uk/production/volatile/sites/18/2021/07/JI_190620_PerpetualCarnations_003-30143f4.jpg - AT: /content/Carnation/                                                                                                                                                     4.jpg\n",
                        "SAVED - https://cdn.shopify.com/s/files/1/0221/7106/products/Bicolor_Red_1024x1024.jpg?v=1550948330 - AT: /content/Carnation/                                                                                                                                                     5.jpg\n",
                        "SAVED - https://safnow.org/aboutflowers/wp-content/uploads/sites/7/2016/10/AboutFlowers_S600carnation_Dianthus-Alcazar-Du%CC%88mmenOrange.jpg - AT: /content/Carnation/                                                                                                                                                     6.jpg\n",
                        "SAVED - https://dy1yydbfzm05w.cloudfront.net/media/catalog/product/cache/466bc07fdd9f3406dd5cbfa6621097e2/c/a/carnation_candy_cane_carnation_stem_3.jpg - AT: /content/Carnation/                                                                                                                                                     7.jpg\n",
                        "SAVED - https://cdn.britannica.com/38/189538-050-6EC8A082/carnation-flowers.jpg - AT: /content/Carnation/                                                                                                                                                     8.jpg\n",
                        "SAVED - https://cdn.shopify.com/s/files/1/0558/6144/4642/products/CARNATION1.png?v=1656566439&width=1946 - AT: /content/Carnation/                                                                                                                                                     9.jpg\n",
                        "Current Path /content/Poppy\n",
                        "Found: 100 search results. Extracting links from 0:100\n",
                        "Found: 1 looking for more image links ...\n",
                        "Found: 2 looking for more image links ...\n",
                        "Found: 3 looking for more image links ...\n",
                        "Found: 4 looking for more image links ...\n",
                        "Found: 5 looking for more image links ...\n",
                        "Found: 6 looking for more image links ...\n",
                        "Found: 7 looking for more image links ...\n",
                        "Found: 8 looking for more image links ...\n",
                        "Found: 9 looking for more image links ...\n",
                        "Found: 10 image links\n",
                        "totalLinks {'https://upload.wikimedia.org/wikipedia/commons/thumb/4/4d/Atlas_roslin_pl_Mak_polny_8508_7520.jpg/640px-Atlas_roslin_pl_Mak_polny_8508_7520.jpg', 'https://cdn.cloudflare.steamstatic.com/steam/apps/1721470/capsule_616x353.jpg?t=1651911560', 'https://www.farmersalmanac.com/wp-content/uploads/2022/05/Poppyy-1200x900-1.jpeg', 'https://www.bhg.com/thmb/Fe2vZufmxQaFMCl4k7k1MYKk5hw=/1245x0/filters:no_upscale():strip_icc()/detail-perennial-oriental-poppy-blossoms-820e22c5-fc2bc408119c4beca34fa25de6540ecc.jpg', 'https://m.media-amazon.com/images/W/IMAGERENDERING_521856-T1/images/I/6195-vMWP7S._AC_UF894,1000_QL80_.jpg', 'https://www.thespruce.com/thmb/Mf10Qq5kWQLy8yg-Ol0qlQ2fIyo=/4288x0/filters:no_upscale():max_bytes(150000):strip_icc()/growing-common-poppy-papaver-rhoeas-5113751-hero-3246835ea3184e4bb2c51bd0d331ed42.jpg', 'https://www.kitchengardenseeds.com/media/catalog/product/cache/0e0f8b55cb1429f46d7faa85732ae262/f/f/ffpoppy1-w.jpg', 'https://upload.wikimedia.org/wikipedia/commons/7/71/Poppies_in_the_Sunset_on_Lake_Geneva.jpg', 'https://www.almanac.com/sites/default/files/styles/or/public/image_nodes/shutterstock_1984194854.jpg?itok=_PMASQL4', 'https://www.rd.com/wp-content/uploads/2022/05/GettyImages-72414989-scaled.jpg'}\n",
                        "SAVED - https://upload.wikimedia.org/wikipedia/commons/thumb/4/4d/Atlas_roslin_pl_Mak_polny_8508_7520.jpg/640px-Atlas_roslin_pl_Mak_polny_8508_7520.jpg - AT: /content/Poppy/                                                                                                                                                     0.jpg\n",
                        "SAVED - https://cdn.cloudflare.steamstatic.com/steam/apps/1721470/capsule_616x353.jpg?t=1651911560 - AT: /content/Poppy/                                                                                                                                                     1.jpg\n",
                        "ERROR - COULD NOT DOWNLOAD https://www.farmersalmanac.com/wp-content/uploads/2022/05/Poppyy-1200x900-1.jpeg - ('Connection aborted.', RemoteDisconnected('Remote end closed connection without response'))\n",
                        "ERROR - COULD NOT SAVE https://www.farmersalmanac.com/wp-content/uploads/2022/05/Poppyy-1200x900-1.jpeg - local variable 'image_content' referenced before assignment\n",
                        "SAVED - https://www.bhg.com/thmb/Fe2vZufmxQaFMCl4k7k1MYKk5hw=/1245x0/filters:no_upscale():strip_icc()/detail-perennial-oriental-poppy-blossoms-820e22c5-fc2bc408119c4beca34fa25de6540ecc.jpg - AT: /content/Poppy/                                                                                                                                                     3.jpg\n",
                        "SAVED - https://m.media-amazon.com/images/W/IMAGERENDERING_521856-T1/images/I/6195-vMWP7S._AC_UF894,1000_QL80_.jpg - AT: /content/Poppy/                                                                                                                                                     4.jpg\n",
                        "SAVED - https://www.thespruce.com/thmb/Mf10Qq5kWQLy8yg-Ol0qlQ2fIyo=/4288x0/filters:no_upscale():max_bytes(150000):strip_icc()/growing-common-poppy-papaver-rhoeas-5113751-hero-3246835ea3184e4bb2c51bd0d331ed42.jpg - AT: /content/Poppy/                                                                                                                                                     5.jpg\n",
                        "SAVED - https://www.kitchengardenseeds.com/media/catalog/product/cache/0e0f8b55cb1429f46d7faa85732ae262/f/f/ffpoppy1-w.jpg - AT: /content/Poppy/                                                                                                                                                     6.jpg\n",
                        "ERROR - COULD NOT SAVE https://upload.wikimedia.org/wikipedia/commons/7/71/Poppies_in_the_Sunset_on_Lake_Geneva.jpg - cannot identify image file <_io.BytesIO object at 0x7fe5c5bfc6d0>\n",
                        "ERROR - COULD NOT SAVE https://www.almanac.com/sites/default/files/styles/or/public/image_nodes/shutterstock_1984194854.jpg?itok=_PMASQL4 - cannot identify image file <_io.BytesIO object at 0x7fe5c5534d60>\n",
                        "ERROR - COULD NOT SAVE https://www.rd.com/wp-content/uploads/2022/05/GettyImages-72414989-scaled.jpg - cannot identify image file <_io.BytesIO object at 0x7fe5e17b0400>\n",
                        "Current Path /content/Violet\n",
                        "Found: 100 search results. Extracting links from 0:100\n",
                        "Found: 1 looking for more image links ...\n",
                        "Found: 2 looking for more image links ...\n",
                        "Found: 3 looking for more image links ...\n",
                        "Found: 4 looking for more image links ...\n",
                        "Found: 5 looking for more image links ...\n",
                        "Found: 6 looking for more image links ...\n",
                        "Found: 6 looking for more image links ...\n",
                        "Found: 7 looking for more image links ...\n",
                        "Found: 8 looking for more image links ...\n",
                        "Found: 9 looking for more image links ...\n",
                        "Found: 10 image links\n",
                        "totalLinks {'https://htmlcolorcodes.com/assets/images/colors/violet-color-solid-background-1920x1080.png', 'https://www.bluestoneperennials.com/img/VIHV/650/VIHV-0-Viola-Halo-Violet-bl.1574272820.jpg', 'https://htmlcolorcodes.com/assets/images/colors/light-violet-color-solid-background-1920x1080.png', 'https://www.apyart.com/3005-large_default/violet-pur.jpg', 'https://paintinggal.com/wp-content/uploads/2022/06/purple-vs-violet-1024x703.png', 'https://upload.wikimedia.org/wikipedia/commons/a/a3/Color_icon_violet.png', 'https://upload.wikimedia.org/wikipedia/commons/thumb/8/80/Purple_African_Violet_Top.JPG/640px-Purple_African_Violet_Top.JPG', 'https://imgv3.fotor.com/images/blog-cover-image/violet-color-and-its-hex-code.png', 'https://about.canva.com/wp-content/uploads/sites/8/2019/03/violet.png', 'https://colourlex.com/wp-content/uploads/2021/02/Manganese-violet-painted-swatch.jpg'}\n",
                        "SAVED - https://htmlcolorcodes.com/assets/images/colors/violet-color-solid-background-1920x1080.png - AT: /content/Violet/                                                                                                                                                     0.jpg\n",
                        "SAVED - https://www.bluestoneperennials.com/img/VIHV/650/VIHV-0-Viola-Halo-Violet-bl.1574272820.jpg - AT: /content/Violet/                                                                                                                                                     1.jpg\n"
                    ]
                },
                {
                    "name": "stderr",
                    "output_type": "stream",
                    "text": [
                        "/usr/local/lib/python3.9/dist-packages/PIL/Image.py:975: UserWarning: Palette images with Transparency expressed in bytes should be converted to RGBA images\n",
                        "  warnings.warn(\n"
                    ]
                },
                {
                    "name": "stdout",
                    "output_type": "stream",
                    "text": [
                        "SAVED - https://htmlcolorcodes.com/assets/images/colors/light-violet-color-solid-background-1920x1080.png - AT: /content/Violet/                                                                                                                                                     2.jpg\n",
                        "ERROR - COULD NOT SAVE https://www.apyart.com/3005-large_default/violet-pur.jpg - cannot identify image file <_io.BytesIO object at 0x7fe5bc717a90>\n",
                        "SAVED - https://paintinggal.com/wp-content/uploads/2022/06/purple-vs-violet-1024x703.png - AT: /content/Violet/                                                                                                                                                     4.jpg\n",
                        "SAVED - https://upload.wikimedia.org/wikipedia/commons/a/a3/Color_icon_violet.png - AT: /content/Violet/                                                                                                                                                     5.jpg\n",
                        "SAVED - https://upload.wikimedia.org/wikipedia/commons/thumb/8/80/Purple_African_Violet_Top.JPG/640px-Purple_African_Violet_Top.JPG - AT: /content/Violet/                                                                                                                                                     6.jpg\n",
                        "SAVED - https://imgv3.fotor.com/images/blog-cover-image/violet-color-and-its-hex-code.png - AT: /content/Violet/                                                                                                                                                     7.jpg\n",
                        "SAVED - https://about.canva.com/wp-content/uploads/sites/8/2019/03/violet.png - AT: /content/Violet/                                                                                                                                                     8.jpg\n",
                        "ERROR - COULD NOT SAVE https://colourlex.com/wp-content/uploads/2021/02/Manganese-violet-painted-swatch.jpg - cannot identify image file <_io.BytesIO object at 0x7fe5e185e8b0>\n",
                        "Current Path /content/Mimosa\n",
                        "Found: 100 search results. Extracting links from 0:100\n",
                        "Found: 1 looking for more image links ...\n",
                        "Found: 2 looking for more image links ...\n",
                        "Found: 3 looking for more image links ...\n",
                        "Found: 4 looking for more image links ...\n",
                        "Found: 5 looking for more image links ...\n",
                        "Found: 6 looking for more image links ...\n",
                        "Found: 7 looking for more image links ...\n",
                        "Found: 8 looking for more image links ...\n",
                        "Found: 9 looking for more image links ...\n",
                        "Found: 10 image links\n",
                        "totalLinks {'https://www.theendlessmeal.com/wp-content/uploads/2012/03/Mimosa-3.jpg', 'https://fitfoodiefinds.com/wp-content/uploads/2021/11/Mimosa-09-683x1024.jpg', 'https://www.acouplecooks.com/wp-content/uploads/2020/04/Mimosa-002.jpg', 'https://www.crodapersonalcare.com/croda_image_downloads.ashx?fn=Personalcare_0_Mimosa-shutterstock_128702969.jpg&mn=personalcare&w=768&xr=0&yr=0&xfp=6&yfp=6&hash=29E9C0AAF6719DF430F9ED7FA03CCDC619C138999FEC74AA', 'https://sweetandsavorymeals.com/wp-content/uploads/2020/02/mimosa-featured.jpg', 'https://www.thespruceeats.com/thmb/11iGrbP_DM0KsE_OjO7BlRNI0tY=/1500x0/filters:no_upscale():max_bytes(150000):strip_icc()/basic-mimosa-recipe-3511118-hero-01-49f9c714af1b4231a9417b450b3e66b4.jpg', 'https://www.inspiredtaste.net/wp-content/uploads/2016/06/Mimosa-Cocktail-Recipe-1200.jpg', 'https://cdn.loveandlemons.com/wp-content/uploads/2019/12/mimosa.jpg', 'https://tmbidigitalassetsazure.blob.core.windows.net/rms3-prod/attachments/37/1200x1200/Mimosa_EXPS_DIYDAP22_37187_DR_12_06_7b.jpg', 'https://bakerbynature.com/wp-content/uploads/2022/04/Strawberry-Mimosas-0-15.jpg'}\n",
                        "SAVED - https://www.theendlessmeal.com/wp-content/uploads/2012/03/Mimosa-3.jpg - AT: /content/Mimosa/                                                                                                                                                     0.jpg\n",
                        "SAVED - https://fitfoodiefinds.com/wp-content/uploads/2021/11/Mimosa-09-683x1024.jpg - AT: /content/Mimosa/                                                                                                                                                     1.jpg\n",
                        "SAVED - https://www.acouplecooks.com/wp-content/uploads/2020/04/Mimosa-002.jpg - AT: /content/Mimosa/                                                                                                                                                     2.jpg\n",
                        "ERROR - COULD NOT SAVE https://www.crodapersonalcare.com/croda_image_downloads.ashx?fn=Personalcare_0_Mimosa-shutterstock_128702969.jpg&mn=personalcare&w=768&xr=0&yr=0&xfp=6&yfp=6&hash=29E9C0AAF6719DF430F9ED7FA03CCDC619C138999FEC74AA - cannot identify image file <_io.BytesIO object at 0x7fe5bc709900>\n",
                        "SAVED - https://sweetandsavorymeals.com/wp-content/uploads/2020/02/mimosa-featured.jpg - AT: /content/Mimosa/                                                                                                                                                     4.jpg\n",
                        "SAVED - https://www.thespruceeats.com/thmb/11iGrbP_DM0KsE_OjO7BlRNI0tY=/1500x0/filters:no_upscale():max_bytes(150000):strip_icc()/basic-mimosa-recipe-3511118-hero-01-49f9c714af1b4231a9417b450b3e66b4.jpg - AT: /content/Mimosa/                                                                                                                                                     5.jpg\n",
                        "SAVED - https://www.inspiredtaste.net/wp-content/uploads/2016/06/Mimosa-Cocktail-Recipe-1200.jpg - AT: /content/Mimosa/                                                                                                                                                     6.jpg\n",
                        "SAVED - https://cdn.loveandlemons.com/wp-content/uploads/2019/12/mimosa.jpg - AT: /content/Mimosa/                                                                                                                                                     7.jpg\n",
                        "SAVED - https://tmbidigitalassetsazure.blob.core.windows.net/rms3-prod/attachments/37/1200x1200/Mimosa_EXPS_DIYDAP22_37187_DR_12_06_7b.jpg - AT: /content/Mimosa/                                                                                                                                                     8.jpg\n",
                        "SAVED - https://bakerbynature.com/wp-content/uploads/2022/04/Strawberry-Mimosas-0-15.jpg - AT: /content/Mimosa/                                                                                                                                                     9.jpg\n"
                    ]
                }
            ],
            "source": [
                "def saveInDestFolder(searchNames,destDir,totalImgs,driver):\n",
                "    for name in list(searchNames):\n",
                "        path=os.path.join(destDir,name)\n",
                "        if not os.path.isdir(path):\n",
                "            os.mkdir(path)\n",
                "        print('Current Path',path)\n",
                "        totalLinks=getImageUrls(name,totalImgs,driver)\n",
                "        print('totalLinks',totalLinks)\n",
                "\n",
                "        if totalLinks is None:\n",
                "            print('images not found for :',name)\n",
                "            continue\n",
                "        else:\n",
                "            for i, link in enumerate(totalLinks):\n",
                "                file_name = f\"{i:150}.jpg\"\n",
                "                downloadImages(path,file_name,link)\n",
                "            \n",
                "destDir=f'/content/'\n",
                "\n",
                "totalImgs=10\n",
                "\n",
                "saveInDestFolder(searchNames,destDir,totalImgs,driver)"
            ]
        }
    ],
    "metadata": {
        "kernelspec": {
            "display_name": "Python 3",
            "name": "python3"
        },
        "language_info": {
            "name": "python"
        }
    },
    "nbformat": 4,
    "nbformat_minor": 0
}