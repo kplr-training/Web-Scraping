{
  "cells": [
    {
      "cell_type": "markdown",
      "metadata": {
        "id": "HbgnXaw8cC17"
      },
      "source": [
        "# **Extraction des Images de fleurs en utilisant Selenium**"
      ]
    },
    {
      "cell_type": "markdown",
      "metadata": {
        "id": "YMEXFtf-cKqQ"
      },
      "source": [
        "**Notre but est de collecter une base de données qui contient différentes images de différents types de fleurs à partir de Google Images en utilisant Selenium**.\n",
        "- Notre programme doit prendre n'importe quel mot clé (par exemple : \"Tulipe\"), ainsi que le nombre d'images nécessaires, et récupérer ce nombre d'images depuis Google Images sur le navigateur Chrome.\n",
        "- Les images doivent être stockées dans un dossier, nommé d'après le terme de recherche, et doivent être numérotées correctement afin de  rendre l'accès et l'interprétation plus faciles.\n"
      ]
    },
    {
      "cell_type": "markdown",
      "metadata": {
        "id": "6jEp1EB3Slu_"
      },
      "source": [
        "![image](https://user-images.githubusercontent.com/123748165/227735095-6d8615ba-fcfb-4381-8cd4-e396faf085f7.png)"
      ]
    },
    {
      "cell_type": "markdown",
      "metadata": {
        "id": "aSoQzvu6ca5K"
      },
      "source": [
        "**Setup & tools:**"
      ]
    },
    {
      "cell_type": "markdown",
      "metadata": {
        "id": "7DESqd95X2xK"
      },
      "source": [
        "**Install Selenium , chromdriver**"
      ]
    },
    {
      "cell_type": "code",
      "execution_count": null,
      "metadata": {
        "id": "2jxni4WaWryX"
      },
      "outputs": [],
      "source": [
        "!sudo add-apt-repository ppa:saiarcot895/chromium-beta\n",
        "!sudo apt remove chromium-browser\n",
        "!sudo snap remove chromium\n",
        "!sudo apt install chromium-browser\n",
        "!pip install selenium-stealth\n",
        "!pip3 install selenium\n",
        "!apt-get update\n",
        "!apt install chromium-chromedriver\n",
        "!cp /usr/lib/chromium-browser/chromedriver /usr/bin\n",
        "import sys\n",
        "sys.path.insert(0,'/usr/lib/chromium-browser/chromedriver')\n"
      ]
    },
    {
      "cell_type": "code",
      "execution_count": 2,
      "metadata": {
        "colab": {
          "base_uri": "https://localhost:8080/"
        },
        "id": "J8R4UBPmXDkn",
        "outputId": "078bba64-9b8a-4060-8e29-5bf923f46c2a"
      },
      "outputs": [
        {
          "output_type": "stream",
          "name": "stdout",
          "text": [
            "Looking in indexes: https://pypi.org/simple, https://us-python.pkg.dev/colab-wheels/public/simple/\n",
            "Collecting webdriver_manager\n",
            "  Downloading webdriver_manager-3.8.6-py2.py3-none-any.whl (27 kB)\n",
            "Requirement already satisfied: requests in /usr/local/lib/python3.10/dist-packages (from webdriver_manager) (2.27.1)\n",
            "Collecting python-dotenv (from webdriver_manager)\n",
            "  Downloading python_dotenv-1.0.0-py3-none-any.whl (19 kB)\n",
            "Requirement already satisfied: tqdm in /usr/local/lib/python3.10/dist-packages (from webdriver_manager) (4.65.0)\n",
            "Requirement already satisfied: packaging in /usr/local/lib/python3.10/dist-packages (from webdriver_manager) (23.1)\n",
            "Requirement already satisfied: urllib3<1.27,>=1.21.1 in /usr/local/lib/python3.10/dist-packages (from requests->webdriver_manager) (1.26.15)\n",
            "Requirement already satisfied: certifi>=2017.4.17 in /usr/local/lib/python3.10/dist-packages (from requests->webdriver_manager) (2022.12.7)\n",
            "Requirement already satisfied: charset-normalizer~=2.0.0 in /usr/local/lib/python3.10/dist-packages (from requests->webdriver_manager) (2.0.12)\n",
            "Requirement already satisfied: idna<4,>=2.5 in /usr/local/lib/python3.10/dist-packages (from requests->webdriver_manager) (3.4)\n",
            "Installing collected packages: python-dotenv, webdriver_manager\n",
            "Successfully installed python-dotenv-1.0.0 webdriver_manager-3.8.6\n"
          ]
        }
      ],
      "source": [
        "!pip install webdriver_manager"
      ]
    },
    {
      "cell_type": "code",
      "execution_count": null,
      "metadata": {
        "id": "JLXyCzpFWN7Q"
      },
      "outputs": [],
      "source": [
        "import os\n",
        "import selenium\n",
        "from selenium import webdriver\n",
        "import time\n",
        "from PIL import Image\n",
        "import io\n",
        "import requests\n",
        "from webdriver_manager.chrome import ChromeDriverManager\n",
        "from selenium.webdriver.common.by import By\n",
        "from selenium_stealth import stealth"
      ]
    },
    {
      "cell_type": "code",
      "execution_count": 4,
      "metadata": {
        "colab": {
          "base_uri": "https://localhost:8080/"
        },
        "id": "PA7A_QffWR9Y",
        "outputId": "e04f5de7-34fc-4524-b1bb-5805a667bd98"
      },
      "outputs": [
        {
          "output_type": "stream",
          "name": "stderr",
          "text": [
            "<ipython-input-4-ab540a47837e>:6: DeprecationWarning: use options instead of chrome_options\n",
            "  wd = webdriver.Chrome('chromedriver',chrome_options=chrome_options)\n",
            "<ipython-input-4-ab540a47837e>:7: DeprecationWarning: use options instead of chrome_options\n",
            "  driver =webdriver.Chrome('chromedriver',chrome_options=chrome_options)\n"
          ]
        }
      ],
      "source": [
        "#Install driver\n",
        "chrome_options = webdriver.ChromeOptions()\n",
        "chrome_options.add_argument('--headless')\n",
        "chrome_options.add_argument('--no-sandbox')\n",
        "chrome_options.add_argument('--disable-dev-shm-usage')\n",
        "wd = webdriver.Chrome('chromedriver',chrome_options=chrome_options)\n",
        "driver =webdriver.Chrome('chromedriver',chrome_options=chrome_options)\n",
        "stealth(driver,\n",
        "              languages=[\"fr-FR\", \"fr\"],\n",
        "              vendor=\"Google Inc.\",\n",
        "              platform=\"Win32\",\n",
        "              webgl_vendor=\"Intel Inc.\",\n",
        "              renderer=\"Intel Iris OpenGL Engine\",\n",
        "              fix_hairline=True,\n",
        "          )"
      ]
    },
    {
      "cell_type": "markdown",
      "metadata": {
        "id": "_SJlWzMoZHOZ"
      },
      "source": [
        "**Scroll jusqu'à la fin de la page**\n",
        "- This line of code would help us to reach the end of the page. And then we’re giving sleep time of 5 seconds so we don’t run in problem, where we’re trying to read elements from the page, which is not yet loaded."
      ]
    },
    {
      "cell_type": "code",
      "execution_count": null,
      "metadata": {
        "id": "PbARuRD-WR0d"
      },
      "outputs": [],
      "source": [
        "def scroll_to_end(driver):\n",
        "    driver.execute_script(\"window.scrollTo(0,document.body.scrollHeight);\")\n",
        "    time.sleep(5)"
      ]
    },
    {
      "cell_type": "markdown",
      "metadata": {
        "id": "2eS77mzFZQu_"
      },
      "source": [
        "**Importer les URL des images**\n",
        "- Nous devons d'abord spécifier l'URL de recherche\n",
        "- nous allons utilisé l'URL de google image \n",
        "\n",
        "- Ensuite, nous recherchons un type de fleurs dans notre URL de recherche. Collez le lien dans la fonction driver.get(\" Your Link Here \") et exécutez la cellule. Cela ouvrira une nouvelle fenêtre de navigateur pour ce lien.\n",
        "- Ensuite, nous devons localiser les images à extraire de la page à l'aide de la méthode driver.find_elements."
      ]
    },
    {
      "cell_type": "markdown",
      "metadata": {
        "id": "LsTQvHlvZRqS"
      },
      "source": [
        "![image](https://user-images.githubusercontent.com/123748165/227735156-eecf6aab-283a-449b-a0c6-ac1a94b96079.png)"
      ]
    },
    {
      "cell_type": "markdown",
      "metadata": {
        "id": "6dK7p4nbbxjg"
      },
      "source": [
        "- Nous allons maintenant récupérer tous les liens d'images présents sur cette page. Nous allons créer une \"liste\" pour stocker ces liens. Pour ce faire, allez dans la fenêtre du navigateur, faites un clic droit sur la page et sélectionnez \"inspecter l'élément\" ou activez les outils de développement en utilisant Ctrl+Shift+I.\n",
        "\n",
        "- Identifiez maintenant les attributs tels que la classe, l'identifiant, etc. qui sont communs à toutes ces images.\n",
        "\n",
        "- Dans notre cas, la classe =\"'Q4LuWd\" est commune à toutes ces images.\n",
        "\n",
        " **Extraire le lien correspondant à chaque image**\n",
        " \n",
        "- Ainsi, pour télécharger chaque image, nous devons cliquer sur chaque thumbnail  et extraire les informations pertinentes correspondant à cette image.\n",
        "\n",
        "- Dans l'extrait de code ci-dessous, nous effectuons les tâches suivantes...\n",
        "\n",
        "    - Parcourir chaque  thumbnail et cliquer dessus.\n",
        "    - Faire dormir notre navigateur pendant 2 secondes (:P).\n",
        "    - Trouver la balise HTML unique correspondant à cette image pour la localiser sur la page.\n",
        "    - Nous obtenons toujours plus d'un résultat pour une image donnée.  Mais ce qui nous intéresse, c'est le lien de téléchargement de cette image.\n",
        "    - Nous parcourons donc chaque résultat pour cette image et en extrayons l'attribut \"src\", puis nous vérifions si \"https\" est présent dans le \"src\" ou non. En effet, les liens web commencent généralement par \"https\"."
      ]
    },
    {
      "cell_type": "markdown",
      "metadata": {
        "id": "1b50xzD-FTE0"
      },
      "source": [
        "- Vous pouvez consulter ce lien pour compléter les trous de codes : https://selenium-python.readthedocs.io/locating-elements.html#locating-by-id"
      ]
    },
    {
      "cell_type": "markdown",
      "metadata": {
        "id": "1AKfcmNpDuE9"
      },
      "source": [
        "**TO DO**"
      ]
    },
    {
      "cell_type": "code",
      "execution_count": null,
      "metadata": {
        "id": "Nxcj_tmSWWod"
      },
      "outputs": [],
      "source": [
        "def getImageUrls(name,totalImgs,driver):\n",
        "    #TODO \n",
        "    #Ajouter ici l'URL de recherche pour une requête q dans google image search_url = \"Fill_HERE\"\n",
        "    #Ajouter méthode driver.get\n",
        "\n",
        "    img_urls = set()\n",
        "    img_count = 0\n",
        "    results_start = 0  \n",
        "    \n",
        "    while(img_count<totalImgs): #Extraire les images actuelles maintenant\n",
        "        \n",
        "        scroll_to_end(driver)\n",
        "        #TODO\n",
        "        #Ajouter thumbnail_results en utilisant driver.find_elements\n",
        "        totalResults=len(thumbnail_results)\n",
        "        print(f\"Found: {totalResults} search results. Extracting links from {results_start}:{totalResults}\")\n",
        "        \n",
        "        for img in thumbnail_results[results_start:totalResults]:\n",
        "            #ADD_HERE (Mettre le navigateur en veille(sleep) pendant 2 secondes)\n",
        "            img.click()\n",
        "            #ADD_HERE (Mettre le navigateur en veille(sleep) pendant 2 secondes) .\n",
        "            #ADD_HERE(définir actual_images en utilisant driver.find_elements)\n",
        "            #parcourir chaque résultat pour cette image et en extraire l'attribut \"src\", puis voir si \"https\" est présent dans le \"src\" ou non. \n",
        "                #ADD_HERE(Dans cette boucle vous allez ajouter chaque URL d'image dans img_urls avec la méthode img_urls.add)\n",
        "            \n",
        "            img_count=len(img_urls)\n",
        "            \n",
        "            if img_count >= totalImgs:\n",
        "                print(f\"Found: {img_count} image links\")\n",
        "                break\n",
        "            else:\n",
        "                print(\"Found:\", img_count, \"looking for more image links ...\")\n",
        "                #TODO\n",
        "                #localiser et définir load_more_button en utilisant driver.find_elements            \n",
        "                driver.execute_script(\"document.querySelector('.mye4qd').click();\")\n",
        "                results_start = len(thumbnail_results)\n",
        "    return img_urls"
      ]
    },
    {
      "cell_type": "markdown",
      "metadata": {
        "id": "vSnkx9-LdMpa"
      },
      "source": [
        "**Écrire une fonction pour télécharger chaque image**"
      ]
    },
    {
      "cell_type": "code",
      "execution_count": 7,
      "metadata": {
        "id": "o1anBYPoWZ4_"
      },
      "outputs": [],
      "source": [
        "def downloadImages(folder_path,file_name,url):\n",
        "    try:\n",
        "        image_content = requests.get(url).content\n",
        "\n",
        "    except Exception as e:\n",
        "        print(f\"ERROR - COULD NOT DOWNLOAD {url} - {e}\")\n",
        "\n",
        "    try:\n",
        "        image_file = io.BytesIO(image_content)\n",
        "        image = Image.open(image_file).convert('RGB')\n",
        "        \n",
        "        file_path = os.path.join(folder_path, file_name)\n",
        "        \n",
        "        with open(file_path, 'wb') as f:\n",
        "            image.save(f, \"JPEG\", quality=85)\n",
        "        print(f\"SAVED - {url} - AT: {file_path}\")\n",
        "    except Exception as e:\n",
        "\n",
        "        print(f\"ERROR - COULD NOT SAVE {url} - {e}\")"
      ]
    },
    {
      "cell_type": "code",
      "execution_count": 8,
      "metadata": {
        "id": "56mxx9oSYco3"
      },
      "outputs": [],
      "source": [
        "searchNames=[\"Alstroemeria\",\"Daisy\",\"Rose\",\"Iris\",\"Narcissus\",\"Orchid\",\"Tulip\",\"Sunflower\",\"Cyclamen\",\"Carnation\",\"Poppy\",\"Violet\",\"Mimosa\"]"
      ]
    },
    {
      "cell_type": "markdown",
      "metadata": {
        "id": "aOc6Q76kdbVl"
      },
      "source": [
        "**Écrire une fonction pour enregistrer chaque image dans le répertoire de destination**"
      ]
    },
    {
      "cell_type": "code",
      "execution_count": null,
      "metadata": {
        "id": "_bVHSS0Xo6nh"
      },
      "outputs": [],
      "source": [
        "def saveInDestFolder(searchNames,destDir,totalImgs,driver):\n",
        "    for name in list(searchNames):\n",
        "        path=os.path.join(destDir,name)\n",
        "        if not os.path.isdir(path):\n",
        "            os.mkdir(path)\n",
        "        print('Current Path',path)\n",
        "        totalLinks=getImageUrls(name,totalImgs,driver)\n",
        "        print('totalLinks',totalLinks)\n",
        "\n",
        "        if totalLinks is None:\n",
        "            print('images not found for :',name)\n",
        "            continue\n",
        "        else:\n",
        "            for i, link in enumerate(totalLinks):\n",
        "                file_name = f\"{i:150}.jpg\"\n",
        "                downloadImages(path,file_name,link)\n",
        "            \n",
        "destDir=f'/content/'\n",
        "\n",
        "totalImgs=10\n",
        "\n",
        "saveInDestFolder(searchNames,destDir,totalImgs,driver)"
      ]
    }
  ],
  "metadata": {
    "kernelspec": {
      "display_name": "Python 3",
      "name": "python3"
    },
    "language_info": {
      "name": "python"
    },
    "colab": {
      "provenance": []
    }
  },
  "nbformat": 4,
  "nbformat_minor": 0
}